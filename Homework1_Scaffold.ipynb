{
  "nbformat": 4,
  "nbformat_minor": 0,
  "metadata": {
    "kernelspec": {
      "name": "python3",
      "display_name": "Python 3",
      "language": "python"
    },
    "colab": {
      "name": "Homework1_Scaffold.ipynb",
      "provenance": [],
      "toc_visible": true,
      "include_colab_link": true
    },
    "accelerator": "GPU"
  },
  "cells": [
    {
      "cell_type": "markdown",
      "metadata": {
        "id": "view-in-github",
        "colab_type": "text"
      },
      "source": [
        "<a href=\"https://colab.research.google.com/github/Manisha2297/DataAndBases/blob/master/Homework1_Scaffold.ipynb\" target=\"_parent\"><img src=\"https://colab.research.google.com/assets/colab-badge.svg\" alt=\"Open In Colab\"/></a>"
      ]
    },
    {
      "cell_type": "markdown",
      "metadata": {
        "id": "l1LPcWO2eHvY"
      },
      "source": [
        "![](https://github.com/PadmajaVB/UnivAI_AI-3/blob/main/fig/univ.png?raw=1)\n",
        "\n",
        "# AI-3: Language Models\n",
        "## Homework 1: Embeddings and Language Models\n",
        "\n",
        "**AI3 Cohort 1**<br/>\n",
        "**Univ.AI**<br/>\n",
        "**Instructor**: Pavlos Protopapas<br />\n",
        "**Maximum Score**: 100\n",
        "\n",
        "<hr style=\"height:2.4pt\">"
      ]
    },
    {
      "cell_type": "code",
      "metadata": {
        "id": "_h0qj0bGeHvn"
      },
      "source": [
        "#RUN THIS CELL \n",
        "import requests\n",
        "from IPython.core.display import HTML"
      ],
      "execution_count": null,
      "outputs": []
    },
    {
      "cell_type": "code",
      "metadata": {
        "id": "JejHEQwzeHvo"
      },
      "source": [
        "# Import necessary libraries\n",
        "import re\n",
        "import os\n",
        "import math\n",
        "import zipfile\n",
        "from collections import Counter\n",
        "import numpy as np\n",
        "import pandas as pd\n",
        "import urllib.request\n",
        "import tensorflow as tf\n",
        "import matplotlib.pyplot as plt\n",
        "from sklearn.model_selection import train_test_split\n",
        "from tensorflow.keras.layers import dot\n",
        "from tensorflow.keras.layers import Embedding\n",
        "from tensorflow.keras.preprocessing import sequence\n",
        "from tensorflow.keras.preprocessing.text import Tokenizer\n",
        "from tensorflow.keras.models import Model, Sequential, load_model\n",
        "from tensorflow.keras.layers import Input, Dense, Reshape, SimpleRNN\n",
        "from tensorflow.keras.preprocessing.sequence import skipgrams\n",
        "%matplotlib inline"
      ],
      "execution_count": null,
      "outputs": []
    },
    {
      "cell_type": "markdown",
      "metadata": {
        "id": "PPMYtVTzeHvo"
      },
      "source": [
        "### INSTRUCTIONS\n",
        "\n",
        "\n",
        "- This homework is a jupyter notebook. Download and work on it on your local machine.\n",
        "\n",
        "- This homework should be submitted in pairs.\n",
        "\n",
        "- Ensure you and your partner together have submitted the homework only once. Multiple submissions of the same work will be penalised and will cost you 2 points.\n",
        "\n",
        "- Please restart the kernel and run the entire notebook again before you submit.\n",
        "\n",
        "- Running cells out of order is a common pitfall in Jupyter Notebooks. To make sure your code works restart the kernel and run the whole notebook again before you submit. \n",
        "\n",
        "- To submit the homework, either one of you upload the working notebook on edStem and click the submit button on the bottom right corner.\n",
        "\n",
        "- Submit the homework well before the given deadline. Submissions after the deadline will not be graded.\n",
        "\n",
        "- We have tried to include all the libraries you may need to do the assignment in the imports statement at the top of this notebook. We strongly suggest that you use those and not others as we may not be familiar with them.\n",
        "\n",
        "- Comment your code well. This would help the graders in case there is any issue with the notebook while running. It is important to remember that the graders will not troubleshoot your code. \n",
        "\n",
        "- Please use .head() when viewing data. Do not submit a notebook that is **excessively long**. \n",
        "\n",
        "- In questions that require code to answer, such as \"calculate the $R^2$\", do not just output the value from a cell. Write a `print()` function that includes a reference to the calculated value, **not hardcoded**. For example: \n",
        "```\n",
        "print(f'The R^2 is {R:.4f}')\n",
        "```\n",
        "- Your plots should include clear labels for the $x$ and $y$ axes as well as a descriptive title (\"MSE plot\" is not a descriptive title; \"95 % confidence interval of coefficients of polynomial degree 5\" is).\n",
        "\n",
        "- **Ensure you make appropraite plots for all the questions it is applicable to, regardless of it being explicitly asked for.**\n",
        "\n",
        "<hr style=\"height:2pt\">"
      ]
    },
    {
      "cell_type": "markdown",
      "metadata": {
        "id": "Ke0XQlxXeHvp"
      },
      "source": [
        "### Names of the people who worked on this homework together\n",
        "#### Manisha R and Padmaja V Bhagwat"
      ]
    },
    {
      "cell_type": "markdown",
      "metadata": {
        "id": "YqEwLDl_eHvp"
      },
      "source": [
        "### **DATASET ACCESS**\n",
        "\n",
        "**Please note that all the datasets used in this homework are available to you on edStem. You will find it in the resources tab (on the top right) next to your lessons tab. Additionally, some datasets have been provided in a form that will allow you to access it directly on google colab by uncommenting and running some cells.**"
      ]
    },
    {
      "cell_type": "markdown",
      "metadata": {
        "id": "-iPpuILbeHvp"
      },
      "source": [
        "### **HOMEWORK QUIZ**\n",
        "\n",
        "**For each part of the homework, there is an associated quiz on edStem. You are required to attempt that after completing each section of this homework. Please note that the quiz is one attempt only.**\n",
        "\n",
        "\n",
        "![](https://github.com/PadmajaVB/UnivAI_AI-3/blob/main/fig/one_attempt.png?raw=1)"
      ]
    },
    {
      "cell_type": "markdown",
      "metadata": {
        "id": "bc6P9IjIeHvp"
      },
      "source": [
        "<div class=\"alert alert-block alert-danger\" style=\"color:black;background-color:#E7F4FA\">\n",
        "    \n",
        "## **PART 1 [35 points]: Language Modelling using ngrams**\n",
        "<br />    \n",
        "\n",
        "In the first part of the homework, you are expected to build a language model based on bigrams. You will develop your own sub-word tokenization to analyze dissaster messages from multiple natural disasters dataset. All the sentences are translated into english.\n",
        "\n",
        "\n",
        "You have been tasked to develop a language model to complete messages that for some reason arrive incomplete to a radio station. Given the delicate situation, you will have to be extra careful. Each word in the sentence convey a lot of information, and improper handling of the data can mean harm to someone. \n",
        "    \n",
        "    \n",
        "</div>\n",
        "    "
      ]
    },
    {
      "cell_type": "markdown",
      "metadata": {
        "id": "noT0TNOleHvq"
      },
      "source": [
        "<div class=\"alert alert-block alert-danger\" style=\"color:black;background-color:#E7F4FA\">\n",
        "\n",
        "## **PART 1: Questions**\n",
        "<br />\n",
        "\n",
        "### **1.1 [5 points] PREPROCESS THE DATASET**\n",
        "<br />\n",
        "\n",
        "**1.1.1** - Read in the dataset `disaster_response_messages_training.csv` and select only the column \"message\".\n",
        "<br /><br />\n",
        "\n",
        "**1.1.2** - Define a function `clean_data` that takes the data frame as input, converts the characters to lower case and removes any special characters that you might consider irrelevant,  adds the start token `<s>` and the end token `</s>` to every sentence (row) in the data frame and returns the processed data frame. \n",
        "<br /><br />\n",
        "\n",
        "\n",
        "**1.1.3** - Split the dataset into train and test sets. The proportion should be 0.95 and 0.05, respectively. You will create the language model based on the train set and validate your results on the test set.\n",
        "<br /><br />    \n",
        "\n",
        "\n",
        "\n",
        "    \n",
        "### **1.2 [8 points] TOKENIZE AND COUNT**\n",
        "<br />\n",
        "In this section, you will create three different tokenizers that you will build LM based on. The tokenization functions must divide the text into tokens, count their frequency and return a dictionary with a mapping of token to number.\n",
        "    \n",
        "**1.2.1** - Create your own tokenization function ('tokenizer_1') based on whitespace. Set the vocabulary size to 1000, including the `<UNK>` token for out of the vocabulary (OOV) words. \n",
        "<br /><br />\n",
        "\n",
        "**1.2.2** - Create a second tokenization function ('tokenizer_2') based on whitespace, but do not limit the vocabulary size.\n",
        "<br /><br />\n",
        "\n",
        "**1.2.3** - Create a third tokenization function ('tokenizer_3') based on sub-words. You have to define a set of common sub-words in the English language, for example, the subtokens _ing_ and _n't_.\n",
        "    \n",
        "In this example, the sentence \"_It is raining outside_\" would be tokenized as [_It_, _is_, _rain_, _ing_, _outside_ ].\n",
        "<br /><br />\n",
        "    \n",
        "    \n",
        "    \n",
        "### **1.3 [6 points] CONSTRUCTING BIGRAMS**\n",
        "<br />\n",
        "\n",
        "**1.3.1** - Using each of the tokenizer functions you created, split each sentence into tokens in their numerical representation. \n",
        "<br /><br />\n",
        "\n",
        "**1.3.2** - Count the bigrams in the dataset for each tokenizer and divide them by the total number of bigrams. This will give you the probability of each bigram.\n",
        "<br /><br />\n",
        "    \n",
        "    \n",
        "    \n",
        "### **1.4 [8 points] PREDICTING THE NEXT WORDS**\n",
        "<br />\n",
        "\n",
        "**1.4.1** - Simulate the incomplete messages dividing each sentence of the **test** set into two. For this, split each sentence in a 3:1 ratio. The first $75\\%$ of a sentence will represent the correct message, and the last $25\\%$ will convey the missing information. You will not give this 25% to your model, it is kept hidden. This 25% will only be used to evaluate the predictions of your language model.\n",
        "    \n",
        "For example in the sentence: *\"I will go out on a vacation, now that my semester ended.\"*\n",
        "\n",
        "The first 75% will be *\"I will go out on a vacation, now\"*\n",
        "\n",
        "The last 25% will be *\"that my semeter ended\"*\n",
        "\n",
        "Your aim is to predict the last part by giving your model the first \"part\" of the sentence.\n",
        "\n",
        "\n",
        "Note that in an n-gram language model, only the last $n-1$ words are used to make a prediction. For example, for the above sentence, if you are using bigrams, the input to your model would only be \"now\" and you are expected to predict \"that\".\n",
        "    \n",
        "<br /><br />    \n",
        "    \n",
        "**1.4.2** - Given 5 sentences from the previous question (test set), predict the next word. \n",
        "Append this predicted word to the input sequence and predict the next one. Repeat this process until you reach the 10th token or the end of a sentence. Compare your results qualitatively with the original sentences. Do the results make sense wrt the context and semantics?\n",
        "\n",
        "Repeat this for all the models built using different tokenization techniques.\n",
        "<br /><br />\n",
        "\n",
        "**1.4.3** - Repeat the same exercise, for all 3 models, but this time, the next token will be sampled from a distribution given by the bigram frequency. Compare and comment on the results?\n",
        "\n",
        "\n",
        "*Hint:* In a model of two bigrams with frequencies 0.7 and 0.3, a deterministic prediction will only predict the first bigram. Sampling from a distribution, will enable the model to predict the second bigram with a probability of 0.3. In this way we can still predict infrequent tokens. \n",
        "<br /><br />\n",
        "    \n",
        "\n",
        "### **1.5 [5 points] EVALUATE THE LANGUAGE MODELS**\n",
        "<br />\n",
        "\n",
        "    \n",
        "**1.5.1** - For each of the models built using different tokenization techniques, compute the average perplexity in the test set (part 1.1.3). Perform smoothing on the bigram models. Based on the perplexity, which model is better?\n",
        "<br /><br />\n",
        "\n",
        "**1.5.2** - Given the perplexities, which model do you think is better? Why do you think so? Does this reflect the quality of the prediction as seen in part 1.4? \n",
        " What is the effect of UNK words?\n",
        "\n",
        "<br /><br />\n",
        "\n",
        "### **1.6 [3 points] HOMEWORK QUIZ**\n",
        "<br />\n",
        "After attempting this part of the homework, answer the questions on edStem. All the questions depend on this part of the homework and you will not be able to answer them without attempting this part.\n",
        "\n",
        "<br /><br />\n",
        "\n",
        "</div>"
      ]
    },
    {
      "cell_type": "code",
      "metadata": {
        "id": "ncCnPL2Be6Bd",
        "colab": {
          "base_uri": "https://localhost:8080/"
        },
        "outputId": "1018c643-16ea-46ff-f7f4-42207eb48af3"
      },
      "source": [
        "from google.colab import drive\n",
        "drive.mount('/content/drive')"
      ],
      "execution_count": null,
      "outputs": [
        {
          "output_type": "stream",
          "text": [
            "Mounted at /content/drive\n"
          ],
          "name": "stdout"
        }
      ]
    },
    {
      "cell_type": "markdown",
      "metadata": {
        "id": "ll4Mrj7feHvt"
      },
      "source": [
        "<div class=\"alert alert-block alert-danger\" style=\"color:black;background-color:#E7F4FA\">\n",
        "    \n",
        "## **PART 1: Solutions**\n",
        "    \n",
        "### **1.1 [5 points] PREPROCESS THE DATASET**\n",
        "<br />\n",
        "\n",
        "**1.1.1** - Read in the dataset `disaster_response_messages_training.csv` and select only the column \"message\".\n",
        "<br /><br />\n",
        "\n",
        "    \n",
        "</div>"
      ]
    },
    {
      "cell_type": "code",
      "metadata": {
        "id": "WUGkyUoTeHvu",
        "colab": {
          "base_uri": "https://localhost:8080/"
        },
        "outputId": "463b4929-b73d-4665-cacd-d5b961829de8"
      },
      "source": [
        "# Your code here\n",
        "raw_data = pd.read_csv('/content/drive/MyDrive/UnivAI/Univ AI 3/Homework 1 - Part 1 Dataset.csv')\n",
        "raw_data = raw_data[['message']]"
      ],
      "execution_count": null,
      "outputs": [
        {
          "output_type": "stream",
          "text": [
            "/usr/local/lib/python3.7/dist-packages/IPython/core/interactiveshell.py:2718: DtypeWarning: Columns (3) have mixed types.Specify dtype option on import or set low_memory=False.\n",
            "  interactivity=interactivity, compiler=compiler, result=result)\n"
          ],
          "name": "stderr"
        }
      ]
    },
    {
      "cell_type": "code",
      "metadata": {
        "id": "JaZUBqYDfLOc",
        "colab": {
          "base_uri": "https://localhost:8080/",
          "height": 204
        },
        "outputId": "99b53bf8-d768-41cd-9ca6-40a273480eec"
      },
      "source": [
        "raw_data.head()"
      ],
      "execution_count": null,
      "outputs": [
        {
          "output_type": "execute_result",
          "data": {
            "text/html": [
              "<div>\n",
              "<style scoped>\n",
              "    .dataframe tbody tr th:only-of-type {\n",
              "        vertical-align: middle;\n",
              "    }\n",
              "\n",
              "    .dataframe tbody tr th {\n",
              "        vertical-align: top;\n",
              "    }\n",
              "\n",
              "    .dataframe thead th {\n",
              "        text-align: right;\n",
              "    }\n",
              "</style>\n",
              "<table border=\"1\" class=\"dataframe\">\n",
              "  <thead>\n",
              "    <tr style=\"text-align: right;\">\n",
              "      <th></th>\n",
              "      <th>message</th>\n",
              "    </tr>\n",
              "  </thead>\n",
              "  <tbody>\n",
              "    <tr>\n",
              "      <th>0</th>\n",
              "      <td>Weather update - a cold front from Cuba that c...</td>\n",
              "    </tr>\n",
              "    <tr>\n",
              "      <th>1</th>\n",
              "      <td>Is the Hurricane over or is it not over</td>\n",
              "    </tr>\n",
              "    <tr>\n",
              "      <th>2</th>\n",
              "      <td>says: west side of Haiti, rest of the country ...</td>\n",
              "    </tr>\n",
              "    <tr>\n",
              "      <th>3</th>\n",
              "      <td>Information about the National Palace-</td>\n",
              "    </tr>\n",
              "    <tr>\n",
              "      <th>4</th>\n",
              "      <td>Storm at sacred heart of jesus</td>\n",
              "    </tr>\n",
              "  </tbody>\n",
              "</table>\n",
              "</div>"
            ],
            "text/plain": [
              "                                             message\n",
              "0  Weather update - a cold front from Cuba that c...\n",
              "1            Is the Hurricane over or is it not over\n",
              "2  says: west side of Haiti, rest of the country ...\n",
              "3             Information about the National Palace-\n",
              "4                     Storm at sacred heart of jesus"
            ]
          },
          "metadata": {
            "tags": []
          },
          "execution_count": 5
        }
      ]
    },
    {
      "cell_type": "markdown",
      "metadata": {
        "id": "DMQD-CRWeHvu"
      },
      "source": [
        "<div class=\"alert alert-block alert-danger\" style=\"color:black;background-color:#E7F4FA\">\n",
        "    \n",
        "**1.1.2** - Define a function `clean_data` that takes the data frame as input, converts the characters to lower case and removes any special characters that you might consider irrelevant,  adds the start token `<s>` and the end token `</s>` to every sentence (row) in the data frame and returns the processed data frame. \n",
        "    \n",
        "</div>"
      ]
    },
    {
      "cell_type": "code",
      "metadata": {
        "id": "va7CNTlaiQmw"
      },
      "source": [
        "def preprocess_text(text):\n",
        "  clean_text = text.lower()\n",
        "  # remove special characters - basically anything that is not a letter or a space\n",
        "  clean_text = re.sub(r'[^a-z0-9\\s]+','', clean_text)\n",
        "  clean_text = '<s> '+clean_text+' </s>'\n",
        "  return clean_text"
      ],
      "execution_count": null,
      "outputs": []
    },
    {
      "cell_type": "code",
      "metadata": {
        "id": "2E7jcvkOeHvu"
      },
      "source": [
        "# Your code here\n",
        "def clean_data_1(dataframe):\n",
        "  dataframe['message'] = dataframe['message'].apply(preprocess_text) \n",
        "  return dataframe"
      ],
      "execution_count": null,
      "outputs": []
    },
    {
      "cell_type": "code",
      "metadata": {
        "id": "-89piHxei8RQ"
      },
      "source": [
        "# clean the data\n",
        "df = clean_data_1(raw_data)"
      ],
      "execution_count": null,
      "outputs": []
    },
    {
      "cell_type": "code",
      "metadata": {
        "id": "ncJbbmVRjnFI",
        "colab": {
          "base_uri": "https://localhost:8080/",
          "height": 204
        },
        "outputId": "35d52a4b-e031-4ce4-9c1b-a5a9a39d5644"
      },
      "source": [
        "df.head()"
      ],
      "execution_count": null,
      "outputs": [
        {
          "output_type": "execute_result",
          "data": {
            "text/html": [
              "<div>\n",
              "<style scoped>\n",
              "    .dataframe tbody tr th:only-of-type {\n",
              "        vertical-align: middle;\n",
              "    }\n",
              "\n",
              "    .dataframe tbody tr th {\n",
              "        vertical-align: top;\n",
              "    }\n",
              "\n",
              "    .dataframe thead th {\n",
              "        text-align: right;\n",
              "    }\n",
              "</style>\n",
              "<table border=\"1\" class=\"dataframe\">\n",
              "  <thead>\n",
              "    <tr style=\"text-align: right;\">\n",
              "      <th></th>\n",
              "      <th>message</th>\n",
              "    </tr>\n",
              "  </thead>\n",
              "  <tbody>\n",
              "    <tr>\n",
              "      <th>0</th>\n",
              "      <td>&lt;s&gt; weather update  a cold front from cuba tha...</td>\n",
              "    </tr>\n",
              "    <tr>\n",
              "      <th>1</th>\n",
              "      <td>&lt;s&gt; is the hurricane over or is it not over &lt;/s&gt;</td>\n",
              "    </tr>\n",
              "    <tr>\n",
              "      <th>2</th>\n",
              "      <td>&lt;s&gt; says west side of haiti rest of the countr...</td>\n",
              "    </tr>\n",
              "    <tr>\n",
              "      <th>3</th>\n",
              "      <td>&lt;s&gt; information about the national palace &lt;/s&gt;</td>\n",
              "    </tr>\n",
              "    <tr>\n",
              "      <th>4</th>\n",
              "      <td>&lt;s&gt; storm at sacred heart of jesus &lt;/s&gt;</td>\n",
              "    </tr>\n",
              "  </tbody>\n",
              "</table>\n",
              "</div>"
            ],
            "text/plain": [
              "                                             message\n",
              "0  <s> weather update  a cold front from cuba tha...\n",
              "1   <s> is the hurricane over or is it not over </s>\n",
              "2  <s> says west side of haiti rest of the countr...\n",
              "3     <s> information about the national palace </s>\n",
              "4            <s> storm at sacred heart of jesus </s>"
            ]
          },
          "metadata": {
            "tags": []
          },
          "execution_count": 9
        }
      ]
    },
    {
      "cell_type": "markdown",
      "metadata": {
        "id": "lbJsxkICeHvu"
      },
      "source": [
        "<div class=\"alert alert-block alert-danger\" style=\"color:black;background-color:#E7F4FA\">\n",
        "\n",
        "**1.1.3** - Split the dataset into train and test sets. The proportion should be 0.95 and 0.05, respectively. You will create the language model based on the train set and validate your results on the test set.\n",
        "\n",
        "</div>"
      ]
    },
    {
      "cell_type": "code",
      "metadata": {
        "id": "U7MGHw32eHvv"
      },
      "source": [
        "# Your code here\n",
        "index = np.unique(df.index)\n",
        "train_index, val_index = train_test_split(index, train_size=0.95, random_state=66)\n",
        "\n",
        "df_train = df.loc[train_index]\n",
        "df_val = df.loc[val_index]"
      ],
      "execution_count": null,
      "outputs": []
    },
    {
      "cell_type": "markdown",
      "metadata": {
        "id": "k8GQEOQNeHvv"
      },
      "source": [
        "<div class=\"alert alert-block alert-danger\" style=\"color:black;background-color:#E7F4FA\">\n",
        "\n",
        "### **1.2 [8 points] TOKENIZE AND COUNT**\n",
        "<br />\n",
        "In this section, you will create three different tokenizers and build an LM based on each one of them. The tokenization functions must divide the text into tokens, count their frequency and return a dictionary with a mapping of token to number.\n",
        "\n",
        "    \n",
        "</div>"
      ]
    },
    {
      "cell_type": "markdown",
      "metadata": {
        "id": "V6rUkeBZeHvv"
      },
      "source": [
        "<div class=\"alert alert-block alert-danger\" style=\"color:black;background-color:#E7F4FA\">\n",
        "\n",
        "**1.2.1** - Create your own tokenization function ('tokenizer_1') based on whitespace. Set the vocabulary size to 1000, including the `<UNK>` token for out of the vocabulary (OOV) words. \n",
        "<br /><br />\n",
        "    \n",
        "</div> "
      ]
    },
    {
      "cell_type": "code",
      "metadata": {
        "id": "779oD91IeHvv"
      },
      "source": [
        "# Fill in to complete this function \n",
        "def tokenizer_1(text_corpus, vocabulary_size):\n",
        "    \"\"\"Process raw inputs into a dataset.\"\"\"\n",
        "    count = [['UNK', -1]]\n",
        "    count.extend(Counter(text_corpus.split()).most_common(vocabulary_size-1))\n",
        "    \n",
        "    dictionary={}\n",
        "    # For all words in count, assign a token (you can use a for loop) \n",
        "    for i, tup in enumerate(count):\n",
        "        dictionary[tup[0]] = i\n",
        "        \n",
        "    # Make a new list of tokens associated with words    \n",
        "    data = []\n",
        "    # Initialize a counter for 'UNK' values \n",
        "    unk_count = 0\n",
        "    \n",
        "    # For all words in corpus, find the associated token, and append to \n",
        "    # the 'data' variable defined above\n",
        "    for word in text_corpus:\n",
        "        if word in dictionary:\n",
        "            token = dictionary[word]\n",
        "        # If word is not in dictionary, it is 'out of vocabulary'\n",
        "        # So we need to assign it the zero token and\n",
        "        # update the count of the 'UNK' token\n",
        "        else:\n",
        "            token = 0  \n",
        "            unk_count += 1\n",
        "            \n",
        "        # Append token to data \n",
        "        data.append(token)\n",
        "        \n",
        "    # We can now set the count of 'UNK' tokens in the corpus\n",
        "    count[0][1] = unk_count\n",
        "    \n",
        "    # A reverse dictionary takes you from tokens to words\n",
        "    # Eg. if dictionary['Ignacio'] == 44\n",
        "    # reverse_dictionary[44] == 'Ignacio'\n",
        "    reversed_dictionary = {v:k for k,v in dictionary.items()}\n",
        "    \n",
        "    return data, count, dictionary, reversed_dictionary"
      ],
      "execution_count": null,
      "outputs": []
    },
    {
      "cell_type": "markdown",
      "metadata": {
        "id": "8ktr_kTBeHvw"
      },
      "source": [
        "<div class=\"alert alert-block alert-danger\" style=\"color:black;background-color:#E7F4FA\">\n",
        "\n",
        "**1.2.2** - Create a second tokenization function ('tokenizer_2') based on whitespace, but do not limit the vocabulary size.\n",
        "<br /><br />\n",
        "    \n",
        "</div>"
      ]
    },
    {
      "cell_type": "code",
      "metadata": {
        "id": "DLGPaXj3eHvw"
      },
      "source": [
        "# Fill in to complete this function \n",
        "def tokenizer_2(text_corpus):\n",
        "    \"\"\"Process raw inputs into a dataset.\"\"\"\n",
        "    count = []\n",
        "    count.extend(Counter(text_corpus.split()).most_common())\n",
        "    \n",
        "    dictionary={}\n",
        "    for i, tup in enumerate(count):\n",
        "        dictionary[tup[0]] = i\n",
        "        \n",
        "    # Make a new list of tokens associated with words    \n",
        "    data = []\n",
        "    for word in text_corpus:\n",
        "        if word in dictionary:\n",
        "            token = dictionary[word]\n",
        "        else:\n",
        "            token = 0  \n",
        "            \n",
        "        # Append token to data \n",
        "        data.append(token)\n",
        "\n",
        "    dictionary['UNK']=len(text_corpus.split())\n",
        "    reversed_dictionary = {v:k for k,v in dictionary.items()}\n",
        "    \n",
        "    return data, count, dictionary, reversed_dictionary"
      ],
      "execution_count": null,
      "outputs": []
    },
    {
      "cell_type": "markdown",
      "metadata": {
        "id": "pwE4UjhNeHvw"
      },
      "source": [
        "<div class=\"alert alert-block alert-danger\" style=\"color:black;background-color:#E7F4FA\">\n",
        "\n",
        "**1.2.3** - Create a third tokenization function ('tokenizer_3') based on sub-words. You have to define a set of common sub-words in the English language, for example, the subtokens _ing_ and _n't_.\n",
        "    \n",
        "In this example, the sentence \"_It is raining outside_\" would be tokenized as [_It_, _is_, _rain_, _ing_, _outside_ ].\n",
        "<br /><br />\n",
        "    \n",
        "</div>"
      ]
    },
    {
      "cell_type": "code",
      "metadata": {
        "id": "AKgmLPEykLWE"
      },
      "source": [
        "def sub_word_tokenizer(text_corpus):\n",
        "  common_prefix = [ 'pre', 'un', 'under', 'over', 'post', 'ir', 'in', 'sub']\n",
        "  common_suffix = ['ing','ly','ed', 'n\\'t','er','est', 'es', 'ful']\n",
        "\n",
        "  word_seq = text_corpus.split()\n",
        "  results = []\n",
        "  for word in word_seq:\n",
        "    filtered_prefix = list(filter(word.startswith, common_prefix))\n",
        "    filtered_suffix = list(filter(word.endswith, common_suffix))\n",
        "    if len(filtered_prefix)>0:\n",
        "      results.extend(re.split(rf\"^({filtered_prefix[0]})\",word))\n",
        "    if len(filtered_suffix)>0:\n",
        "      results.extend(re.split(rf\"({filtered_suffix[0]})$\",word))\n",
        "    if len(filtered_prefix)==0 and len(filtered_suffix)==0:\n",
        "      results.append(word)\n",
        "  \n",
        "  subword_tokens = list(filter(None, results))\n",
        "  return subword_tokens"
      ],
      "execution_count": null,
      "outputs": []
    },
    {
      "cell_type": "code",
      "metadata": {
        "id": "7qEdHsrOeHvw"
      },
      "source": [
        "# Your code here\n",
        "def tokenizer_3(text_corpus):\n",
        "  subword_tokens = sub_word_tokenizer(text_corpus)\n",
        "  count = []\n",
        "  count.extend(Counter(subword_tokens).most_common())\n",
        "\n",
        "  dictionary={}\n",
        "  for i, tup in enumerate(count):\n",
        "      dictionary[tup[0]] = i\n",
        "      \n",
        "  # Make a new list of tokens associated with words    \n",
        "  data = []\n",
        "  for word in text_corpus:\n",
        "      if word in dictionary:\n",
        "          token = dictionary[word]\n",
        "      else:\n",
        "          token = 0  \n",
        "          \n",
        "      # Append token to data \n",
        "      data.append(token)\n",
        "      \n",
        "  dictionary['UNK']=len(text_corpus.split())\n",
        "  reversed_dictionary = {v:k for k,v in dictionary.items()}\n",
        "\n",
        "  return data, count, dictionary, reversed_dictionary\n",
        "\n"
      ],
      "execution_count": null,
      "outputs": []
    },
    {
      "cell_type": "markdown",
      "metadata": {
        "id": "bUDI4DhLeHvw"
      },
      "source": [
        "<div class=\"alert alert-block alert-danger\" style=\"color:black;background-color:#E7F4FA\">\n",
        "\n",
        "### **1.3 [6 points] CONSTRUCTING BIGRAMS**\n",
        "<br />\n",
        "\n",
        "**1.3.1** - Using each of the tokenizer functions you created, split each sentence into tokens in their numerical representation. \n",
        "<br /><br />\n",
        "    \n",
        "</div>"
      ]
    },
    {
      "cell_type": "code",
      "metadata": {
        "id": "gY8lbSsAtMX8"
      },
      "source": [
        "def get_tok_sequence(text, vocab_dict):\n",
        "  seq=[]\n",
        "  for word in text.split():\n",
        "    if word in vocab_dict.keys():\n",
        "      seq.append(vocab_dict[word])\n",
        "    else:\n",
        "      seq.append(vocab_dict['UNK'])\n",
        "  return seq"
      ],
      "execution_count": null,
      "outputs": []
    },
    {
      "cell_type": "code",
      "metadata": {
        "id": "yAd57jUIsLxD"
      },
      "source": [
        "text_corpus = \"\"\n",
        "for text in  df['message'].values:\n",
        "  text_corpus = text_corpus + \" \"+ text"
      ],
      "execution_count": null,
      "outputs": []
    },
    {
      "cell_type": "code",
      "metadata": {
        "id": "8hAtFbwxs87-"
      },
      "source": [
        "data, count, dictionary, reversed_dictionary  = tokenizer_1(text_corpus,1000)"
      ],
      "execution_count": null,
      "outputs": []
    },
    {
      "cell_type": "code",
      "metadata": {
        "id": "rcBQAjWQuV_n"
      },
      "source": [
        "df_tok1 = pd.DataFrame(df['message'].apply(get_tok_sequence, vocab_dict=dictionary), columns=['message'])"
      ],
      "execution_count": null,
      "outputs": []
    },
    {
      "cell_type": "code",
      "metadata": {
        "id": "GdHgFBBiwTnN",
        "colab": {
          "base_uri": "https://localhost:8080/",
          "height": 204
        },
        "outputId": "d03bb3e2-1952-433b-aadf-fdc7399f42d4"
      },
      "source": [
        "df_tok1.head()"
      ],
      "execution_count": null,
      "outputs": [
        {
          "output_type": "execute_result",
          "data": {
            "text/html": [
              "<div>\n",
              "<style scoped>\n",
              "    .dataframe tbody tr th:only-of-type {\n",
              "        vertical-align: middle;\n",
              "    }\n",
              "\n",
              "    .dataframe tbody tr th {\n",
              "        vertical-align: top;\n",
              "    }\n",
              "\n",
              "    .dataframe thead th {\n",
              "        text-align: right;\n",
              "    }\n",
              "</style>\n",
              "<table border=\"1\" class=\"dataframe\">\n",
              "  <thead>\n",
              "    <tr style=\"text-align: right;\">\n",
              "      <th></th>\n",
              "      <th>message</th>\n",
              "    </tr>\n",
              "  </thead>\n",
              "  <tbody>\n",
              "    <tr>\n",
              "      <th>0</th>\n",
              "      <td>[2, 187, 0, 8, 437, 960, 23, 0, 16, 130, 551, ...</td>\n",
              "    </tr>\n",
              "    <tr>\n",
              "      <th>1</th>\n",
              "      <td>[2, 11, 1, 133, 80, 55, 11, 29, 36, 80, 3]</td>\n",
              "    </tr>\n",
              "    <tr>\n",
              "      <th>2</th>\n",
              "      <td>[2, 512, 336, 979, 6, 67, 0, 6, 1, 84, 248, 4,...</td>\n",
              "    </tr>\n",
              "    <tr>\n",
              "      <th>3</th>\n",
              "      <td>[2, 76, 60, 1, 165, 0, 3]</td>\n",
              "    </tr>\n",
              "    <tr>\n",
              "      <th>4</th>\n",
              "      <td>[2, 138, 26, 0, 980, 6, 0, 3]</td>\n",
              "    </tr>\n",
              "  </tbody>\n",
              "</table>\n",
              "</div>"
            ],
            "text/plain": [
              "                                             message\n",
              "0  [2, 187, 0, 8, 437, 960, 23, 0, 16, 130, 551, ...\n",
              "1         [2, 11, 1, 133, 80, 55, 11, 29, 36, 80, 3]\n",
              "2  [2, 512, 336, 979, 6, 67, 0, 6, 1, 84, 248, 4,...\n",
              "3                          [2, 76, 60, 1, 165, 0, 3]\n",
              "4                      [2, 138, 26, 0, 980, 6, 0, 3]"
            ]
          },
          "metadata": {
            "tags": []
          },
          "execution_count": 19
        }
      ]
    },
    {
      "cell_type": "code",
      "metadata": {
        "id": "iiBhLryJz_6K"
      },
      "source": [
        "data_2, count_2, dictionary_2, reversed_dictionary_2  = tokenizer_2(text_corpus)\n",
        "df_tok2 = pd.DataFrame(df['message'].apply(get_tok_sequence, vocab_dict=dictionary_2), columns=['message'])"
      ],
      "execution_count": null,
      "outputs": []
    },
    {
      "cell_type": "code",
      "metadata": {
        "id": "r-prQDSb0PiT",
        "colab": {
          "base_uri": "https://localhost:8080/",
          "height": 204
        },
        "outputId": "b4a09783-d586-4cd1-c2eb-7ef7bf5760f9"
      },
      "source": [
        "df_tok2.head()"
      ],
      "execution_count": null,
      "outputs": [
        {
          "output_type": "execute_result",
          "data": {
            "text/html": [
              "<div>\n",
              "<style scoped>\n",
              "    .dataframe tbody tr th:only-of-type {\n",
              "        vertical-align: middle;\n",
              "    }\n",
              "\n",
              "    .dataframe tbody tr th {\n",
              "        vertical-align: top;\n",
              "    }\n",
              "\n",
              "    .dataframe thead th {\n",
              "        text-align: right;\n",
              "    }\n",
              "</style>\n",
              "<table border=\"1\" class=\"dataframe\">\n",
              "  <thead>\n",
              "    <tr style=\"text-align: right;\">\n",
              "      <th></th>\n",
              "      <th>message</th>\n",
              "    </tr>\n",
              "  </thead>\n",
              "  <tbody>\n",
              "    <tr>\n",
              "      <th>0</th>\n",
              "      <td>[1, 186, 1959, 7, 436, 959, 22, 2661, 15, 129,...</td>\n",
              "    </tr>\n",
              "    <tr>\n",
              "      <th>1</th>\n",
              "      <td>[1, 10, 0, 132, 79, 54, 10, 28, 35, 79, 2]</td>\n",
              "    </tr>\n",
              "    <tr>\n",
              "      <th>2</th>\n",
              "      <td>[1, 511, 335, 978, 5, 66, 1327, 5, 0, 83, 247,...</td>\n",
              "    </tr>\n",
              "    <tr>\n",
              "      <th>3</th>\n",
              "      <td>[1, 75, 59, 0, 164, 3300, 2]</td>\n",
              "    </tr>\n",
              "    <tr>\n",
              "      <th>4</th>\n",
              "      <td>[1, 137, 25, 15281, 979, 5, 1647, 2]</td>\n",
              "    </tr>\n",
              "  </tbody>\n",
              "</table>\n",
              "</div>"
            ],
            "text/plain": [
              "                                             message\n",
              "0  [1, 186, 1959, 7, 436, 959, 22, 2661, 15, 129,...\n",
              "1         [1, 10, 0, 132, 79, 54, 10, 28, 35, 79, 2]\n",
              "2  [1, 511, 335, 978, 5, 66, 1327, 5, 0, 83, 247,...\n",
              "3                       [1, 75, 59, 0, 164, 3300, 2]\n",
              "4               [1, 137, 25, 15281, 979, 5, 1647, 2]"
            ]
          },
          "metadata": {
            "tags": []
          },
          "execution_count": 21
        }
      ]
    },
    {
      "cell_type": "code",
      "metadata": {
        "id": "lYLWM3LklRQ3"
      },
      "source": [
        "def get_subword_tok_sequence(text, vocab_dict):\n",
        "  subword_tokens = sub_word_tokenizer(text)\n",
        "  seq=[]\n",
        "  for word in subword_tokens:\n",
        "    if word in vocab_dict.keys():\n",
        "      seq.append(vocab_dict[word])\n",
        "    else:\n",
        "      seq.append(vocab_dict['UNK'])\n",
        "  return seq"
      ],
      "execution_count": null,
      "outputs": []
    },
    {
      "cell_type": "code",
      "metadata": {
        "id": "Q4GxBhhw1ZaZ"
      },
      "source": [
        "data_3, count_3, dictionary_3, reversed_dictionary_3 = tokenizer_3(text_corpus)\n",
        "df_tok3 = pd.DataFrame(df['message'].apply(get_subword_tok_sequence, vocab_dict=dictionary_3), columns=['message'])"
      ],
      "execution_count": null,
      "outputs": []
    },
    {
      "cell_type": "code",
      "metadata": {
        "id": "LTlmonM8_yFi",
        "colab": {
          "base_uri": "https://localhost:8080/",
          "height": 204
        },
        "outputId": "cd80c7c7-693d-4ee8-84b1-60a16833978f"
      },
      "source": [
        "df_tok3.head()"
      ],
      "execution_count": null,
      "outputs": [
        {
          "output_type": "execute_result",
          "data": {
            "text/html": [
              "<div>\n",
              "<style scoped>\n",
              "    .dataframe tbody tr th:only-of-type {\n",
              "        vertical-align: middle;\n",
              "    }\n",
              "\n",
              "    .dataframe tbody tr th {\n",
              "        vertical-align: top;\n",
              "    }\n",
              "\n",
              "    .dataframe thead th {\n",
              "        text-align: right;\n",
              "    }\n",
              "</style>\n",
              "<table border=\"1\" class=\"dataframe\">\n",
              "  <thead>\n",
              "    <tr style=\"text-align: right;\">\n",
              "      <th></th>\n",
              "      <th>message</th>\n",
              "    </tr>\n",
              "  </thead>\n",
              "  <tbody>\n",
              "    <tr>\n",
              "      <th>0</th>\n",
              "      <td>[1, 213, 10, 1955, 11, 435, 1001, 29, 2606, 20...</td>\n",
              "    </tr>\n",
              "    <tr>\n",
              "      <th>1</th>\n",
              "      <td>[1, 15, 0, 151, 67, 91, 10, 62, 15, 36, 35, 67...</td>\n",
              "    </tr>\n",
              "    <tr>\n",
              "      <th>2</th>\n",
              "      <td>[1, 561, 236, 54, 502, 9, 75, 149, 54, 9, 0, 9...</td>\n",
              "    </tr>\n",
              "    <tr>\n",
              "      <th>3</th>\n",
              "      <td>[1, 3, 86, 68, 0, 183, 3186, 2]</td>\n",
              "    </tr>\n",
              "    <tr>\n",
              "      <th>4</th>\n",
              "      <td>[1, 156, 31, 13824, 4, 1039, 9, 1659, 2]</td>\n",
              "    </tr>\n",
              "  </tbody>\n",
              "</table>\n",
              "</div>"
            ],
            "text/plain": [
              "                                             message\n",
              "0  [1, 213, 10, 1955, 11, 435, 1001, 29, 2606, 20...\n",
              "1  [1, 15, 0, 151, 67, 91, 10, 62, 15, 36, 35, 67...\n",
              "2  [1, 561, 236, 54, 502, 9, 75, 149, 54, 9, 0, 9...\n",
              "3                    [1, 3, 86, 68, 0, 183, 3186, 2]\n",
              "4           [1, 156, 31, 13824, 4, 1039, 9, 1659, 2]"
            ]
          },
          "metadata": {
            "tags": []
          },
          "execution_count": 24
        }
      ]
    },
    {
      "cell_type": "markdown",
      "metadata": {
        "id": "R-eaLNsNeHvw"
      },
      "source": [
        "<div class=\"alert alert-block alert-danger\" style=\"color:black;background-color:#E7F4FA\">\n",
        "\n",
        "**1.3.2** - Count the bigrams in the dataset for each tokenizer and divide them by the total number of bigrams. This will give you the probability of each bigram.\n",
        "<br /><br />\n",
        "    \n",
        "</div>"
      ]
    },
    {
      "cell_type": "code",
      "metadata": {
        "id": "Rc83X8dVeHvx"
      },
      "source": [
        "# Your code here\n",
        "def get_bigrams(df):\n",
        "  bigrams = []\n",
        "  for seq in df['message'].values:\n",
        "    bigrams.extend([(seq[i],seq[i+1]) for i in range(1,len(seq[1:-1]))])\n",
        "  bigrams_count_dict = Counter(bigrams)\n",
        "  return bigrams_count_dict\n"
      ],
      "execution_count": null,
      "outputs": []
    },
    {
      "cell_type": "code",
      "metadata": {
        "id": "ggfq882eyyFf"
      },
      "source": [
        "def get_bigram_prob(bigrams_count_dict):\n",
        "  first_gram_count = {}\n",
        "  for k, v in bigrams_count_dict.items():\n",
        "    if k[0] in first_gram_count.keys():\n",
        "      first_gram_count[k[0]] += v\n",
        "    else:\n",
        "      first_gram_count[k[0]] = v\n",
        "\n",
        "  bigram_prob_dict = {k: v / first_gram_count[k[0]] for k, v in bigrams_count_dict.items()}\n",
        "  return bigram_prob_dict"
      ],
      "execution_count": null,
      "outputs": []
    },
    {
      "cell_type": "code",
      "metadata": {
        "id": "sfUKg9sq0Wtr"
      },
      "source": [
        "# Bigram probability for tokenizer1  \n",
        "bigrams_count_dict_tok1 = get_bigrams(df_tok1)\n",
        "bigram_prob_dict_tok1 = get_bigram_prob(bigrams_count_dict_tok1)"
      ],
      "execution_count": null,
      "outputs": []
    },
    {
      "cell_type": "code",
      "metadata": {
        "colab": {
          "base_uri": "https://localhost:8080/"
        },
        "id": "HW6Toj2zwz7G",
        "outputId": "b0bacd8d-0f09-4405-a89f-d120a31807b1"
      },
      "source": [
        "max(bigrams_count_dict_tok1, key=bigrams_count_dict_tok1.get)"
      ],
      "execution_count": null,
      "outputs": [
        {
          "output_type": "execute_result",
          "data": {
            "text/plain": [
              "(0, 0)"
            ]
          },
          "metadata": {
            "tags": []
          },
          "execution_count": 28
        }
      ]
    },
    {
      "cell_type": "code",
      "metadata": {
        "id": "nqtH1rV_02FO"
      },
      "source": [
        "# Bigram probability for tokenizer2  \n",
        "bigrams_count_dict_tok2 = get_bigrams(df_tok2)\n",
        "bigram_prob_dict_tok2 = get_bigram_prob(bigrams_count_dict_tok2)"
      ],
      "execution_count": null,
      "outputs": []
    },
    {
      "cell_type": "code",
      "metadata": {
        "colab": {
          "base_uri": "https://localhost:8080/"
        },
        "id": "h2aZztZ1xJEt",
        "outputId": "ab9983e4-3017-47d8-f6ff-90834d7c8640"
      },
      "source": [
        "max(bigrams_count_dict_tok2, key=bigrams_count_dict_tok2.get)"
      ],
      "execution_count": null,
      "outputs": [
        {
          "output_type": "execute_result",
          "data": {
            "text/plain": [
              "(6, 0)"
            ]
          },
          "metadata": {
            "tags": []
          },
          "execution_count": 30
        }
      ]
    },
    {
      "cell_type": "code",
      "metadata": {
        "id": "NpwUfxmY1h2l"
      },
      "source": [
        "# Bigram probability for tokenizer3  \n",
        "bigrams_count_dict_tok3 = get_bigrams(df_tok3)\n",
        "bigram_prob_dict_tok3 = get_bigram_prob(bigrams_count_dict_tok3)"
      ],
      "execution_count": null,
      "outputs": []
    },
    {
      "cell_type": "markdown",
      "metadata": {
        "id": "A-0Eh7k6eHvx"
      },
      "source": [
        "<div class=\"alert alert-block alert-danger\" style=\"color:black;background-color:#E7F4FA\">\n",
        "\n",
        "### **1.4 [8 points] PREDICTING THE NEXT WORDS**\n",
        "<br />\n",
        "\n",
        "**1.4.1** - Simulate the incomplete messages dividing each sentence of the **test** set into two. For this, split each sentence in a 3:1 ratio. The first $75\\%$ of a sentence will represent the correct message, and the last $25\\%$ will convey the missing information. You will not give this 25% to your model, it is kept hidden. This 25% will only be used to evaluate the predictions of your language model.\n",
        "    \n",
        "For example in the sentence: *\"I will go out on a vacation, now that my semester ended.\"*\n",
        "\n",
        "The first 75% will be *\"I will go out on a vacation, now\"*\n",
        "\n",
        "The last 25% will be *\"that my semeter ended\"*\n",
        "\n",
        "Your aim is to predict the last part by giving your model the first \"part\" of the sentence.\n",
        "\n",
        "\n",
        "Note that in an n-gram language model, only the last $n-1$ words are used to make a prediction. For example, for the above sentence, if you are using bigrams, the input to your model would only be \"now\" and you are expected to predict \"that\".\n",
        "    \n",
        "<br /><br />   \n",
        "    \n",
        "</div>"
      ]
    },
    {
      "cell_type": "code",
      "metadata": {
        "id": "-id0s97jeHvx"
      },
      "source": [
        "# Your code here\n",
        "def split_sent(word_seq):\n",
        "  msg_len = round(0.75*len(word_seq))\n",
        "  msg = word_seq[:msg_len]\n",
        "  missing_info = word_seq[msg_len:]\n",
        "  return msg, missing_info"
      ],
      "execution_count": null,
      "outputs": []
    },
    {
      "cell_type": "code",
      "metadata": {
        "id": "F27PVLL1eHvx"
      },
      "source": [
        "# get word sequence based on tokenizer_1 for test set \n",
        "df_val_tok1 = pd.DataFrame(df_val['message'].apply(get_tok_sequence, vocab_dict=dictionary), columns=['message'])\n",
        "\n",
        "# get word sequence based on tokenizer_2 for test set \n",
        "df_val_tok2 = pd.DataFrame(df_val['message'].apply(get_tok_sequence, vocab_dict=dictionary_2), columns=['message'])\n",
        "\n",
        "# get word sequence based on tokenizer_3 for test set \n",
        "df_val_tok3 = pd.DataFrame(df_val['message'].apply(get_subword_tok_sequence, vocab_dict=dictionary_3), columns=['message'])"
      ],
      "execution_count": null,
      "outputs": []
    },
    {
      "cell_type": "code",
      "metadata": {
        "id": "grVd-hLxSEtP"
      },
      "source": [
        "# split the msg in 3:1 ratio\n",
        "def split_sent_df(df):\n",
        "  message, missing_info = [],[]\n",
        "  for text_seq in df['message'].values:\n",
        "    x, y = split_sent(text_seq)\n",
        "    message.append(x)\n",
        "    missing_info.append(y)\n",
        "\n",
        "  df_split = pd.DataFrame({'message':message, 'missing_info':missing_info})\n",
        "  return df_split\n",
        "  "
      ],
      "execution_count": null,
      "outputs": []
    },
    {
      "cell_type": "code",
      "metadata": {
        "id": "ibq0sVLsSzod"
      },
      "source": [
        "df_val_tok1_split = split_sent_df(df_val_tok1)\n",
        "df_val_tok2_split = split_sent_df(df_val_tok2)\n",
        "df_val_tok3_split = split_sent_df(df_val_tok3)"
      ],
      "execution_count": null,
      "outputs": []
    },
    {
      "cell_type": "code",
      "metadata": {
        "colab": {
          "base_uri": "https://localhost:8080/",
          "height": 204
        },
        "id": "Lf4C33kkL8_M",
        "outputId": "73f2c68e-6f65-437e-9175-d81e194c242f"
      },
      "source": [
        "df_val_tok2_split.head()"
      ],
      "execution_count": null,
      "outputs": [
        {
          "output_type": "execute_result",
          "data": {
            "text/html": [
              "<div>\n",
              "<style scoped>\n",
              "    .dataframe tbody tr th:only-of-type {\n",
              "        vertical-align: middle;\n",
              "    }\n",
              "\n",
              "    .dataframe tbody tr th {\n",
              "        vertical-align: top;\n",
              "    }\n",
              "\n",
              "    .dataframe thead th {\n",
              "        text-align: right;\n",
              "    }\n",
              "</style>\n",
              "<table border=\"1\" class=\"dataframe\">\n",
              "  <thead>\n",
              "    <tr style=\"text-align: right;\">\n",
              "      <th></th>\n",
              "      <th>message</th>\n",
              "      <th>missing_info</th>\n",
              "    </tr>\n",
              "  </thead>\n",
              "  <tbody>\n",
              "    <tr>\n",
              "      <th>0</th>\n",
              "      <td>[1, 148, 0, 4949, 941, 1663, 22, 25936, 41, 35...</td>\n",
              "      <td>[0, 742, 4, 573, 5904, 55, 1823, 2]</td>\n",
              "    </tr>\n",
              "    <tr>\n",
              "      <th>1</th>\n",
              "      <td>[1, 60, 698, 35, 18697, 172, 316, 34]</td>\n",
              "      <td>[15, 2]</td>\n",
              "    </tr>\n",
              "    <tr>\n",
              "      <th>2</th>\n",
              "      <td>[1, 60, 86, 1130, 9, 7, 179, 48, 1158, 29]</td>\n",
              "      <td>[8, 256, 2]</td>\n",
              "    </tr>\n",
              "    <tr>\n",
              "      <th>3</th>\n",
              "      <td>[1, 211, 4, 382, 2201, 64, 53, 84, 1092, 19, 1...</td>\n",
              "      <td>[31930, 31931, 31932, 3, 31933, 2]</td>\n",
              "    </tr>\n",
              "    <tr>\n",
              "      <th>4</th>\n",
              "      <td>[1, 251, 476, 674, 26, 1040, 13348, 3292, 5, 8...</td>\n",
              "      <td>[13349, 694, 5565, 15, 453, 26009, 5156, 5498,...</td>\n",
              "    </tr>\n",
              "  </tbody>\n",
              "</table>\n",
              "</div>"
            ],
            "text/plain": [
              "                                             message                                       missing_info\n",
              "0  [1, 148, 0, 4949, 941, 1663, 22, 25936, 41, 35...                [0, 742, 4, 573, 5904, 55, 1823, 2]\n",
              "1              [1, 60, 698, 35, 18697, 172, 316, 34]                                            [15, 2]\n",
              "2         [1, 60, 86, 1130, 9, 7, 179, 48, 1158, 29]                                        [8, 256, 2]\n",
              "3  [1, 211, 4, 382, 2201, 64, 53, 84, 1092, 19, 1...                 [31930, 31931, 31932, 3, 31933, 2]\n",
              "4  [1, 251, 476, 674, 26, 1040, 13348, 3292, 5, 8...  [13349, 694, 5565, 15, 453, 26009, 5156, 5498,..."
            ]
          },
          "metadata": {
            "tags": []
          },
          "execution_count": 36
        }
      ]
    },
    {
      "cell_type": "code",
      "metadata": {
        "colab": {
          "base_uri": "https://localhost:8080/",
          "height": 204
        },
        "id": "8fWeXNsvWXb7",
        "outputId": "daea2670-df63-4032-8e47-97b37888c345"
      },
      "source": [
        "df_val_tok3_split.head()"
      ],
      "execution_count": null,
      "outputs": [
        {
          "output_type": "execute_result",
          "data": {
            "text/html": [
              "<div>\n",
              "<style scoped>\n",
              "    .dataframe tbody tr th:only-of-type {\n",
              "        vertical-align: middle;\n",
              "    }\n",
              "\n",
              "    .dataframe tbody tr th {\n",
              "        vertical-align: top;\n",
              "    }\n",
              "\n",
              "    .dataframe thead th {\n",
              "        text-align: right;\n",
              "    }\n",
              "</style>\n",
              "<table border=\"1\" class=\"dataframe\">\n",
              "  <thead>\n",
              "    <tr style=\"text-align: right;\">\n",
              "      <th></th>\n",
              "      <th>message</th>\n",
              "      <th>missing_info</th>\n",
              "    </tr>\n",
              "  </thead>\n",
              "  <tbody>\n",
              "    <tr>\n",
              "      <th>0</th>\n",
              "      <td>[1, 172, 0, 1748, 993, 1679, 29, 23905, 51, 35...</td>\n",
              "      <td>[0, 714, 8, 7, 621, 10, 3997, 63, 1841, 2]</td>\n",
              "    </tr>\n",
              "    <tr>\n",
              "      <th>1</th>\n",
              "      <td>[1, 69, 749, 35, 22, 17039, 195, 339]</td>\n",
              "      <td>[41, 20, 2]</td>\n",
              "    </tr>\n",
              "    <tr>\n",
              "      <th>2</th>\n",
              "      <td>[1, 69, 99, 550, 5, 13, 11, 202, 56, 1199]</td>\n",
              "      <td>[37, 12, 155, 2]</td>\n",
              "    </tr>\n",
              "    <tr>\n",
              "      <th>3</th>\n",
              "      <td>[1, 230, 5, 7, 423, 616, 8, 73, 61, 97, 1145, ...</td>\n",
              "      <td>[6, 29337, 29338, 29339, 6, 29340, 2]</td>\n",
              "    </tr>\n",
              "    <tr>\n",
              "      <th>4</th>\n",
              "      <td>[1, 283, 508, 740, 33, 796, 4, 12068, 3178, 9,...</td>\n",
              "      <td>[892, 12069, 518, 5166, 20, 3, 500, 23972, 478...</td>\n",
              "    </tr>\n",
              "  </tbody>\n",
              "</table>\n",
              "</div>"
            ],
            "text/plain": [
              "                                             message                                       missing_info\n",
              "0  [1, 172, 0, 1748, 993, 1679, 29, 23905, 51, 35...         [0, 714, 8, 7, 621, 10, 3997, 63, 1841, 2]\n",
              "1              [1, 69, 749, 35, 22, 17039, 195, 339]                                        [41, 20, 2]\n",
              "2         [1, 69, 99, 550, 5, 13, 11, 202, 56, 1199]                                   [37, 12, 155, 2]\n",
              "3  [1, 230, 5, 7, 423, 616, 8, 73, 61, 97, 1145, ...              [6, 29337, 29338, 29339, 6, 29340, 2]\n",
              "4  [1, 283, 508, 740, 33, 796, 4, 12068, 3178, 9,...  [892, 12069, 518, 5166, 20, 3, 500, 23972, 478..."
            ]
          },
          "metadata": {
            "tags": []
          },
          "execution_count": 37
        }
      ]
    },
    {
      "cell_type": "markdown",
      "metadata": {
        "id": "fdckQrYgeHvx"
      },
      "source": [
        "<div class=\"alert alert-block alert-danger\" style=\"color:black;background-color:#E7F4FA\">\n",
        "\n",
        "\n",
        "**1.4.2** - Given 5 sentences from the previous question (test set), predict the next word. \n",
        "Append this predicted word to the input sequence and predict the next one. Repeat this process until you reach the 10th token or the end of a sentence. Compare your results qualitatively with the original sentences. Do the results make sense wrt the context and semantics?\n",
        "\n",
        "Repeat this for all the models built using different tokenization techniques.\n",
        "<br /><br />\n",
        "    \n",
        "</div>"
      ]
    },
    {
      "cell_type": "code",
      "metadata": {
        "id": "ODaMZUSPxmJb"
      },
      "source": [
        "def predict_missing_word_freq_based(msg, missing_info, dictionary, reversed_dictionary, count_dict):\n",
        "  missing_text_actual = \"\"\n",
        "  for seq in missing_info[:min(10, len(missing_info))]:\n",
        "    missing_text_actual += reversed_dictionary[seq] + \" \"\n",
        "\n",
        "  missing_text_predicted=''\n",
        "  message = msg.copy()\n",
        "  for i in range(min(10, len(missing_info))):\n",
        "    last_word = message[-1]\n",
        "    keyword_dict = {k[1]:v for k,v in count_dict.items() if k[0] == last_word}\n",
        "\n",
        "    next_word = max(keyword_dict, key=keyword_dict.get)\n",
        "    message.append(next_word)\n",
        "    missing_text_predicted += reversed_dictionary[next_word] + \" \"\n",
        "\n",
        "  return missing_text_actual, missing_text_predicted"
      ],
      "execution_count": null,
      "outputs": []
    },
    {
      "cell_type": "code",
      "metadata": {
        "id": "4QOcBjmKag8g"
      },
      "source": [
        "def print_predicted_seq(df, dictionary, reversed_dictionary, count_dict):\n",
        "  for i in range(5):\n",
        "    actual, pred = predict_missing_word_freq_based(df['message'][i], df['missing_info'][i], dictionary, reversed_dictionary, count_dict)\n",
        "    print(\"==== Sentence {} ====\".format(i+1))\n",
        "    incomplete_message= \" \".join([reversed_dictionary[seq] for seq in df['message'][i]])\n",
        "    print(\"Input Message :\", incomplete_message)\n",
        "    print(\"Actual: \",actual)\n",
        "    print(\"Predicted: \",pred)\n",
        "    print()"
      ],
      "execution_count": null,
      "outputs": []
    },
    {
      "cell_type": "code",
      "metadata": {
        "colab": {
          "base_uri": "https://localhost:8080/"
        },
        "id": "t87ngLI8hdrl",
        "outputId": "b036dfe4-b116-4136-a66a-2acfd7d480e1"
      },
      "source": [
        "print_predicted_seq(df_val_tok1_split, dictionary, reversed_dictionary, bigrams_count_dict_tok1)"
      ],
      "execution_count": null,
      "outputs": [
        {
          "output_type": "stream",
          "text": [
            "==== Sentence 1 ====\n",
            "Input Message : <s> while the UNK line UNK from UNK was not UNK some UNK were made to the UNK to UNK for more UNK UNK of\n",
            "Actual:  the lines to better UNK their UNK </s> \n",
            "Predicted:  UNK UNK UNK UNK UNK UNK UNK UNK \n",
            "\n",
            "==== Sentence 2 ====\n",
            "Input Message : <s> if u not UNK just tell me\n",
            "Actual:  that </s> \n",
            "Predicted:  UNK UNK \n",
            "\n",
            "==== Sentence 3 ====\n",
            "Input Message : <s> if im UNK for a job which UNK can\n",
            "Actual:  i call </s> \n",
            "Predicted:  i am a \n",
            "\n",
            "==== Sentence 4 ====\n",
            "Input Message : <s> according to wfp UNK no more than UNK people have UNK in three temporary UNK camps near UNK and\n",
            "Actual:  UNK UNK UNK and UNK </s> \n",
            "Predicted:  UNK UNK UNK UNK UNK UNK \n",
            "\n",
            "==== Sentence 5 ====\n",
            "Input Message : <s> pakistan air force has UNK UNK UNK of relief UNK including tents blankets dry UNK medicines in the disaster UNK UNK and UNK areas during last six UNK relief activities was UNK by various\n",
            "Actual:  UNK transport UNK that include UNK UNK UNK and UNK \n",
            "Predicted:  UNK UNK UNK UNK UNK UNK UNK UNK UNK UNK \n",
            "\n"
          ],
          "name": "stdout"
        }
      ]
    },
    {
      "cell_type": "code",
      "metadata": {
        "colab": {
          "base_uri": "https://localhost:8080/"
        },
        "id": "K5Es43Rmh5Lx",
        "outputId": "2bf4f7de-df4a-49a4-9a72-3f64503407de"
      },
      "source": [
        "print_predicted_seq(df_val_tok2_split, dictionary_2, reversed_dictionary_2, bigrams_count_dict_tok2)"
      ],
      "execution_count": null,
      "outputs": [
        {
          "output_type": "stream",
          "text": [
            "==== Sentence 1 ====\n",
            "Input Message : <s> while the actual line data from gaul was not modified some adjustments were made to the data to allow for more finegrained styling of\n",
            "Actual:  the lines to better reflect their status </s> \n",
            "Predicted:  the earthquake in the earthquake in the earthquake \n",
            "\n",
            "==== Sentence 2 ====\n",
            "Input Message : <s> if u not underst just tell me\n",
            "Actual:  that </s> \n",
            "Predicted:  to the \n",
            "\n",
            "==== Sentence 3 ====\n",
            "Input Message : <s> if im looking for a job which ngo can\n",
            "Actual:  i call </s> \n",
            "Predicted:  i am a \n",
            "\n",
            "==== Sentence 4 ====\n",
            "Input Message : <s> according to wfp estimates no more than 10000 people have remained in three temporary accomodation camps near gisenyi and\n",
            "Actual:  ruhengeri nkamira mkwero and mudende </s> \n",
            "Predicted:  the earthquake in the earthquake in \n",
            "\n",
            "==== Sentence 5 ====\n",
            "Input Message : <s> pakistan air force has delivered 163000 kg of relief cargo including tents blankets dry ration medicines in the disaster stricken muzaffarabad and adjacent areas during last six daysthe relief activities was undertaken by various\n",
            "Actual:  paf transport aircrafts that include y12 c130 casa and mi17 \n",
            "Predicted:  locations for the earthquake in the earthquake in the earthquake \n",
            "\n"
          ],
          "name": "stdout"
        }
      ]
    },
    {
      "cell_type": "code",
      "metadata": {
        "colab": {
          "base_uri": "https://localhost:8080/"
        },
        "id": "T6966-Deh-XS",
        "outputId": "1e93e9ab-fa05-4909-b820-d8294c00b263"
      },
      "source": [
        "print_predicted_seq(df_val_tok3_split, dictionary_3, reversed_dictionary_3, bigrams_count_dict_tok3)"
      ],
      "execution_count": null,
      "outputs": [
        {
          "output_type": "stream",
          "text": [
            "==== Sentence 1 ====\n",
            "Input Message : <s> while the actual line data from gaul was not modifi ed some adjustments were made to the data to allow for more finegrain ed styl ing of\n",
            "Actual:  the lin es to bett er reflect their status </s> \n",
            "Predicted:  the in the in the in the in the in \n",
            "\n",
            "==== Sentence 2 ====\n",
            "Input Message : <s> if u not un derst just tell\n",
            "Actual:  me that </s> \n",
            "Predicted:  me to the \n",
            "\n",
            "==== Sentence 3 ====\n",
            "Input Message : <s> if im look ing for a job which ngo\n",
            "Actual:  can i call </s> \n",
            "Predicted:  that the in the \n",
            "\n",
            "==== Sentence 4 ====\n",
            "Input Message : <s> accord ing to wfp estimat es no more than 10000 people have remain ed in three temporary accomodation camps near gisenyi\n",
            "Actual:  and ruhengeri nkamira mkwero and mudende </s> \n",
            "Predicted:  and the in the in the in \n",
            "\n",
            "==== Sentence 5 ====\n",
            "Input Message : <s> pakistan air force has deliver ed 163000 kg of relief cargo in cluding includ ing tents blankets dry ration medicin es in the disast er stricken muzaffarabad and adjacent areas dur ing last six daysthe relief activiti es was un dertaken by\n",
            "Actual:  various paf transport aircrafts that in clude y12 c130 casa \n",
            "Predicted:  the in the in the in the in the in \n",
            "\n"
          ],
          "name": "stdout"
        }
      ]
    },
    {
      "cell_type": "markdown",
      "metadata": {
        "id": "Nr2aiM6xnnyy"
      },
      "source": [
        "**We can clearly see that the perdicted word doesn't make sense wrt the context and semantics, since its always predicting the most frequent word.**"
      ]
    },
    {
      "cell_type": "markdown",
      "metadata": {
        "id": "RVSW0IpFeHvx"
      },
      "source": [
        "<div class=\"alert alert-block alert-danger\" style=\"color:black;background-color:#E7F4FA\">\n",
        "\n",
        "**1.4.3** - Repeat the same exercise, for all 3 models, but this time, the next token will be sampled from a distribution given by the bigram frequency. Compare and comment on the results?\n",
        "\n",
        "\n",
        "*Hint:* In a model of two bigrams with frequencies 0.7 and 0.3, a deterministic prediction will only predict the first bigram. Sampling from a distribution, will enable the model to predict the second bigram with a probability of 0.3. In this way we can still predict infrequent tokens. \n",
        "<br /><br />\n",
        "    \n",
        "</div>"
      ]
    },
    {
      "cell_type": "code",
      "metadata": {
        "id": "y864JVr3eHvy"
      },
      "source": [
        "# Your code here\n",
        "def predict_next_word(msg, missing_info, dictionary, reversed_dictionary, probability_dict):\n",
        "  missing_text_actual = \"\"\n",
        "  for seq in missing_info[:min(10, len(missing_info))]:\n",
        "    missing_text_actual += reversed_dictionary[seq] + \" \"\n",
        "\n",
        "  missing_text_predicted=''\n",
        "  message = msg.copy()\n",
        "  for i in range(min(10, len(missing_info))):\n",
        "    last_word = message[-1]\n",
        "    probability_list = [v for k,v in probability_dict.items() if k[0] == last_word]\n",
        "    next_word_list = [k[1] for k,v in probability_dict.items() if k[0] == last_word]\n",
        "\n",
        "    next_word = np.random.choice(next_word_list, p=probability_list)\n",
        "    message.append(next_word)\n",
        "    missing_text_predicted += reversed_dictionary[next_word] + \" \"\n",
        "\n",
        "  return missing_text_actual, missing_text_predicted\n"
      ],
      "execution_count": null,
      "outputs": []
    },
    {
      "cell_type": "code",
      "metadata": {
        "id": "ZWB36AV1umc3"
      },
      "source": [
        "def print_predicted_seq(df, dictionary, reversed_dictionary, probability_dict):\n",
        "  for i in range(5):\n",
        "    actual, pred = predict_next_word(df['message'][i], df['missing_info'][i], dictionary, reversed_dictionary, probability_dict)\n",
        "    print(\"==== Sentence {} ====\".format(i+1))\n",
        "    incomplete_message= \" \".join([reversed_dictionary[seq] for seq in df['message'][i]])\n",
        "    print(\"Input Message :\", incomplete_message)\n",
        "    print(\"Actual: \",actual)\n",
        "    print(\"Predicted: \",pred)\n",
        "    print()"
      ],
      "execution_count": null,
      "outputs": []
    },
    {
      "cell_type": "code",
      "metadata": {
        "colab": {
          "base_uri": "https://localhost:8080/"
        },
        "id": "nOr3zRJEAVhQ",
        "outputId": "4578bde3-dad4-4f95-c8d8-f989abf604e0"
      },
      "source": [
        "print_predicted_seq(df_val_tok1_split, dictionary, reversed_dictionary, bigram_prob_dict_tok1)"
      ],
      "execution_count": null,
      "outputs": [
        {
          "output_type": "stream",
          "text": [
            "==== Sentence 1 ====\n",
            "Input Message : <s> while the UNK line UNK from UNK was not UNK some UNK were made to the UNK to UNK for more UNK UNK of\n",
            "Actual:  the lines to better UNK their UNK </s> \n",
            "Predicted:  UNK good morning a person UNK UNK a \n",
            "\n",
            "==== Sentence 2 ====\n",
            "Input Message : <s> if u not UNK just tell me\n",
            "Actual:  that </s> \n",
            "Predicted:  are in \n",
            "\n",
            "==== Sentence 3 ====\n",
            "Input Message : <s> if im UNK for a job which UNK can\n",
            "Actual:  i call </s> \n",
            "Predicted:  send to UNK \n",
            "\n",
            "==== Sentence 4 ====\n",
            "Input Message : <s> according to wfp UNK no more than UNK people have UNK in three temporary UNK camps near UNK and\n",
            "Actual:  UNK UNK UNK and UNK </s> \n",
            "Predicted:  roads used to improve UNK also \n",
            "\n",
            "==== Sentence 5 ====\n",
            "Input Message : <s> pakistan air force has UNK UNK UNK of relief UNK including tents blankets dry UNK medicines in the disaster UNK UNK and UNK areas during last six UNK relief activities was UNK by various\n",
            "Actual:  UNK transport UNK that include UNK UNK UNK and UNK \n",
            "Predicted:  communities to pass over a large parts of his UNK \n",
            "\n"
          ],
          "name": "stdout"
        }
      ]
    },
    {
      "cell_type": "code",
      "metadata": {
        "colab": {
          "base_uri": "https://localhost:8080/"
        },
        "id": "hhBF_-8FEuw_",
        "outputId": "1d295019-796d-432b-b843-997f01f8a8c1"
      },
      "source": [
        "print_predicted_seq(df_val_tok2_split, dictionary_2, reversed_dictionary_2, bigram_prob_dict_tok2)"
      ],
      "execution_count": null,
      "outputs": [
        {
          "output_type": "stream",
          "text": [
            "==== Sentence 1 ====\n",
            "Input Message : <s> while the actual line data from gaul was not modified some adjustments were made to the data to allow for more finegrained styling of\n",
            "Actual:  the lines to better reflect their status </s> \n",
            "Predicted:  cyclones and hundreds of tools that we were \n",
            "\n",
            "==== Sentence 2 ====\n",
            "Input Message : <s> if u not underst just tell me\n",
            "Actual:  that </s> \n",
            "Predicted:  where unhcr \n",
            "\n",
            "==== Sentence 3 ====\n",
            "Input Message : <s> if im looking for a job which ngo can\n",
            "Actual:  i call </s> \n",
            "Predicted:  go through nutrition \n",
            "\n",
            "==== Sentence 4 ====\n",
            "Input Message : <s> according to wfp estimates no more than 10000 people have remained in three temporary accomodation camps near gisenyi and\n",
            "Actual:  ruhengeri nkamira mkwero and mudende </s> \n",
            "Predicted:  little thing which it is job \n",
            "\n",
            "==== Sentence 5 ====\n",
            "Input Message : <s> pakistan air force has delivered 163000 kg of relief cargo including tents blankets dry ration medicines in the disaster stricken muzaffarabad and adjacent areas during last six daysthe relief activities was undertaken by various\n",
            "Actual:  paf transport aircrafts that include y12 c130 casa and mi17 \n",
            "Predicted:  camps daily paper del valle nevado ski resort to ensure \n",
            "\n"
          ],
          "name": "stdout"
        }
      ]
    },
    {
      "cell_type": "code",
      "metadata": {
        "colab": {
          "base_uri": "https://localhost:8080/"
        },
        "id": "dX7kKjUER-wI",
        "outputId": "00760023-fad5-4378-b470-61d2fdf1e47d"
      },
      "source": [
        "print_predicted_seq(df_val_tok3_split, dictionary_3, reversed_dictionary_3, bigram_prob_dict_tok3)"
      ],
      "execution_count": null,
      "outputs": [
        {
          "output_type": "stream",
          "text": [
            "==== Sentence 1 ====\n",
            "Input Message : <s> while the actual line data from gaul was not modifi ed some adjustments were made to the data to allow for more finegrain ed styl ing of\n",
            "Actual:  the lin es to bett er reflect their status </s> \n",
            "Predicted:  shops just to l ed fishery sector in haiti what \n",
            "\n",
            "==== Sentence 2 ====\n",
            "Input Message : <s> if u not un derst just tell\n",
            "Actual:  me that </s> \n",
            "Predicted:  me the hudson \n",
            "\n",
            "==== Sentence 3 ====\n",
            "Input Message : <s> if im look ing for a job which ngo\n",
            "Actual:  can i call </s> \n",
            "Predicted:  are sufer ing can \n",
            "\n",
            "==== Sentence 4 ====\n",
            "Input Message : <s> accord ing to wfp estimat es no more than 10000 people have remain ed in three temporary accomodation camps near gisenyi\n",
            "Actual:  and ruhengeri nkamira mkwero and mudende </s> \n",
            "Predicted:  and countryspecific programs work ing of rue \n",
            "\n",
            "==== Sentence 5 ====\n",
            "Input Message : <s> pakistan air force has deliver ed 163000 kg of relief cargo in cluding includ ing tents blankets dry ration medicin es in the disast er stricken muzaffarabad and adjacent areas dur ing last six daysthe relief activiti es was un dertaken by\n",
            "Actual:  various paf transport aircrafts that in clude y12 c130 casa \n",
            "Predicted:  burn ing this messageim an emergency relief suppli es 4636 \n",
            "\n"
          ],
          "name": "stdout"
        }
      ]
    },
    {
      "cell_type": "markdown",
      "metadata": {
        "id": "fCHmIDeWeHvy"
      },
      "source": [
        "<div class=\"alert alert-block alert-danger\" style=\"color:black;background-color:#E7F4FA\">\n",
        "\n",
        "### **1.5 [5 points] EVALUATE THE LANGUAGE MODELS**\n",
        "<br />\n",
        "\n",
        "    \n",
        "**1.5.1** - For each of the models built using different tokenization techniques, compute the average perplexity in the test set (part 1.1.3). Perform smoothing on the bigram models. Based on the perplexity, which model is better?\n",
        "<br /><br />\n",
        "    \n",
        "</div>"
      ]
    },
    {
      "cell_type": "code",
      "metadata": {
        "colab": {
          "base_uri": "https://localhost:8080/",
          "height": 419
        },
        "id": "5EqDp6yCeI54",
        "outputId": "19ab8da2-11cf-455b-e3a2-da43e56640b7"
      },
      "source": [
        "df_val_tok1"
      ],
      "execution_count": null,
      "outputs": [
        {
          "output_type": "execute_result",
          "data": {
            "text/html": [
              "<div>\n",
              "<style scoped>\n",
              "    .dataframe tbody tr th:only-of-type {\n",
              "        vertical-align: middle;\n",
              "    }\n",
              "\n",
              "    .dataframe tbody tr th {\n",
              "        vertical-align: top;\n",
              "    }\n",
              "\n",
              "    .dataframe thead th {\n",
              "        text-align: right;\n",
              "    }\n",
              "</style>\n",
              "<table border=\"1\" class=\"dataframe\">\n",
              "  <thead>\n",
              "    <tr style=\"text-align: right;\">\n",
              "      <th></th>\n",
              "      <th>message</th>\n",
              "    </tr>\n",
              "  </thead>\n",
              "  <tbody>\n",
              "    <tr>\n",
              "      <th>12640</th>\n",
              "      <td>[2, 149, 1, 0, 942, 0, 23, 0, 42, 36, 0, 48, 0...</td>\n",
              "    </tr>\n",
              "    <tr>\n",
              "      <th>6978</th>\n",
              "      <td>[2, 61, 699, 36, 0, 173, 317, 35, 16, 3]</td>\n",
              "    </tr>\n",
              "    <tr>\n",
              "      <th>5754</th>\n",
              "      <td>[2, 61, 87, 0, 10, 8, 180, 49, 0, 30, 9, 257, 3]</td>\n",
              "    </tr>\n",
              "    <tr>\n",
              "      <th>17980</th>\n",
              "      <td>[2, 212, 5, 383, 0, 65, 54, 85, 0, 20, 13, 0, ...</td>\n",
              "    </tr>\n",
              "    <tr>\n",
              "      <th>12699</th>\n",
              "      <td>[2, 252, 477, 675, 27, 0, 0, 0, 6, 83, 0, 124,...</td>\n",
              "    </tr>\n",
              "    <tr>\n",
              "      <th>...</th>\n",
              "      <td>...</td>\n",
              "    </tr>\n",
              "    <tr>\n",
              "      <th>4779</th>\n",
              "      <td>[2, 14, 12, 540, 71, 6, 96, 104, 0, 41, 36, 65...</td>\n",
              "    </tr>\n",
              "    <tr>\n",
              "      <th>20460</th>\n",
              "      <td>[2, 0, 0, 607, 0, 908, 54, 85, 0, 494, 79, 8, ...</td>\n",
              "    </tr>\n",
              "    <tr>\n",
              "      <th>4727</th>\n",
              "      <td>[2, 317, 1, 534, 5, 115, 1, 869, 80, 5, 250, 3]</td>\n",
              "    </tr>\n",
              "    <tr>\n",
              "      <th>10616</th>\n",
              "      <td>[2, 48, 0, 86, 13, 56, 195, 0, 5, 1, 371, 0, 5...</td>\n",
              "    </tr>\n",
              "    <tr>\n",
              "      <th>20852</th>\n",
              "      <td>[2, 0, 694, 0, 12, 62, 373, 5, 33, 872, 140, 5...</td>\n",
              "    </tr>\n",
              "  </tbody>\n",
              "</table>\n",
              "<p>1053 rows × 1 columns</p>\n",
              "</div>"
            ],
            "text/plain": [
              "                                                 message\n",
              "12640  [2, 149, 1, 0, 942, 0, 23, 0, 42, 36, 0, 48, 0...\n",
              "6978            [2, 61, 699, 36, 0, 173, 317, 35, 16, 3]\n",
              "5754    [2, 61, 87, 0, 10, 8, 180, 49, 0, 30, 9, 257, 3]\n",
              "17980  [2, 212, 5, 383, 0, 65, 54, 85, 0, 20, 13, 0, ...\n",
              "12699  [2, 252, 477, 675, 27, 0, 0, 0, 6, 83, 0, 124,...\n",
              "...                                                  ...\n",
              "4779   [2, 14, 12, 540, 71, 6, 96, 104, 0, 41, 36, 65...\n",
              "20460  [2, 0, 0, 607, 0, 908, 54, 85, 0, 494, 79, 8, ...\n",
              "4727     [2, 317, 1, 534, 5, 115, 1, 869, 80, 5, 250, 3]\n",
              "10616  [2, 48, 0, 86, 13, 56, 195, 0, 5, 1, 371, 0, 5...\n",
              "20852  [2, 0, 694, 0, 12, 62, 373, 5, 33, 872, 140, 5...\n",
              "\n",
              "[1053 rows x 1 columns]"
            ]
          },
          "metadata": {
            "tags": []
          },
          "execution_count": 71
        }
      ]
    },
    {
      "cell_type": "code",
      "metadata": {
        "colab": {
          "base_uri": "https://localhost:8080/"
        },
        "id": "wPUMX1_3cWvo",
        "outputId": "32719673-d07c-46af-9204-ae43813086f7"
      },
      "source": [
        "functools.reduce(lambda x,y: x+y,[len(x) for x in df_val_tok1.message.values])"
      ],
      "execution_count": null,
      "outputs": [
        {
          "output_type": "execute_result",
          "data": {
            "text/plain": [
              "26713"
            ]
          },
          "metadata": {
            "tags": []
          },
          "execution_count": 68
        }
      ]
    },
    {
      "cell_type": "code",
      "metadata": {
        "id": "knv9CpymeHvy"
      },
      "source": [
        "import functools\n",
        "\n",
        "# Your code here\n",
        "def perplexity_calculation(prob_dict, X_test):\n",
        "  total_count = functools.reduce(lambda x,y: x+y,[len(x) for x in X_test])\n",
        "  perplexity=0\n",
        "  for sentence in X_test:\n",
        "    prob_list = [prob_dict[(sentence[i], sentence[i+1])]+1 if (sentence[i], sentence[i+1]) in prob_dict.keys() else 1 for i in range(len(sentence)-1)]\n",
        "    prob_prod = functools.reduce((lambda x,y: x*y),prob_list)\n",
        "    perplexity += np.power((1/prob_prod),1/total_count)\n",
        "  return perplexity"
      ],
      "execution_count": null,
      "outputs": []
    },
    {
      "cell_type": "code",
      "metadata": {
        "colab": {
          "base_uri": "https://localhost:8080/"
        },
        "id": "42fFw7z0Eoc3",
        "outputId": "fcf5ee7c-e1cf-4659-da19-92053b2beb89"
      },
      "source": [
        "print(\"Average Perplexity of LM with tokenizer1 = {:.2f}\".format(perplexity_calculation(bigram_prob_dict_tok1, df_val_tok1.message.values)))"
      ],
      "execution_count": null,
      "outputs": [
        {
          "output_type": "stream",
          "text": [
            "Average Perplexity of LM with tokenizer1 = 1052.89\n"
          ],
          "name": "stdout"
        }
      ]
    },
    {
      "cell_type": "code",
      "metadata": {
        "colab": {
          "base_uri": "https://localhost:8080/"
        },
        "id": "4DwF8Hf4FXwH",
        "outputId": "3ff3b249-d4a2-4931-8d94-3f2b3aadf3fc"
      },
      "source": [
        "print(\"Average Perplexity of LM with tokenizer2 = {:.2f}\".format(perplexity_calculation(bigram_prob_dict_tok2, df_val_tok2.message.values)))"
      ],
      "execution_count": null,
      "outputs": [
        {
          "output_type": "stream",
          "text": [
            "Average Perplexity of LM with tokenizer2 = 1052.90\n"
          ],
          "name": "stdout"
        }
      ]
    },
    {
      "cell_type": "code",
      "metadata": {
        "colab": {
          "base_uri": "https://localhost:8080/"
        },
        "id": "D5oQlQcEFZSG",
        "outputId": "cc40234c-87a6-4d9d-bbb7-5393c000dcb6"
      },
      "source": [
        "print(\"Average Perplexity of LM with tokenizer3 = {:.2f}\".format(perplexity_calculation(bigram_prob_dict_tok3, df_val_tok3.message.values)))"
      ],
      "execution_count": null,
      "outputs": [
        {
          "output_type": "stream",
          "text": [
            "Average Perplexity of LM with tokenizer3 = 1052.87\n"
          ],
          "name": "stdout"
        }
      ]
    },
    {
      "cell_type": "markdown",
      "metadata": {
        "id": "8izi_pjTeHvy"
      },
      "source": [
        "<div class=\"alert alert-block alert-danger\" style=\"color:black;background-color:#E7F4FA\">\n",
        "\n",
        "**1.5.2** - Given the perplexities, which model do you think is better? Why do you think so? Does this reflect the quality of the prediction as seen in part 1.4? \n",
        "\n",
        "What is the effect of UNK words?\n",
        "    \n",
        "</div>"
      ]
    },
    {
      "cell_type": "markdown",
      "metadata": {
        "id": "onbPzcy2eHvy"
      },
      "source": [
        "#### Definietly the LM built with tokenizer 3 has the lowest perplexity, because here we're essentially teaching the model to learn the base word, therefore the same baseword with different prefix and suffix would be treated similarly, unlike the other tokenizers which fail to recognize this and end up assigning 'UNK' or prob=0 to the words with different prefix or suffix.\n",
        "\n",
        "#### Clearly, lower the perplexity, more confident our model is in its prediction. Therefore the quality of prediction is good.\n",
        "\n",
        "#### In tokenizer 1, that assigns 'UNK' to unkown words, the perplexity is also relatively lower than tokenizer 2, because it is assigning 'UNK' tag to all the new and less frequent words, because of which during prediction as well, it is mostly predicting 'UNK' which is correct according to the dictionary that is built, but the quality of the prediction isn't good at all, as it isn't conveying any meaningful info. "
      ]
    },
    {
      "cell_type": "markdown",
      "metadata": {
        "id": "3MYWqq-7eHvy"
      },
      "source": [
        "<div class=\"alert alert-block alert-danger\" style=\"color:black;background-color:#E7F4FA\">\n",
        "\n",
        "### **1.6 [3 points] HOMEWORK QUIZ**\n",
        "<br />\n",
        "After attempting this part of the homework, answer the questions on edStem. All the questions depend on this part of the homework and you will not be able to answer it without attempting it.\n",
        "\n",
        "</div>"
      ]
    },
    {
      "cell_type": "markdown",
      "metadata": {
        "id": "sC0qDXmNeHvy"
      },
      "source": [
        "#### Answer the questions on EdStem"
      ]
    },
    {
      "cell_type": "markdown",
      "metadata": {
        "id": "v1k22ZTSeHvy"
      },
      "source": [
        "___\n",
        "___\n",
        "\n"
      ]
    },
    {
      "cell_type": "markdown",
      "metadata": {
        "id": "aAXiWcigeHvz"
      },
      "source": [
        "<div class=\"alert alert-block alert-danger\" style=\"color:black;background-color:#E7F4FA\">\n",
        "\n",
        "<h1>PART 2 [50 pts]:Word2Vec from scratch</h1>\n",
        "<br /><br />\n",
        "[Return to contents](#contents)\n",
        "<br /><br />\n",
        "\n",
        "<a id=\"part2intro\"></a>\n",
        "<h2> Problem Statement </h2>\n",
        "<br /><br />\n",
        "[Return to contents](#contents)\n",
        "<br /><br />\n",
        "\n",
        "Word2Vec architecture allows us to get *contextual* representations of word tokens.     \n",
        "<br /><br />\n",
        "There are several methods to build a word embedding. We will focus on the SGNS architecture. \n",
        "![](https://i.ibb.co/FW8Sr54/Screen-Shot-2021-04-27-at-3-27-16-PM.png)    \n",
        "<br /><br />\n",
        "In this problem, you are asked to build and analyze a Word2Vec architecture trained on wikipedia articles.\n",
        "\n",
        "</div>"
      ]
    },
    {
      "cell_type": "markdown",
      "metadata": {
        "id": "Ns9A1eXTeHvz"
      },
      "source": [
        "<div class=\"alert alert-block alert-danger\" style=\"color:black;background-color:#E7F4FA\">\n",
        "\n",
        "## **PART 2 [50 pts]: Word2Vec from scratch** \n",
        "<br />\n",
        "\n",
        "Word2Vec architecture allows us to get *contextual* representations of word tokens.     \n",
        "<br /><br />\n",
        "There are several methods to build a word embedding. We will focus on the SGNS architecture. \n",
        "<br/>\n",
        "\n",
        "![](https://i.ibb.co/FW8Sr54/Screen-Shot-2021-04-27-at-3-27-16-PM.png)    \n",
        "<br />\n",
        "In this problem, you are asked to build and analyze a Word2Vec architecture trained on wikipedia articles.\n",
        "\n",
        "<br />\n",
        "\n",
        "\n",
        "</div>"
      ]
    },
    {
      "cell_type": "markdown",
      "metadata": {
        "id": "CruesQYZeHvz"
      },
      "source": [
        "<div class=\"alert alert-block alert-danger\" style=\"color:black;background-color:#E7F4FA\">\n",
        "\n",
        "## **PART 2 Questions**\n",
        "<br />\n",
        "    \n",
        "### **2.1 [5 points] MODEL PROCESSING**\n",
        "<br />\n",
        "    \n",
        "**2.1.1 Get the data:**    \n",
        "\n",
        "- Get the data from the `text8.zip` file.\n",
        "    `text8.zip` is a small, *cleaned* subset of a large corpus of data scraped from wikipedia pages. More details can be found [here](https://paperswithcode.com/sota/language-modelling-on-text8).\n",
        "    It is usually used to quickly train, or test language models.\n",
        "    [Read here](http://mattmahoney.net/dc/textdata#:~:text=The%20purpose%20of%20the%20smaller,on%20the%20larger%20data%20set.&text=The%20two%20files%20have%20the,108%20bytes%20of%20fil9.) for more information.\n",
        "- Split the data by whitespace and print the first 10 words to check if has been correctly loaded.\n",
        "\n",
        "    **NOTE:** For this part of the homework, all words will be in their lowercase for simplicity of analysis.\n",
        "<br />    \n",
        "\n",
        "**2.1.2 Build the dataset**  \n",
        "\n",
        "- Write a function that takes the `vocabulary_size` and `corpus` as input, and outputs:\n",
        "    - Tokenized data\n",
        "    - Count of each token\n",
        "    - A dictionary that maps words to tokens\n",
        "    - A dictionary that maps tokens to words.\n",
        "    You can use the same function used in **Lab 3**, or else you can use [`tf.keras.Tokenizer`](https://www.tensorflow.org/api_docs/python/tf/keras/preprocessing/text/Tokenizer) to write a similar function.\n",
        "- Print the first 10 tokens and reverse them to words to confirm a match to the initial print above.\n",
        "     \n",
        "  \n",
        "Example:  \n",
        "\n",
        " `corpus[:10] = ['this','is,'an','example',...]`\n",
        "\n",
        "`data[:10] = [44,26,24,16,...]`\n",
        "    \n",
        "`reversed_data =['this','is,'an','example',...]`\n",
        "\n",
        "**NOTE**: Choose a sufficiently large vocabulary size. i.e `vocab_size>= 1000`    \n",
        "<br />\n",
        "    \n",
        "**2.1.3 Build skipgrams with negative samples:**  \n",
        "- Use the `tf.keras.preprocessing.sequence.skipgrams` function to build positive and negative samples for word2vec training. Follow the documentation on how to make the pairs, or see Lab 3 for an example.\n",
        "- You are free to choose your own `window_size`, but we recommend a value of 3.\n",
        "- Print 10 pairs of *center* and *context* words with their associated labels.    \n",
        "    \n",
        "### Skip-gram Sampling table\n",
        "A large dataset means larger vocabulary with higher number of more frequent words such as stopwords. Training examples obtained from sampling commonly occurring words (such as *the*, *is*, *on*) don't add much useful information for the model to learn from. [Mikolov et al.](https://papers.nips.cc/paper/2013/file/9aa42b31882ec039965f3c4923ce901b-Paper.pdf) suggest subsampling of frequent words as a helpful practice to improve embedding quality.\n",
        "\n",
        "The `tf.keras.preprocessing.sequence.skipgrams` function accepts a sampling table argument to encode probabilities of sampling any token. You can use the `tf.keras.preprocessing.sequence.make_sampling_table` to generate a word-frequency rank based probabilistic sampling table and pass it to skipgrams function.    \n",
        "<br />\n",
        "    \n",
        "**2.1.4 Conceptual question** \n",
        "    \n",
        "What is the difference between using a sampling table and not using a sampling table while building the dataset for skipgrams?\n",
        "(Answer in less than 200 words)\n",
        "<br /><br />\n",
        "    \n",
        "### **2.2 [8 points] BUILDING A WORD2VEC MODEL** \n",
        "<br />\n",
        "    \n",
        "Build a word2vec model architecture based on the schematic below.\n",
        "<center>\n",
        "    <img src=\"https://i.ibb.co/1LyGb0J/Screen-Shot-2021-04-23-at-10-50-52-AM.png\" alt=\"centered image\" width=\"200\"/>\n",
        "</center>    \n",
        "    \n",
        "- To do so, you will need:\n",
        "    - `tf.keras.layers.Embedding` layer\n",
        "    - `tf.keras.layers.Dot()`\n",
        "    - `tf.keras.Model()` which is the functional API\n",
        "- You can choose an appropriate embedding dimension\n",
        "- Compile the model using `binary_crossentropy()` function and an appropriate optimizer. \n",
        "- Sufficiently train the model.    \n",
        "It is generally a good practise to save the model weights. To save the model weights using the `model.save_weights()` for analysis of **2.3**. (More information on how to save your weights can be found [here](https://www.tensorflow.org/tutorials/keras/save_and_load))\n",
        "<br />\n",
        "\n",
        "\n",
        "### **2.3 [7 points] POST-TRAINING ANALYSIS**\n",
        "\n",
        "    \n",
        "This segment involves some simple analysis of your trained embeddings.\n",
        "<br /><br />\n",
        "    \n",
        "**2.3.1 Vector Algebra on Embeddings**\n",
        "\n",
        "- Assuming you have chosen a sufficiently large `vocab_size`, find the embeddings for:\n",
        "    \n",
        "1. King\n",
        "2. Male\n",
        "3. Female\n",
        "4. Queen\n",
        "    \n",
        "- Find the vector `v = King - Male + Female` and find it's `cosine_similarity()` with the embedding for 'Queen'.\n",
        "You can use the `cosine_similarity()` function defind in the exercise from lecture.\n",
        "\n",
        "**NOTE**: The `cosine_similarity()` value, must be greater than `0.9`; If it is not, this implies that your word2vec embeddings are not well-trained.\n",
        "\n",
        "- Write a function `most_similar()`, which finds the top-n words most similar to the given word.\n",
        "- Use this function to find the words most similar to `king`.\n",
        "    \n",
        "- **Conceptual Question** Why can't we use `cosine_similarity()` as a `loss_function`?\n",
        "(Answer in less than 200 words) \n",
        "    \n",
        "<br />\n",
        "    \n",
        "**2.3.2 Visualizing Embeddings**\n",
        "\n",
        "- Find the embeddings for the words:\n",
        "1. 'Six'\n",
        "2. 'Seven'\n",
        "3. 'Eight'\n",
        "4. 'Nine'\n",
        "    \n",
        "- Find the `cosine_similarity()` of 'six' with each of 'seven`,'eight','nine'.\n",
        "    \n",
        "- Reset your network (make sure your trained weights are saved), and again compute the `cosine_similarity()` values. The values should be small (because the embeddings are random).\n",
        "    \n",
        "- Use a demonstrative plot to show the `before & after training` the 4 embeddings. Here are some suggestions: \n",
        "    1. PCA/TSNE for dimensionality reduction\n",
        "    2. Radar plot to show all embedding dimensions\n",
        "    \n",
        "Bonus points for using creative means to demonstrate how the embeddings change after training.\n",
        "\n",
        "Here is a [video](https://youtu.be/VDl_iA8m8u0) of a sample demonstration. We used a custom callback to get embeddings during training.  \n",
        "        \n",
        "\n",
        "<br />\n",
        "    \n",
        "**2.3.3 Embedding and Context Matrix**\n",
        "    \n",
        "<br />\n",
        "    \n",
        "Investigate the relation between the Embedding & Context matrix. Again use the `cosine_similarity()` function to find the average value across all the words in the embedding and context matrix, i.e:\n",
        "\n",
        "- For a word 'dog', find the embedding value, and context value.\n",
        "- Calculate the `cosine_similarity()` between the two\n",
        "- Repeat the same for every word in the vocabulary and calculate the average value of the `cosine_similarity()\n",
        " \n",
        "<br /><br />\n",
        "    \n",
        "\n",
        "### **2.4 [5 points] LEARNING PHRASES**\n",
        "    \n",
        "As per the original paper by [Mikolov et al]() many phrases have a meaning that is not a simple composition of the meanings of its individual words. \n",
        "For eg. `new york` is one entity, however, as per our analysis above, we have two separate entities `new` & `york` which can have different meanings independently.    \n",
        "To learn vector representation for phrases, we first find words that\n",
        "appear frequently together, and infrequently in other contexts.\n",
        "    \n",
        "As per the analysis in the paper, we can use a formula to rank commonly used word pairs, and take the first 100 commonly occuring pairs.\n",
        "$$\\operatorname{score}\\left(w_{i}, w_{j}\\right)=\\frac{\\operatorname{count}\\left(w_{i} w_{j}\\right)-\\delta}{\\operatorname{count}\\left(w_{i}\\right) \\times \\operatorname{count}\\left(w_{j}\\right)}$$\n",
        "\n",
        "**NOTE:** For simplicity of analysis, we take the discounting factor $\\delta$ as 0, and take bi-gram combinations. You can experiment with tri-grams for word pairs such as `New_York_Times`.     \n",
        "<br /><br />\n",
        "\n",
        "    \n",
        "**2.4.1 Find 100 most common bi-grams**\n",
        "\n",
        "- From the tokenized data above, find the count for each bigram pair.\n",
        "    \n",
        "- For each such pair, find the score associated with each token pair using the formula above.\n",
        "    \n",
        "- Pick the top 100 pairs based on the score (higher is better). To understand the `score()` function we suggest you read the paper mentioned above.\n",
        "    \n",
        "- Replace the original `text8` file with the pairs as one entity. For e.g., if `prime,minister` is a commonly occuring pair, replace `... prime minister ...' in the original corpus to a single entity `prime_minister`. Do this for all 100 pairs.\n",
        "<br /><br />\n",
        "    \n",
        "**2.4.2 Retrain word2vec**    \n",
        "- With the new corpus generated as above, build the dataset, use skipgrams and retrain your word2vec with a sufficiently large vocabulary.\n",
        "    \n",
        "- Use the `most_similar()` function defiend above to find the entities most similar to `united_kingdom`.\n",
        "    \n",
        "- Compare the above with separate tokens for `united` & `kingdom` and the sum of the vectors (to get this, you may need a sufficiently large vocabulary (>2000).\n",
        "<br /> <br />\n",
        "\n",
        "    \n",
        "### **2.5 [5 points] HOMEWORK QUIZ**\n",
        "<br />\n",
        "After attempting this part of the homework, answer the questions on edStem. All the questions depend on this part of the homework and you will not be able to answer them without attempting this part.\n",
        "    \n",
        "</div>"
      ]
    },
    {
      "cell_type": "code",
      "metadata": {
        "id": "x0dGMQ2iK-50"
      },
      "source": [
        ""
      ],
      "execution_count": null,
      "outputs": []
    },
    {
      "cell_type": "markdown",
      "metadata": {
        "id": "b-Q2OJZ-eHvz"
      },
      "source": [
        "<div class=\"alert alert-block alert-danger\" style=\"color:black;background-color:#E7F4FA\">\n",
        "\n",
        "## **PART 2: Solutions**\n",
        "<br />\n",
        "    \n",
        "### **2.1 [5 points] MODEL PROCESSING**\n",
        "<br />\n",
        "    \n",
        "**2.1.1 Get the data:**    \n",
        "\n",
        "- Get the data from the `text8.zip` file.\n",
        "    `text8.zip` is a small, *cleaned* subset of a large corpus of data scraped from wikipedia pages.\n",
        "    It is usually used to quickly train, or test language models.\n",
        "    [Read here](http://mattmahoney.net/dc/textdata#:~:text=The%20purpose%20of%20the%20smaller,on%20the%20larger%20data%20set.&text=The%20two%20files%20have%20the,108%20bytes%20of%20fil9.) for more information\n",
        "- Split the data by whitespace print the first 10 words to check if has been correctly loaded.\n",
        "    \n",
        "**NOTE** : For this part of the homework, all words will be in their lowercase for simplicity of analysis\n",
        "<br />    <br />    \n",
        "\n",
        "    \n",
        "</div>"
      ]
    },
    {
      "cell_type": "markdown",
      "metadata": {
        "id": "2iU--QnTeHv0"
      },
      "source": [
        "#### Helper function to read data"
      ]
    },
    {
      "cell_type": "code",
      "metadata": {
        "id": "3lMX_3qYeHv0"
      },
      "source": [
        "# Helper code to read the data\n",
        "\n",
        "filename = '/content/drive/MyDrive/UnivAI/Univ AI 3/text8.zip'\n",
        "with zipfile.ZipFile(filename) as f:\n",
        "# Read the data into a list of strings.\n",
        "    vocabulary = tf.compat.as_str(f.read(f.namelist()[0])).split()"
      ],
      "execution_count": null,
      "outputs": []
    },
    {
      "cell_type": "markdown",
      "metadata": {
        "id": "dzXogMFXeHv0"
      },
      "source": [
        "<div class=\"alert alert-block alert-danger\" style=\"color:black;background-color:#E7F4FA\">\n",
        "\n",
        "**2.1.2 Build the dataset**  \n",
        "\n",
        "- Write a function that takes the `vocabulary_size` and `corpus` as input, and outputs:\n",
        "    - Tokenized data\n",
        "    - count of each token\n",
        "    - A dictionary that maps words to tokens\n",
        "    - A dictionary that maps tokens to words\n",
        "    You can use the same function used in **Lab 3**, or else you can use [`tf.keras.Tokenizer`](https://www.tensorflow.org/api_docs/python/tf/keras/preprocessing/text/Tokenizer) to write a similar function.\n",
        "- Print the first 10 tokens and reverse them to words to confirm a match to the initial print above.\n",
        "     \n",
        "  \n",
        "Eg. `corpus[:10] = ['this','is,'an','example',...]`\n",
        "\n",
        "`data[:10] = [44,26,24,16,...]`\n",
        "    \n",
        "`reversed_data =['this','is,'an','example',...]`\n",
        "\n",
        "**NOTE**: Choose a sufficiently large vocabulary size. i.e `vocab_size>= 1000`    \n",
        "<br />\n",
        "    \n",
        "</div>"
      ]
    },
    {
      "cell_type": "code",
      "metadata": {
        "id": "4jVkW-3VeHv0"
      },
      "source": [
        "def build_dataset(words, n_words):\n",
        "    \"\"\"Process raw inputs into a dataset.\"\"\" \n",
        "    # Fill in to complete this function \n",
        "    count = [['UNK', -1]]\n",
        "    count.extend(Counter(words).most_common(n_words-1))\n",
        "    \n",
        "    dictionary={}\n",
        "    for i, tup in enumerate(count):\n",
        "        dictionary[tup[0]] = i\n",
        "           \n",
        "    data = []\n",
        "    unk_count = 0\n",
        "    \n",
        "    for word in words:\n",
        "        if word in dictionary:\n",
        "            token = dictionary[word]\n",
        "        else:\n",
        "            token = 0  \n",
        "            unk_count += 1\n",
        "            \n",
        "        data.append(token)\n",
        "        \n",
        "    count[0][1] = unk_count\n",
        "    \n",
        "    reversed_dictionary = {v:k for k,v in dictionary.items()}\n",
        "    \n",
        "    return data, count, dictionary, reversed_dictionary"
      ],
      "execution_count": null,
      "outputs": []
    },
    {
      "cell_type": "code",
      "metadata": {
        "id": "5Q2pa5Pv8AWl"
      },
      "source": [
        "def get_data_sequence(text, vocab_dict):\n",
        "  seq=[]\n",
        "  for word in text:\n",
        "    if word in vocab_dict.keys():\n",
        "      seq.append(vocab_dict[word])\n",
        "    else:\n",
        "      seq.append(vocab_dict['UNK'])\n",
        "  return seq"
      ],
      "execution_count": null,
      "outputs": []
    },
    {
      "cell_type": "code",
      "metadata": {
        "id": "AKyqEj6peHv0",
        "colab": {
          "base_uri": "https://localhost:8080/"
        },
        "outputId": "f2453c4d-cf1b-462f-c047-b96ff40094b6"
      },
      "source": [
        "vocab_size = 3000\n",
        "data, count, dictionary, reverse_dictionary = build_dataset(vocabulary,\n",
        "                                                                vocab_size)\n",
        "\n",
        "data_sequence = get_data_sequence(vocabulary[0:10], dictionary)\n",
        "print(f'Original sentence is: \"{\" \".join(vocabulary[0:10])}\"')\n",
        "print(f'Tokenized sentence is: \"{data_sequence[0:10]}\"')\n",
        "print(f'Tokenized sentence reversed is: {\" \".join([reverse_dictionary[i] for i in data_sequence])}')"
      ],
      "execution_count": null,
      "outputs": [
        {
          "output_type": "stream",
          "text": [
            "Original sentence is: \"anarchism originated as a term of abuse first used against\"\n",
            "Tokenized sentence is: \"[0, 0, 12, 6, 195, 2, 0, 46, 59, 156]\"\n",
            "Tokenized sentence reversed is: UNK UNK as a term of UNK first used against\n"
          ],
          "name": "stdout"
        }
      ]
    },
    {
      "cell_type": "code",
      "metadata": {
        "id": "NG26-aeq7C1A"
      },
      "source": [
        "#del vocabulary  # Hint to reduce memory."
      ],
      "execution_count": null,
      "outputs": []
    },
    {
      "cell_type": "markdown",
      "metadata": {
        "id": "Vm_kU0A2eHv0"
      },
      "source": [
        "<div class=\"alert alert-block alert-danger\" style=\"color:black;background-color:#E7F4FA\">\n",
        "\n",
        "**2.1.3 Build skipgrams with negative samples:**  \n",
        "- Use the `tf.keras.preprocessing.sequence.skipgrams` function to build positive and negative samples \\\n",
        "    for word2vec training. Follow the documentation on how to make the pairs, or see Lab 3 for an example.\n",
        "- You are free to choose your own `window_size`, but we recommend a value of 3.\n",
        "- Print 10 pairs of *center* and *context* words with their associated labels.    \n",
        "    \n",
        "#### Skip-gram Sampling table\n",
        "A large dataset means larger vocabulary with higher number of more frequent words such as stopwords. Training examples obtained from sampling commonly occurring words (such as the, is, on) don't add much useful information for the model to learn from. [Mikolov et al.](https://papers.nips.cc/paper/2013/file/9aa42b31882ec039965f3c4923ce901b-Paper.pdf) suggest subsampling of frequent words as a helpful practice to improve embedding quality.\n",
        "\n",
        "The `tf.keras.preprocessing.sequence.skipgrams` function accepts a sampling table argument to encode probabilities of sampling any token. You can use the `tf.keras.preprocessing.sequence.make_sampling_table` to generate a word-frequency rank based probabilistic sampling table and pass it to skipgrams function.    \n",
        "\n",
        "</div>"
      ]
    },
    {
      "cell_type": "code",
      "metadata": {
        "id": "QOA28WUPeHv1",
        "colab": {
          "base_uri": "https://localhost:8080/"
        },
        "outputId": "d25d33f9-9b5b-45e6-fd31-4d602b9abc4d"
      },
      "source": [
        "# Your code here\n",
        "window_size = 3\n",
        "couples, labels = skipgrams(data,vocab_size, window_size=window_size, sampling_table=make_sampling_table(vocab_size))\n",
        "\n",
        "# Separate the target,context pairs as word_target, word_context \n",
        "word_center, word_context = zip(*couples)\n",
        "print(couples[:10], labels[:10])"
      ],
      "execution_count": null,
      "outputs": [
        {
          "output_type": "stream",
          "text": [
            "[[455, 1045], [467, 939], [2110, 936], [2169, 1], [94, 1315], [687, 5], [1568, 46], [1909, 684], [259, 10], [829, 2347]] [1, 0, 0, 1, 0, 1, 1, 1, 1, 0]\n"
          ],
          "name": "stdout"
        }
      ]
    },
    {
      "cell_type": "markdown",
      "metadata": {
        "id": "0TqcUZFReHv1"
      },
      "source": [
        "<div class=\"alert alert-block alert-danger\" style=\"color:black;background-color:#E7F4FA\">\n",
        "\n",
        "**2.1.4 Conceptual question** \n",
        "    \n",
        "What is the difference between using a sampling table and not using a sampling table while building the dataset for skipgrams?\n",
        "(Answer in less than 200 words)\n",
        "    \n",
        "</div>"
      ]
    },
    {
      "cell_type": "markdown",
      "metadata": {
        "id": "aOvNIpsYeHv1"
      },
      "source": [
        "#### Type your answer here"
      ]
    },
    {
      "cell_type": "markdown",
      "metadata": {
        "id": "lsqeGIxOeHv1"
      },
      "source": [
        "<div class=\"alert alert-block alert-danger\" style=\"color:black;background-color:#E7F4FA\">\n",
        "\n",
        "**2.2 [15 points]** **Building a word2vec model:** \n",
        "\n",
        "Build a word2vec model architecture based on the schematic below.\n",
        "<center>\n",
        "    <img src=\"https://i.ibb.co/1LyGb0J/Screen-Shot-2021-04-23-at-10-50-52-AM.png\" alt=\"centered image\" width=\"200\"/>\n",
        "</center>    \n",
        "    \n",
        "- To do so, you will need:\n",
        "    - `tf.keras.layers.Embedding` layer\n",
        "    - `tf.keras.layers.Dot()`\n",
        "    - `tf.keras.Model()` which is the functional API\n",
        "- You can choose an appropriate embedding dimension\n",
        "- Compile the model using `binary_crossentropy()` function and an appropriate optimizer. \n",
        "- Sufficiently train the model.\n",
        "    - Your model will be sufficiently trained when? (Check with Ignacio)    \n",
        "    \n",
        "It is generally a good practise to save the model weights. To save the model weights using the `model.save_weights()` for analysis of **2.3**. (More information on how to save your weights can be found [here](https://www.tensorflow.org/tutorials/keras/save_and_load))\n",
        "\n",
        "\n",
        "    \n",
        "</div>"
      ]
    },
    {
      "cell_type": "code",
      "metadata": {
        "id": "buKn58NbeHv1"
      },
      "source": [
        "# Your code here\n",
        "def create_model():\n",
        "    \n",
        "  embedding_dim = 300\n",
        "\n",
        "  word_model = Sequential()\n",
        "  word_model.add(Embedding(vocab_size, embedding_dim, input_length=1, name=\"Embedding_1\"))\n",
        "  word_model.add(Reshape((embedding_dim, ))) \n",
        "\n",
        "  context_model = Sequential()\n",
        "  context_model.add(Embedding(vocab_size, embedding_dim, input_length=1, name=\"Embedding_2\"))\n",
        "  context_model.add(Reshape((embedding_dim, ))) \n",
        "\n",
        "  dot_product = dot([word_model.output, context_model.output],axes=1,\n",
        "                    normalize=False,name='dotproduct')\n",
        "\n",
        "  sigmoid_dot_product = Dense(1, activation=\"sigmoid\", name=\"Dense_Layer\")(dot_product)\n",
        "\n",
        "  model = Model(inputs=[word_model.input, context_model.input], outputs=sigmoid_dot_product, name=\"Model\")\n",
        "\n",
        "  return model"
      ],
      "execution_count": null,
      "outputs": []
    },
    {
      "cell_type": "code",
      "metadata": {
        "colab": {
          "base_uri": "https://localhost:8080/"
        },
        "id": "xaIQ-IKi2dNz",
        "outputId": "837fe21d-216a-43bc-a885-c999015ef677"
      },
      "source": [
        "model = create_model()\n",
        "model.summary()"
      ],
      "execution_count": null,
      "outputs": [
        {
          "output_type": "stream",
          "text": [
            "Model: \"Model\"\n",
            "__________________________________________________________________________________________________\n",
            "Layer (type)                    Output Shape         Param #     Connected to                     \n",
            "==================================================================================================\n",
            "Embedding_1_input (InputLayer)  [(None, 1)]          0                                            \n",
            "__________________________________________________________________________________________________\n",
            "Embedding_2_input (InputLayer)  [(None, 1)]          0                                            \n",
            "__________________________________________________________________________________________________\n",
            "Embedding_1 (Embedding)         (None, 1, 300)       900000      Embedding_1_input[0][0]          \n",
            "__________________________________________________________________________________________________\n",
            "Embedding_2 (Embedding)         (None, 1, 300)       900000      Embedding_2_input[0][0]          \n",
            "__________________________________________________________________________________________________\n",
            "reshape (Reshape)               (None, 300)          0           Embedding_1[0][0]                \n",
            "__________________________________________________________________________________________________\n",
            "reshape_1 (Reshape)             (None, 300)          0           Embedding_2[0][0]                \n",
            "__________________________________________________________________________________________________\n",
            "dotproduct (Dot)                (None, 1)            0           reshape[0][0]                    \n",
            "                                                                 reshape_1[0][0]                  \n",
            "__________________________________________________________________________________________________\n",
            "Dense_Layer (Dense)             (None, 1)            2           dotproduct[0][0]                 \n",
            "==================================================================================================\n",
            "Total params: 1,800,002\n",
            "Trainable params: 1,800,002\n",
            "Non-trainable params: 0\n",
            "__________________________________________________________________________________________________\n"
          ],
          "name": "stdout"
        }
      ]
    },
    {
      "cell_type": "code",
      "metadata": {
        "id": "-CB4RhwZB2Q3"
      },
      "source": [
        "model.compile(loss='bce',optimizer=optimizers.Adam(0.01), metrics=['accuracy'])"
      ],
      "execution_count": null,
      "outputs": []
    },
    {
      "cell_type": "code",
      "metadata": {
        "id": "ZS0ydLmxhBMg"
      },
      "source": [
        "import random\n",
        "\n",
        "def generate_data(word_center, word_context, labels):\n",
        "  batch_size=128\n",
        "  for i in range(0,len(labels),batch_size):\n",
        "    yield ([np.array(word_center[i:i+batch_size]), np.array(word_context[i:i+batch_size])], np.array(labels[i:i+batch_size]))\n"
      ],
      "execution_count": null,
      "outputs": []
    },
    {
      "cell_type": "code",
      "metadata": {
        "id": "jxSoe49fmF6K"
      },
      "source": [
        "temp = list(zip(list(word_center), list(word_context), list(labels)))\n",
        "random.shuffle(temp)\n",
        "word_center_shuffled, word_context_shuffled, labels_shuffled = zip(*temp)\n",
        "generator = generate_data(word_center_shuffled, word_context_shuffled, labels_shuffled)"
      ],
      "execution_count": null,
      "outputs": []
    },
    {
      "cell_type": "code",
      "metadata": {
        "id": "fD0825jPCFpu",
        "colab": {
          "base_uri": "https://localhost:8080/"
        },
        "outputId": "2f5ca3b4-5660-4713-d7a2-e1ff02c2c11b"
      },
      "source": [
        "#model.fit_generator(generator, epochs=10, steps_per_epoch=len(labels)//128, verbose=1)"
      ],
      "execution_count": null,
      "outputs": [
        {
          "output_type": "stream",
          "text": [
            "/usr/local/lib/python3.7/dist-packages/tensorflow/python/keras/engine/training.py:1844: UserWarning: `Model.fit_generator` is deprecated and will be removed in a future version. Please use `Model.fit`, which supports generators.\n",
            "  warnings.warn('`Model.fit_generator` is deprecated and '\n"
          ],
          "name": "stderr"
        },
        {
          "output_type": "stream",
          "text": [
            "Epoch 1/10\n",
            "109248/109248 [==============================] - 2085s 19ms/step - loss: 0.4165 - accuracy: 0.8153\n",
            "Epoch 2/10\n",
            "     1/109248 [..............................] - ETA: 32:27 - loss: 0.1707 - accuracy: 0.9286WARNING:tensorflow:Your input ran out of data; interrupting training. Make sure that your dataset or generator can generate at least `steps_per_epoch * epochs` batches (in this case, 1092480 batches). You may need to use the repeat() function when building your dataset.\n",
            "109248/109248 [==============================] - 0s 0us/step - loss: 0.1707 - accuracy: 0.9286\n"
          ],
          "name": "stdout"
        },
        {
          "output_type": "execute_result",
          "data": {
            "text/plain": [
              "<tensorflow.python.keras.callbacks.History at 0x7fc8cb4f93d0>"
            ]
          },
          "metadata": {
            "tags": []
          },
          "execution_count": 188
        }
      ]
    },
    {
      "cell_type": "code",
      "metadata": {
        "id": "68RF1_g5Y_3_"
      },
      "source": [
        "#model.save_weights('/content/drive/MyDrive/UnivAI/Univ AI 3/word2vec_model')"
      ],
      "execution_count": null,
      "outputs": []
    },
    {
      "cell_type": "code",
      "metadata": {
        "id": "TTEJIshIQSWY",
        "colab": {
          "base_uri": "https://localhost:8080/"
        },
        "outputId": "6962cdbd-7f85-4e00-924e-d688a2d118b6"
      },
      "source": [
        "# Create a new model instance\n",
        "model = create_model()\n",
        "\n",
        "# Restore the weights\n",
        "model.load_weights('/content/drive/MyDrive/UnivAI/Univ AI 3/word2vec_model')"
      ],
      "execution_count": null,
      "outputs": [
        {
          "output_type": "execute_result",
          "data": {
            "text/plain": [
              "<tensorflow.python.training.tracking.util.CheckpointLoadStatus at 0x7f81f8b1f990>"
            ]
          },
          "metadata": {
            "tags": []
          },
          "execution_count": 12
        }
      ]
    },
    {
      "cell_type": "markdown",
      "metadata": {
        "id": "x0yyMVPCeHv1"
      },
      "source": [
        "<div class=\"alert alert-block alert-danger\" style=\"color:black;background-color:#E7F4FA\">\n",
        "\n",
        "### **2.3 [7 points] POST-TRAINING ANALYSIS**\n",
        "<br />\n",
        "    \n",
        "This segment involves some simple analysis of your trained embeddings.\n",
        "<br />\n",
        "    \n",
        "**2.3.1Vector Algebra on Embeddings**\n",
        "\n",
        "Assuming you have chosen a sufficiently large `vocab_size`, find the embeddings for:\n",
        "    \n",
        "1. King\n",
        "2. Male\n",
        "3. Female\n",
        "4. Queen\n",
        "    \n",
        "Find the vector `v = King - Male + Female` and find it's `cosine_similarity()` with the embedding for 'Queen'.\n",
        "You can use the `cosine_similarity()` function defind in session 3 exercise.\n",
        "\n",
        "**NOTE**:The `cosine_similarity()` value, must be greater than `0.9`; If it is not, this implies that your word2vec embeddings are not well-trained.\n",
        "\n",
        "Write a function `most_similar()`, which finds the top-n words most similar to the given word.\n",
        "    - Use this function to find the words most similar to `king`.\n",
        "    \n",
        "**Conceptual Question** Why can't we use `cosine_similarity()` as a `loss_function`?\n",
        "(Answer in less than 200 words) \n",
        "    \n",
        "<br />\n",
        "    \n",
        "</div>"
      ]
    },
    {
      "cell_type": "code",
      "metadata": {
        "id": "8fa_rv-oeHv2"
      },
      "source": [
        "# Your code here\n",
        "def cosine_similarity(vectorA,vectorB):\n",
        "    return np.dot(vectorA,vectorB.T)/(np.linalg.norm(vectorA)*np.linalg.norm(vectorB))"
      ],
      "execution_count": null,
      "outputs": []
    },
    {
      "cell_type": "code",
      "metadata": {
        "id": "MfQodJOW3eaY"
      },
      "source": [
        "embeddings = model.get_layer('Embedding_1').get_weights()[0]"
      ],
      "execution_count": null,
      "outputs": []
    },
    {
      "cell_type": "code",
      "metadata": {
        "id": "RqX8n-XP4ck6"
      },
      "source": [
        "king_vector = embeddings[dictionary['king']]\n",
        "male_vector = embeddings[dictionary['male']]\n",
        "female_vector = embeddings[dictionary['female']]\n",
        "queen_vector = embeddings[dictionary['queen']]"
      ],
      "execution_count": null,
      "outputs": []
    },
    {
      "cell_type": "code",
      "metadata": {
        "colab": {
          "base_uri": "https://localhost:8080/"
        },
        "id": "n6TmXcLn6N6o",
        "outputId": "4ccec60d-7c94-4313-f03f-2c17a5a55cdc"
      },
      "source": [
        "v = king_vector - male_vector + female_vector\n",
        "similarity_v_queen = cosine_similarity(v, queen_vector)\n",
        "similarity_v_queen"
      ],
      "execution_count": null,
      "outputs": [
        {
          "output_type": "execute_result",
          "data": {
            "text/plain": [
              "0.39938477"
            ]
          },
          "metadata": {
            "tags": []
          },
          "execution_count": 16
        }
      ]
    },
    {
      "cell_type": "code",
      "metadata": {
        "id": "s1xnZpRv61-U"
      },
      "source": [
        "def most_similar(word):\n",
        "  word_vector = embeddings[dictionary[word]]\n",
        "  cosine_values = {k:cosine_similarity(embeddings[v],word_vector) for k,v in dictionary.items() if k not in [word]}\n",
        "  closest = max(cosine_values,key =lambda x: cosine_values[x])\n",
        "  return closest"
      ],
      "execution_count": null,
      "outputs": []
    },
    {
      "cell_type": "code",
      "metadata": {
        "colab": {
          "base_uri": "https://localhost:8080/",
          "height": 35
        },
        "id": "EHWg9Bjg8nVN",
        "outputId": "c9e3a152-2e9f-4b2c-969f-736832fd6b22"
      },
      "source": [
        "most_similar('king')"
      ],
      "execution_count": null,
      "outputs": [
        {
          "output_type": "execute_result",
          "data": {
            "application/vnd.google.colaboratory.intrinsic+json": {
              "type": "string"
            },
            "text/plain": [
              "'son'"
            ]
          },
          "metadata": {
            "tags": []
          },
          "execution_count": 18
        }
      ]
    },
    {
      "cell_type": "markdown",
      "metadata": {
        "id": "UtfmUBsFeHv2"
      },
      "source": [
        "<div class=\"alert alert-block alert-danger\" style=\"color:black;background-color:#E7F4FA\">\n",
        "\n",
        "\n",
        "**2.3.2 Visualizing Embeddings**\n",
        "\n",
        "Find the embeddings for the words:\n",
        "1. 'Six'\n",
        "2. 'Seven'\n",
        "3. 'Eight'\n",
        "4. 'Nine'\n",
        "    \n",
        "Find the `cosine_similarity()` of 'six' with each of 'seven`,'eight','nine' (which should be high values).\n",
        "    \n",
        "Reset your network (make sure your trained weights are saved), and again compute the `cosine_similarity()` values. The values should be small (because the embeddings are random).\n",
        "    \n",
        "Use a demonstrative plot to show the `before & after training` of the 4 embeddings. Here are some suggestions: \n",
        "    1. PCA/TSNE for dimensionality reduction\n",
        "    2. Radar plot to show all embedding dimensions\n",
        "    \n",
        "Bonus points for using creative means to demonstrate how the embeddings change after training.\n",
        "\n",
        "        \n",
        "\n",
        "<br />\n",
        "    \n",
        "</div>"
      ]
    },
    {
      "cell_type": "code",
      "metadata": {
        "colab": {
          "base_uri": "https://localhost:8080/"
        },
        "id": "3623j7W19a5m",
        "outputId": "328d5ff5-7d8a-4eef-94ff-dca5d8554189"
      },
      "source": [
        "six_vector= embeddings[dictionary['six']]\n",
        "seven_vector= embeddings[dictionary['seven']]\n",
        "eight_vector= embeddings[dictionary['eight']]\n",
        "nine_vector= embeddings[dictionary['nine']]\n",
        "\n",
        "cos_sim_six_seven = cosine_similarity(seven_vector, six_vector)\n",
        "cos_sim_six_eight = cosine_similarity(eight_vector, six_vector)\n",
        "cos_sim_six_nine = cosine_similarity(nine_vector, six_vector)\n",
        "\n",
        "cos_sim_six_seven, cos_sim_six_eight, cos_sim_six_nine"
      ],
      "execution_count": null,
      "outputs": [
        {
          "output_type": "execute_result",
          "data": {
            "text/plain": [
              "(0.7515314, 0.73684996, 0.67870075)"
            ]
          },
          "metadata": {
            "tags": []
          },
          "execution_count": 19
        }
      ]
    },
    {
      "cell_type": "code",
      "metadata": {
        "id": "9q74NNmM_HAk"
      },
      "source": [
        "new_model = create_model()\n",
        "new_model.compile(loss='bce',optimizer='adam', metrics=['accuracy'])\n",
        "initial_embeddings = new_model.get_layer('Embedding_1').get_weights()[0]"
      ],
      "execution_count": null,
      "outputs": []
    },
    {
      "cell_type": "code",
      "metadata": {
        "id": "nc1VegylADIu"
      },
      "source": [
        "### TODO: Radar or TSNE plot"
      ],
      "execution_count": null,
      "outputs": []
    },
    {
      "cell_type": "markdown",
      "metadata": {
        "id": "3cApSXEheHv2"
      },
      "source": [
        "#### Here is a [video](https://youtu.be/VDl_iA8m8u0) of a sample demonstration. We used a custom callback to get embeddings during training.  "
      ]
    },
    {
      "cell_type": "markdown",
      "metadata": {
        "id": "1irhva4AeHv2"
      },
      "source": [
        "<div class=\"alert alert-block alert-danger\" style=\"color:black;background-color:#E7F4FA\">\n",
        "\n",
        "**2.3.3 Embedding and Context Matrix**\n",
        "    \n",
        "<br />\n",
        "    \n",
        "Investigate the relation between the Embedding & Context matrix. Again use the `cosine_similarity()` function to find the average value across all the words in the embedding and context matrix, i.e:\n",
        "    - For a word 'dog', find the embedding value, and context value.\n",
        "    - Calculate the `cosine_similarity()` between the two\n",
        "    - Repeat the same for every word in the vocabulary and calculate the average value of the `cosine_similarity()`\n",
        "\n",
        "<br />\n",
        "    \n",
        "</div>"
      ]
    },
    {
      "cell_type": "code",
      "metadata": {
        "id": "-87UALh0eHv2"
      },
      "source": [
        "# Your code here\n",
        "context_matrix = model.get_layer('Embedding_2').get_weights()[0]"
      ],
      "execution_count": null,
      "outputs": []
    },
    {
      "cell_type": "code",
      "metadata": {
        "colab": {
          "base_uri": "https://localhost:8080/"
        },
        "id": "rgjHAsZZCbGR",
        "outputId": "34361b13-7683-4407-cf41-d64a46be5a25"
      },
      "source": [
        "cos_sum = 0\n",
        "for _,v in dictionary.items():\n",
        "  idx = v\n",
        "  embedding_vector = embeddings[idx]\n",
        "  context_vector = context_matrix[idx]\n",
        "  cos_sum =  cos_sum + float(cosine_similarity(embedding_vector, context_vector))\n",
        "\n",
        "avg_value = cos_sum/vocab_size\n",
        "avg_value"
      ],
      "execution_count": null,
      "outputs": [
        {
          "output_type": "execute_result",
          "data": {
            "text/plain": [
              "-0.1888070660606342"
            ]
          },
          "metadata": {
            "tags": []
          },
          "execution_count": 23
        }
      ]
    },
    {
      "cell_type": "markdown",
      "metadata": {
        "id": "EhBrIaL7eHv3"
      },
      "source": [
        "<div class=\"alert alert-block alert-danger\" style=\"color:black;background-color:#E7F4FA\">\n",
        "\n",
        "### **2.4 [5 points] LEARNING PHRASES**\n",
        "    \n",
        "As per the original paper by [Mikolov et al]() many phrases have a meaning that is not a simple composition of the meanings of its individual words. \n",
        "For eg. `new york` is one entity, however, as per our analysis above, we have two separate entities `new` & `york` which can have different meanings independently.    \n",
        "To learn vector representation for phrases, we first find words that\n",
        "appear frequently together, and infrequently in other contexts.\n",
        "    \n",
        "As per the analysis in the paper, we can use a formula to rank commonly used word pairs, and take the first 100 commonly occuring pairs.\n",
        "$$\\operatorname{score}\\left(w_{i}, w_{j}\\right)=\\frac{\\operatorname{count}\\left(w_{i} w_{j}\\right)-\\delta}{\\operatorname{count}\\left(w_{i}\\right) \\times \\operatorname{count}\\left(w_{j}\\right)}$$\n",
        "\n",
        "**NOTE:** For simplicity of analysis, we take the discounting factor $\\delta$ as 0, and take bi-gram combinations. You can experiment with tri-grams for word pairs such as `New_York_Times`.     \n",
        "<br /><br />\n",
        "\n",
        "    \n",
        "**2.4.1 Find 100 most common bi-grams**\n",
        "\n",
        "From the tokenized data above, find the count for each bigram pair.\n",
        "    \n",
        "For each such pair, find the score associated with each token pair using the formula above.\n",
        "    \n",
        " Pick the top 100 pairs based on the score. (Higher the better). To understand the `score()` function we suggest you read the paper mentioned above.\n",
        "    \n",
        "Replace the original `text8` file with the pairs as one entity. For e.g., if `prime,minister` is a commonly occuring pair, replace `... prime minister ...' in the original corpus to a single entity `prime_minister`. Do this for all 100 pairs.\n",
        "<br /><br />\n",
        "    \n",
        "</div>"
      ]
    },
    {
      "cell_type": "code",
      "metadata": {
        "id": "1o0UGlHNeHv3"
      },
      "source": [
        "# Uncomment this cell to download the dataset directly onto colab\n",
        "# !gdown https://drive.google.com/uc?id=1yW-rQc8It9Ro0DAu4jp3XhVH3JQOdNKk"
      ],
      "execution_count": null,
      "outputs": []
    },
    {
      "cell_type": "code",
      "metadata": {
        "id": "sObDbIQYeHv3"
      },
      "source": [
        "# Your code here\n",
        "# Your code here\n",
        "def get_bigrams(data):\n",
        "  bigrams = []\n",
        "  bigrams.extend([(data[i], data[i+1]) for i, seq in enumerate(data) if i<len(data)-1])\n",
        "  bigrams_count_dict = Counter(bigrams)\n",
        "  return bigrams_count_dict\n"
      ],
      "execution_count": null,
      "outputs": []
    },
    {
      "cell_type": "code",
      "metadata": {
        "id": "U9tZELhPQFVe"
      },
      "source": [
        "def bigram_score(bigrams_count_dict, count, reverse_dictionary):\n",
        "  scores={}\n",
        "  count_dict = dict(count)\n",
        "  for k,v in bigrams_count_dict.items():\n",
        "    count_k = v\n",
        "    count_k_0 = count_dict[reverse_dictionary[k[0]]]\n",
        "    count_k_1 = count_dict[reverse_dictionary[k[1]]]\n",
        "    score = count_k / (count_k_0 * count_k_1)\n",
        "    scores[k] = score\n",
        "\n",
        "  return scores\n"
      ],
      "execution_count": null,
      "outputs": []
    },
    {
      "cell_type": "code",
      "metadata": {
        "id": "MsgZ6MSy58V5"
      },
      "source": [
        "bigrams_count_dict = get_bigrams(data)\n",
        "bigram_scores = bigram_score(bigrams_count_dict, count,reverse_dictionary)"
      ],
      "execution_count": null,
      "outputs": []
    },
    {
      "cell_type": "code",
      "metadata": {
        "id": "ileFapcaHE2Z"
      },
      "source": [
        "import more_itertools as mi\n",
        "a = {k: v for k, v in sorted(bigram_scores.items(), key=lambda item: item[1], reverse=True)}\n",
        "n_items = mi.take(100, a.items())"
      ],
      "execution_count": null,
      "outputs": []
    },
    {
      "cell_type": "markdown",
      "metadata": {
        "id": "3uMogXlyeHv3"
      },
      "source": [
        "<div class=\"alert alert-block alert-danger\" style=\"color:black;background-color:#E7F4FA\">\n",
        "\n",
        "**2.4.2 Retrain word2vec**    \n",
        "With the new corpus generated as above, build the dataset, use skipgrams and retrain your word2vec with a sufficiently large vocabulary.\n",
        "    \n",
        "Use the `most_similar()` function defiend above to find the entities most similar to `united_kingdom`\n",
        "    \n",
        "Compare the above with separate tokens for `united` & `kingdom` and the sum of the vectors (to get this, you may need a sufficiently large vocabulary (>2000).\n",
        "<br /> <br />\n",
        "    \n",
        "</div>"
      ]
    },
    {
      "cell_type": "code",
      "metadata": {
        "id": "KFbEX2_1eHv3"
      },
      "source": [
        "# Your code here\n"
      ],
      "execution_count": null,
      "outputs": []
    },
    {
      "cell_type": "markdown",
      "metadata": {
        "id": "vtdjuYgIeHv3"
      },
      "source": [
        "<div class=\"alert alert-block alert-danger\" style=\"color:black;background-color:#E7F4FA\">\n",
        "\n",
        "### **2.5 [5 points] HOMEWORK QUIZ**\n",
        "<br />\n",
        "After attempting this part of the homework, answer the questions on edStem. All the questions depend on this part of the homework and you will not be able to answer them without attempting this part.\n",
        "\n",
        "</div>"
      ]
    },
    {
      "cell_type": "markdown",
      "metadata": {
        "id": "VTHaqVymeHv3"
      },
      "source": [
        "#### Answer the questions on edStem"
      ]
    },
    {
      "cell_type": "markdown",
      "metadata": {
        "id": "1_ktf1AweHv4"
      },
      "source": [
        "___\n",
        "___\n"
      ]
    },
    {
      "cell_type": "markdown",
      "metadata": {
        "id": "fUtUZIgCeHv4"
      },
      "source": [
        "<div class=\"alert alert-block alert-danger\" style=\"color:black;background-color:#E7F4FA\">\n",
        "    \n",
        "## **PART 3 [35 points] : Language Modelling using RNNs**\n",
        "<br />    \n",
        "\n",
        "In the last part of the homework, you are expected to build and train a language model. For this, we will be using Pavlos famous texts which end with `...` for prediction. Here, you will preprocess a data corpus and train your simple RNN network with it. With this network you will try to predict what he meant when he typed `...`. This can be to some extent a form of transfer learning.\n",
        "<br /><br />\n",
        "    \n",
        "</div>"
      ]
    },
    {
      "cell_type": "markdown",
      "metadata": {
        "id": "EBnVsppEeHv4"
      },
      "source": [
        "<div class=\"alert alert-block alert-danger\" style=\"color:black;background-color:#E7F4FA\">\n",
        "\n",
        "## **PART 3: Questions**\n",
        "<br />\n",
        "\n",
        "### **3.1 [2 points] PREPROCESS THE DATASET**\n",
        "<br />\n",
        "\n",
        "**3.1.1** - Read in the dataset `imdb.csv`. Create a new dataframe by splitting each review into individual sentences. The sentences can be delimited by different characters such as period and question mark (eroteme). Call this column as `text` in the new dataframe.\n",
        "<br /><br />\n",
        "\n",
        "**3.1.2** - Define a function `clean_data` that takes the new dataframe as input and removes all html tags and non-alphabetic characters from the dataframe. Additionally, convert all characters to lower case. Remove all the sentences where the number of words is less than 10 and higher than 30. Finally, add the start token `<s>` and the end token `</s>` to every sentence (row) in the dataframe. Return the processed the dataframe. \n",
        "<br /><br />\n",
        "\n",
        "### **3.2 [2 points] TOKENIZE THE DATASET**\n",
        "<br />\n",
        "\n",
        "**3.2.1** - Tokenize the dataset using `tensorflow.keras.preprocessing.text` with a vocabulary size of 5000. Do **not** add an additional token for unknown words (out of vocabulary words) `<UNK>`.\n",
        "<br /><br />\n",
        "\n",
        "**3.2.2** - Fit the tokenizer on the dataset and get the sequence representation of each sentence.\n",
        "<br /><br />\n",
        "\n",
        "### **3.3 [10 points] MODELLING THE DATA**\n",
        "<br />\n",
        "\n",
        "**3.3.1** - The first step is to define the input and output of the model. The input to the model is all the words of the sentences except the last one. \n",
        "The output of the model is all words of the sentences except the first one. Using `tf.keras.preprocessing.sequence.pad_sequences` Post-pad all the sentences of the input and output to a length of 30.\n",
        "<br /><br />\n",
        "\n",
        "**3.3.2** - Define a simple RNN model that has an embedding layer with an embedding dimension of 300. You can define any number of RNN layers. The output of the RNN model will be a dense layer with size of the vocabulary and softmax activation. This model is that one you will be using to train the network. Use functional API for this to reuse it later on.\n",
        "<br /><br />\n",
        "\n",
        "**3.3.3** - Train the model with the input and output data formed above and a validation split of 0.2. The number epochs and batch size is left as a choice you have to make.\n",
        "<br /><br />\n",
        "\n",
        "**3.3.4** - Plot the train and validation loss. \n",
        "<br /><br />\n",
        "\n",
        "### **3.4 [9 points] PREDICTING THE NEXT WORD**\n",
        "<br />\n",
        "\n",
        "**3.4.1** - Read the dataset `pp_text.csv`. Add the start and end tokens to each line and tokenize it. Convert each sentence to a sequence vector and post-pad to a length of 30. This will be the input for the prediction phase.\n",
        "<br /><br />\n",
        "\n",
        "**3.4.2** - For predicting the next word, use the trained RNN model from above. \n",
        "\n",
        "NOTE - Based on your implementation, the output of the RNN model might have to be different from that of your trained network. You can make use of Keras function API for this.\n",
        "<br /><br />\n",
        "\n",
        "**3.4.3** - Choose any sentence from the list of Pavlos' texts to predict the next word. Input this to the RNN model built for prediction and print the predicted word. Try this out with multiple sentences.\n",
        "<br /><br />\n",
        "\n",
        "**3.4.4** - Do you notice any pattern in the predicted words? Do they seem approriate to the context of the texts as you understand it? What do you attribute this discrepency to? How can you resolve it?\n",
        "\n",
        "Answer in less than 150 words.\n",
        "<br /><br />\n",
        "\n",
        "### **3.5 [6 points] TRAINING AND PREDICTING WITH A DIFFERENT DATASET**\n",
        "<br />\n",
        "\n",
        "**3.5.1** - Read the dataset `cleaned_sarcasm.csv`. This dataset has been preprocessed for you, all you need to do is tokenize, convert to sequence and pad it, similar to 3.2.1, 3.2.2 and 3.3.1.\n",
        "<br /><br />\n",
        "\n",
        "**3.5.2** - Train your RNN model with this data and plot the train and validation trace plot. This part is similar to 3.3.2, 3.3.3 and 3.3.4.\n",
        "<br /><br />\n",
        "\n",
        "**3.5.3** - Repeat 3.4.1, 3.4.2 and 3.4.3 with the RNN model trained using the new dataset.\n",
        "<br /><br />\n",
        "\n",
        "**3.5.4** - How do the results with the new dataset compare to the previous ones? Why do you think so? \n",
        "\n",
        "Answer in less than 100 words.\n",
        "<br /><br />\n",
        "    \n",
        "### **3.6 [3 points] COMPLETING THE SENTENCE**\n",
        "<br />\n",
        "\n",
        "**3.6.1** Until now we have predicted a single word for a given sentence. However, what if he meant more than one word when he typed in `...`\n",
        "\n",
        "We will now predict multiple words for each input sentence. To do this we will first predict one word, append this word to the input text and then predict one more with the updated input. Continue doing this for 5 words or until the end token `</s>` (whichever comes first). \n",
        "<br /><br />\n",
        "\n",
        "### **3.7 [3 points] HOMEWORK QUIZ**\n",
        "<br />\n",
        "After attempting this part of the homework, answer the questions on edStem. All the questions depend on this part of the homework and you will not be able to answer them without attempting this part.\n",
        "\n",
        "<br />\n",
        "\n",
        "</div>"
      ]
    },
    {
      "cell_type": "markdown",
      "metadata": {
        "id": "iVT4R2UieHv5"
      },
      "source": [
        "<div class=\"alert alert-block alert-danger\" style=\"color:black;background-color:#E7F4FA\">\n",
        "\n",
        "## **PART 3: Solutions**\n",
        "\n",
        "<br />\n",
        "\n",
        "### **3.1 [2 points] PREPROCESS THE DATASET**\n",
        "<br />    \n",
        "\n",
        "**3.1.1** - Read in the dataset `imdb.csv`. Create a new dataframe by splitting each review into individual sentences. The sentences can be delimited by different characters such as period and question mark (eroteme). Call this column as `text` in the new dataframe.\n",
        "    \n",
        "</div>\n"
      ]
    },
    {
      "cell_type": "markdown",
      "metadata": {
        "id": "xyFz6C4oeHv5"
      },
      "source": [
        "*If you are using colab, the code in the next cell will help download the dataset directly onto your workspace.*"
      ]
    },
    {
      "cell_type": "code",
      "metadata": {
        "id": "SPhpPLCieHv5"
      },
      "source": [
        "# Uncomment if you are using colab\n",
        "# !gdown --id \"1YmxaDY-VhGItJ5uRZKtHoEqpqAR1L2IY\"\n"
      ],
      "execution_count": null,
      "outputs": []
    },
    {
      "cell_type": "code",
      "metadata": {
        "id": "358m9yIheHv5"
      },
      "source": [
        "# Your code here\n",
        "imdb_data_path = \"/content/drive/MyDrive/UnivAI/Univ AI 3/imdb.csv\"\n",
        "imdb_data = pd.read_csv(imdb_data_path)"
      ],
      "execution_count": null,
      "outputs": []
    },
    {
      "cell_type": "code",
      "metadata": {
        "colab": {
          "base_uri": "https://localhost:8080/",
          "height": 204
        },
        "id": "-_C56JXFwhZW",
        "outputId": "ade7dc9d-c54b-448e-b8b8-aff548d09b6d"
      },
      "source": [
        "imdb_data.head()"
      ],
      "execution_count": null,
      "outputs": [
        {
          "output_type": "execute_result",
          "data": {
            "text/html": [
              "<div>\n",
              "<style scoped>\n",
              "    .dataframe tbody tr th:only-of-type {\n",
              "        vertical-align: middle;\n",
              "    }\n",
              "\n",
              "    .dataframe tbody tr th {\n",
              "        vertical-align: top;\n",
              "    }\n",
              "\n",
              "    .dataframe thead th {\n",
              "        text-align: right;\n",
              "    }\n",
              "</style>\n",
              "<table border=\"1\" class=\"dataframe\">\n",
              "  <thead>\n",
              "    <tr style=\"text-align: right;\">\n",
              "      <th></th>\n",
              "      <th>text</th>\n",
              "      <th>polarity</th>\n",
              "    </tr>\n",
              "  </thead>\n",
              "  <tbody>\n",
              "    <tr>\n",
              "      <th>0</th>\n",
              "      <td>first think another Disney movie, might good, ...</td>\n",
              "      <td>1</td>\n",
              "    </tr>\n",
              "    <tr>\n",
              "      <th>1</th>\n",
              "      <td>Put aside Dr. House repeat missed, Desperate H...</td>\n",
              "      <td>0</td>\n",
              "    </tr>\n",
              "    <tr>\n",
              "      <th>2</th>\n",
              "      <td>big fan Stephen King's work, film made even gr...</td>\n",
              "      <td>1</td>\n",
              "    </tr>\n",
              "    <tr>\n",
              "      <th>3</th>\n",
              "      <td>watched horrid thing TV. Needless say one movi...</td>\n",
              "      <td>0</td>\n",
              "    </tr>\n",
              "    <tr>\n",
              "      <th>4</th>\n",
              "      <td>truly enjoyed film. acting terrific plot. Jeff...</td>\n",
              "      <td>1</td>\n",
              "    </tr>\n",
              "  </tbody>\n",
              "</table>\n",
              "</div>"
            ],
            "text/plain": [
              "                                                text  polarity\n",
              "0  first think another Disney movie, might good, ...         1\n",
              "1  Put aside Dr. House repeat missed, Desperate H...         0\n",
              "2  big fan Stephen King's work, film made even gr...         1\n",
              "3  watched horrid thing TV. Needless say one movi...         0\n",
              "4  truly enjoyed film. acting terrific plot. Jeff...         1"
            ]
          },
          "metadata": {
            "tags": []
          },
          "execution_count": 123
        }
      ]
    },
    {
      "cell_type": "code",
      "metadata": {
        "id": "_p_fpCzDw37i"
      },
      "source": [
        "def split_text(df_text):\n",
        "  new_df = pd.DataFrame(columns=['text'])\n",
        "  for text in df_text:\n",
        "    sent_df = pd.DataFrame(re.split(r'[.\\?!;]\\s',text), columns=['text'])\n",
        "    new_df = new_df.append(sent_df, ignore_index=True)\n",
        "  return new_df"
      ],
      "execution_count": null,
      "outputs": []
    },
    {
      "cell_type": "code",
      "metadata": {
        "id": "ekZLv3QzJ5dM"
      },
      "source": [
        "new_df = split_text(imdb_data.text)"
      ],
      "execution_count": null,
      "outputs": []
    },
    {
      "cell_type": "code",
      "metadata": {
        "id": "xabq_uQNKBgt",
        "colab": {
          "base_uri": "https://localhost:8080/",
          "height": 204
        },
        "outputId": "c30651be-0e2e-4d89-c0a6-51dd5dc30fb1"
      },
      "source": [
        "new_df.head()"
      ],
      "execution_count": null,
      "outputs": [
        {
          "output_type": "execute_result",
          "data": {
            "text/html": [
              "<div>\n",
              "<style scoped>\n",
              "    .dataframe tbody tr th:only-of-type {\n",
              "        vertical-align: middle;\n",
              "    }\n",
              "\n",
              "    .dataframe tbody tr th {\n",
              "        vertical-align: top;\n",
              "    }\n",
              "\n",
              "    .dataframe thead th {\n",
              "        text-align: right;\n",
              "    }\n",
              "</style>\n",
              "<table border=\"1\" class=\"dataframe\">\n",
              "  <thead>\n",
              "    <tr style=\"text-align: right;\">\n",
              "      <th></th>\n",
              "      <th>text</th>\n",
              "    </tr>\n",
              "  </thead>\n",
              "  <tbody>\n",
              "    <tr>\n",
              "      <th>0</th>\n",
              "      <td>first think another Disney movie, might good, ...</td>\n",
              "    </tr>\n",
              "    <tr>\n",
              "      <th>1</th>\n",
              "      <td>watch it, can't help enjoy it</td>\n",
              "    </tr>\n",
              "    <tr>\n",
              "      <th>2</th>\n",
              "      <td>ages love movie</td>\n",
              "    </tr>\n",
              "    <tr>\n",
              "      <th>3</th>\n",
              "      <td>first saw movie 10 8 years later still love it</td>\n",
              "    </tr>\n",
              "    <tr>\n",
              "      <th>4</th>\n",
              "      <td>Danny Glover superb could play part better</td>\n",
              "    </tr>\n",
              "  </tbody>\n",
              "</table>\n",
              "</div>"
            ],
            "text/plain": [
              "                                                text\n",
              "0  first think another Disney movie, might good, ...\n",
              "1                      watch it, can't help enjoy it\n",
              "2                                    ages love movie\n",
              "3     first saw movie 10 8 years later still love it\n",
              "4         Danny Glover superb could play part better"
            ]
          },
          "metadata": {
            "tags": []
          },
          "execution_count": 126
        }
      ]
    },
    {
      "cell_type": "markdown",
      "metadata": {
        "id": "nMRqTd4UeHv5"
      },
      "source": [
        "<div class=\"alert alert-block alert-danger\" style=\"color:black;background-color:#E7F4FA\">\n",
        "\n",
        "**3.1.2** - Define a function `clean_data` that takes the new dataframe as input and removes all html tags and non-alphabetic characters from the dataframe. Additionally, convert all characters to lower case. Remove all the sentences where the number of words is less than 10 and higher than 30. Finally, add the start token `<s>` and the end token `</s>` to every sentence (row) in the dataframe. Return the processed the dataframe. \n",
        "<br /><br />\n",
        "    \n",
        "</div>"
      ]
    },
    {
      "cell_type": "code",
      "metadata": {
        "id": "XYUWrmSreHv5"
      },
      "source": [
        "# Your code here\n",
        "def clean_data(df):\n",
        "  clean_df = pd.DataFrame(columns=['text'])\n",
        "  for text in df.text:\n",
        "    clean_text = text.lower()\n",
        "    # remove special characters - basically anything that is not a letter or a space\n",
        "    clean_text = re.sub(r'[^a-z\\s]+','', clean_text)\n",
        "    clean_text = pd.DataFrame(['<s> '+clean_text+' </s>'], columns=['text'])\n",
        "    clean_df = clean_df.append(clean_text, ignore_index=True)\n",
        "  return clean_df"
      ],
      "execution_count": null,
      "outputs": []
    },
    {
      "cell_type": "code",
      "metadata": {
        "id": "znJR6eKGM44v"
      },
      "source": [
        "clean_df = clean_data(new_df)"
      ],
      "execution_count": null,
      "outputs": []
    },
    {
      "cell_type": "code",
      "metadata": {
        "id": "gzj2P1oANBP4",
        "colab": {
          "base_uri": "https://localhost:8080/",
          "height": 204
        },
        "outputId": "c43b4e39-f7f0-4db9-e2cf-6ab922e2023f"
      },
      "source": [
        "clean_df.head()"
      ],
      "execution_count": null,
      "outputs": [
        {
          "output_type": "execute_result",
          "data": {
            "text/html": [
              "<div>\n",
              "<style scoped>\n",
              "    .dataframe tbody tr th:only-of-type {\n",
              "        vertical-align: middle;\n",
              "    }\n",
              "\n",
              "    .dataframe tbody tr th {\n",
              "        vertical-align: top;\n",
              "    }\n",
              "\n",
              "    .dataframe thead th {\n",
              "        text-align: right;\n",
              "    }\n",
              "</style>\n",
              "<table border=\"1\" class=\"dataframe\">\n",
              "  <thead>\n",
              "    <tr style=\"text-align: right;\">\n",
              "      <th></th>\n",
              "      <th>text</th>\n",
              "    </tr>\n",
              "  </thead>\n",
              "  <tbody>\n",
              "    <tr>\n",
              "      <th>0</th>\n",
              "      <td>&lt;s&gt; first think another disney movie might goo...</td>\n",
              "    </tr>\n",
              "    <tr>\n",
              "      <th>1</th>\n",
              "      <td>&lt;s&gt; watch it cant help enjoy it &lt;/s&gt;</td>\n",
              "    </tr>\n",
              "    <tr>\n",
              "      <th>2</th>\n",
              "      <td>&lt;s&gt; ages love movie &lt;/s&gt;</td>\n",
              "    </tr>\n",
              "    <tr>\n",
              "      <th>3</th>\n",
              "      <td>&lt;s&gt; first saw movie   years later still love i...</td>\n",
              "    </tr>\n",
              "    <tr>\n",
              "      <th>4</th>\n",
              "      <td>&lt;s&gt; danny glover superb could play part better...</td>\n",
              "    </tr>\n",
              "  </tbody>\n",
              "</table>\n",
              "</div>"
            ],
            "text/plain": [
              "                                                text\n",
              "0  <s> first think another disney movie might goo...\n",
              "1               <s> watch it cant help enjoy it </s>\n",
              "2                           <s> ages love movie </s>\n",
              "3  <s> first saw movie   years later still love i...\n",
              "4  <s> danny glover superb could play part better..."
            ]
          },
          "metadata": {
            "tags": []
          },
          "execution_count": 129
        }
      ]
    },
    {
      "cell_type": "markdown",
      "metadata": {
        "id": "NH5IE0zMeHv6"
      },
      "source": [
        "<div class=\"alert alert-block alert-danger\" style=\"color:black;background-color:#E7F4FA\">\n",
        "    \n",
        "### **3.2 [2 points] TOKENIZE THE DATASET**\n",
        "    \n",
        "<br />\n",
        "\n",
        "**3.2.1** - Tokenize the dataset using `tensorflow.keras.preprocessing.text` with a vocabulary size of 5000. Do **not** add an additional token for unknown words (out of vocabulary words) `<UNK>`.\n",
        "</div>"
      ]
    },
    {
      "cell_type": "code",
      "metadata": {
        "id": "w4HBCSUoeHv6"
      },
      "source": [
        "tok = Tokenizer(num_words=5000, filters='')"
      ],
      "execution_count": null,
      "outputs": []
    },
    {
      "cell_type": "markdown",
      "metadata": {
        "id": "NQZZ3qlv4Jak"
      },
      "source": [
        "**3.2.2** - Fit the tokenizer on the dataset and get the sequence representation of each sentence."
      ]
    },
    {
      "cell_type": "code",
      "metadata": {
        "id": "-qB06Vfj31I7"
      },
      "source": [
        "# Your code here\n",
        "seq_df = pd.DataFrame()\n",
        "tok.fit_on_texts(clean_df.text)\n",
        "seq_df['text'] =tok.texts_to_sequences(clean_df.text)"
      ],
      "execution_count": null,
      "outputs": []
    },
    {
      "cell_type": "code",
      "metadata": {
        "colab": {
          "base_uri": "https://localhost:8080/",
          "height": 204
        },
        "id": "bMnflDXN3-lg",
        "outputId": "e85dc3be-63e3-42d3-e6aa-e599f9e63540"
      },
      "source": [
        "seq_df.head()"
      ],
      "execution_count": null,
      "outputs": [
        {
          "output_type": "execute_result",
          "data": {
            "text/html": [
              "<div>\n",
              "<style scoped>\n",
              "    .dataframe tbody tr th:only-of-type {\n",
              "        vertical-align: middle;\n",
              "    }\n",
              "\n",
              "    .dataframe tbody tr th {\n",
              "        vertical-align: top;\n",
              "    }\n",
              "\n",
              "    .dataframe thead th {\n",
              "        text-align: right;\n",
              "    }\n",
              "</style>\n",
              "<table border=\"1\" class=\"dataframe\">\n",
              "  <thead>\n",
              "    <tr style=\"text-align: right;\">\n",
              "      <th></th>\n",
              "      <th>text</th>\n",
              "    </tr>\n",
              "  </thead>\n",
              "  <tbody>\n",
              "    <tr>\n",
              "      <th>0</th>\n",
              "      <td>[1, 25, 33, 75, 823, 4, 139, 9, 8, 266, 4, 2]</td>\n",
              "    </tr>\n",
              "    <tr>\n",
              "      <th>1</th>\n",
              "      <td>[1, 35, 15, 89, 239, 259, 15, 2]</td>\n",
              "    </tr>\n",
              "    <tr>\n",
              "      <th>2</th>\n",
              "      <td>[1, 1851, 45, 4, 2]</td>\n",
              "    </tr>\n",
              "    <tr>\n",
              "      <th>3</th>\n",
              "      <td>[1, 25, 113, 4, 63, 193, 50, 45, 15, 2]</td>\n",
              "    </tr>\n",
              "    <tr>\n",
              "      <th>4</th>\n",
              "      <td>[1, 1616, 3407, 830, 30, 207, 85, 51, 2]</td>\n",
              "    </tr>\n",
              "  </tbody>\n",
              "</table>\n",
              "</div>"
            ],
            "text/plain": [
              "                                            text\n",
              "0  [1, 25, 33, 75, 823, 4, 139, 9, 8, 266, 4, 2]\n",
              "1               [1, 35, 15, 89, 239, 259, 15, 2]\n",
              "2                            [1, 1851, 45, 4, 2]\n",
              "3        [1, 25, 113, 4, 63, 193, 50, 45, 15, 2]\n",
              "4       [1, 1616, 3407, 830, 30, 207, 85, 51, 2]"
            ]
          },
          "metadata": {
            "tags": []
          },
          "execution_count": 132
        }
      ]
    },
    {
      "cell_type": "markdown",
      "metadata": {
        "id": "ts5vGMYL4NPj"
      },
      "source": [
        "### **3.3 [10 points] MODELLING THE DATA** **3.3.1** - The first step is to define the input and output of the model. The input to the model is all the words of the sentences except the last one. The output of the model is all words of the sentences except the first one. Using `tf.keras.preprocessing.sequence.pad_sequences` Post-pad all the sentences of the input and output to a length of 30."
      ]
    },
    {
      "cell_type": "code",
      "metadata": {
        "id": "vVtYDp6j5V_3"
      },
      "source": [
        "def remove_a_word(text_seq, first=False):\n",
        "  if first:\n",
        "    text_seq=text_seq[2:]\n",
        "  else:\n",
        "    text_seq=text_seq[:-2]\n",
        "  return text_seq"
      ],
      "execution_count": null,
      "outputs": []
    },
    {
      "cell_type": "code",
      "metadata": {
        "id": "ZXrNyFX25-XQ"
      },
      "source": [
        "X_train = seq_df.text.apply(remove_a_word)\n",
        "y_train = seq_df.text.apply(remove_a_word, first=True)"
      ],
      "execution_count": null,
      "outputs": []
    },
    {
      "cell_type": "code",
      "metadata": {
        "id": "qqOkNG6L6SYX",
        "colab": {
          "base_uri": "https://localhost:8080/"
        },
        "outputId": "38513963-3c56-495b-a5b8-117489bf0b66"
      },
      "source": [
        "X_train.head()"
      ],
      "execution_count": null,
      "outputs": [
        {
          "output_type": "execute_result",
          "data": {
            "text/plain": [
              "0    [1, 25, 33, 75, 823, 4, 139, 9, 8, 266]\n",
              "1                  [1, 35, 15, 89, 239, 259]\n",
              "2                              [1, 1851, 45]\n",
              "3           [1, 25, 113, 4, 63, 193, 50, 45]\n",
              "4          [1, 1616, 3407, 830, 30, 207, 85]\n",
              "Name: text, dtype: object"
            ]
          },
          "metadata": {
            "tags": []
          },
          "execution_count": 135
        }
      ]
    },
    {
      "cell_type": "code",
      "metadata": {
        "id": "AzL3AJB_6ZaO",
        "colab": {
          "base_uri": "https://localhost:8080/"
        },
        "outputId": "16c0e210-a23d-48c4-ec9f-0cca4ac13754"
      },
      "source": [
        "y_train.head()"
      ],
      "execution_count": null,
      "outputs": [
        {
          "output_type": "execute_result",
          "data": {
            "text/plain": [
              "0    [33, 75, 823, 4, 139, 9, 8, 266, 4, 2]\n",
              "1                 [15, 89, 239, 259, 15, 2]\n",
              "2                                [45, 4, 2]\n",
              "3          [113, 4, 63, 193, 50, 45, 15, 2]\n",
              "4           [3407, 830, 30, 207, 85, 51, 2]\n",
              "Name: text, dtype: object"
            ]
          },
          "metadata": {
            "tags": []
          },
          "execution_count": 136
        }
      ]
    },
    {
      "cell_type": "code",
      "metadata": {
        "id": "zAaydGZksCYp"
      },
      "source": [
        "X_train = X_train.values\n",
        "y_train = y_train.values"
      ],
      "execution_count": null,
      "outputs": []
    },
    {
      "cell_type": "code",
      "metadata": {
        "id": "HN4ihSWVeHv6"
      },
      "source": [
        "# Your code here\n",
        "X_train = sequence.pad_sequences(X_train, maxlen=30, padding='post')\n",
        "y_train = sequence.pad_sequences(y_train, maxlen=30, padding='post')"
      ],
      "execution_count": null,
      "outputs": []
    },
    {
      "cell_type": "markdown",
      "metadata": {
        "id": "2ac0fUsweHv6"
      },
      "source": [
        "<div class=\"alert alert-block alert-danger\" style=\"color:black;background-color:#E7F4FA\">\n",
        "\n",
        "    \n",
        "**3.3.2** - Define a simple RNN model that has an embedding layer with an embedding dimension of 300. You can define any number of RNN layers. The output of the RNN model will be a dense layer with size of the vocabulary and softmax activation. This model is that one you will be using to train the network. Use functional API for this to reuse it later on.\n",
        "<br /><br />\n",
        "    \n",
        "</div>"
      ]
    },
    {
      "cell_type": "code",
      "metadata": {
        "colab": {
          "base_uri": "https://localhost:8080/"
        },
        "id": "vIwhdbqFHHPe",
        "outputId": "bc445e2b-0d35-467d-fb98-b4efdc66b4db"
      },
      "source": [
        "X_train[1]"
      ],
      "execution_count": null,
      "outputs": [
        {
          "output_type": "execute_result",
          "data": {
            "text/plain": [
              "array([  1,  35,  15,  89, 239, 259,   0,   0,   0,   0,   0,   0,   0,\n",
              "         0,   0,   0,   0,   0,   0,   0,   0,   0,   0,   0,   0,   0,\n",
              "         0,   0,   0,   0], dtype=int32)"
            ]
          },
          "metadata": {
            "tags": []
          },
          "execution_count": 139
        }
      ]
    },
    {
      "cell_type": "code",
      "metadata": {
        "colab": {
          "base_uri": "https://localhost:8080/"
        },
        "id": "76_vGQMfHDjn",
        "outputId": "f352c4bc-fef1-48bc-a20a-75f7807789a9"
      },
      "source": [
        "y_train[1]"
      ],
      "execution_count": null,
      "outputs": [
        {
          "output_type": "execute_result",
          "data": {
            "text/plain": [
              "array([ 15,  89, 239, 259,  15,   2,   0,   0,   0,   0,   0,   0,   0,\n",
              "         0,   0,   0,   0,   0,   0,   0,   0,   0,   0,   0,   0,   0,\n",
              "         0,   0,   0,   0], dtype=int32)"
            ]
          },
          "metadata": {
            "tags": []
          },
          "execution_count": 140
        }
      ]
    },
    {
      "cell_type": "code",
      "metadata": {
        "colab": {
          "base_uri": "https://localhost:8080/"
        },
        "id": "gg1SCDaEJIn0",
        "outputId": "5cfa5290-4ed6-4d20-b624-b8f3083b2ede"
      },
      "source": [
        "X_train.shape"
      ],
      "execution_count": null,
      "outputs": [
        {
          "output_type": "execute_result",
          "data": {
            "text/plain": [
              "(112889, 30)"
            ]
          },
          "metadata": {
            "tags": []
          },
          "execution_count": 141
        }
      ]
    },
    {
      "cell_type": "code",
      "metadata": {
        "colab": {
          "base_uri": "https://localhost:8080/"
        },
        "id": "dyaGFC2KJTjw",
        "outputId": "315f1c0f-7a8f-4622-8d65-85177dc336cf"
      },
      "source": [
        "y_train.shape"
      ],
      "execution_count": null,
      "outputs": [
        {
          "output_type": "execute_result",
          "data": {
            "text/plain": [
              "(112889, 30)"
            ]
          },
          "metadata": {
            "tags": []
          },
          "execution_count": 142
        }
      ]
    },
    {
      "cell_type": "code",
      "metadata": {
        "id": "HjGaVj7zK0Gj"
      },
      "source": [
        "embedding_size=300\n",
        "vocabulary_size = 5000\n",
        "\n",
        "model = Sequential()\n",
        "\n",
        "model.add(Embedding(vocabulary_size, embedding_size, mask_zero=True, name='embedding'))\n",
        "model.add(SimpleRNN(128, return_sequences=True, name='RNN_1'))\n",
        "model.add(SimpleRNN(64, return_sequences=True, name='RNN_2'))\n",
        "model.add(Dense(vocabulary_size, activation='softmax', name='dense'))"
      ],
      "execution_count": null,
      "outputs": []
    },
    {
      "cell_type": "code",
      "metadata": {
        "id": "CnpVL8Cfb5ug"
      },
      "source": [
        "model.compile(optimizer=\"Adam\", loss='sparse_categorical_crossentropy', metrics=['accuracy'])"
      ],
      "execution_count": null,
      "outputs": []
    },
    {
      "cell_type": "code",
      "metadata": {
        "id": "b1VdCugNcIQr",
        "colab": {
          "base_uri": "https://localhost:8080/"
        },
        "outputId": "385900f3-fb96-4d7e-b631-eef908dfa461"
      },
      "source": [
        "model.summary()"
      ],
      "execution_count": null,
      "outputs": [
        {
          "output_type": "stream",
          "text": [
            "Model: \"sequential_1\"\n",
            "_________________________________________________________________\n",
            "Layer (type)                 Output Shape              Param #   \n",
            "=================================================================\n",
            "embedding (Embedding)        (None, None, 300)         1500000   \n",
            "_________________________________________________________________\n",
            "RNN_1 (SimpleRNN)            (None, None, 128)         54912     \n",
            "_________________________________________________________________\n",
            "RNN_2 (SimpleRNN)            (None, None, 64)          12352     \n",
            "_________________________________________________________________\n",
            "dense (Dense)                (None, None, 5000)        325000    \n",
            "=================================================================\n",
            "Total params: 1,892,264\n",
            "Trainable params: 1,892,264\n",
            "Non-trainable params: 0\n",
            "_________________________________________________________________\n"
          ],
          "name": "stdout"
        }
      ]
    },
    {
      "cell_type": "markdown",
      "metadata": {
        "id": "-H9LiwlzeHv7"
      },
      "source": [
        "<div class=\"alert alert-block alert-danger\" style=\"color:black;background-color:#E7F4FA\">\n",
        "\n",
        "**3.3.3** - Train the model with the input and output data formed above and a validation split of 0.2. The number epochs and batch size is left as a choice you have to make.\n",
        "<br /><br />\n",
        "\n",
        "</div>"
      ]
    },
    {
      "cell_type": "code",
      "metadata": {
        "id": "VpGhdkjPeHv7",
        "colab": {
          "base_uri": "https://localhost:8080/"
        },
        "outputId": "4dc2279f-51b7-4ead-be41-a939778128c8"
      },
      "source": [
        "# Your code here\n",
        "epochs = 10\n",
        "history = model.fit(X_train,y_train, epochs=epochs, validation_split=0.2, batch_size=64,verbose=1);"
      ],
      "execution_count": null,
      "outputs": [
        {
          "output_type": "stream",
          "text": [
            "Epoch 1/10\n",
            "1412/1412 [==============================] - 135s 95ms/step - loss: 2.1945 - accuracy: 0.1054 - val_loss: 2.1079 - val_accuracy: 0.1081\n",
            "Epoch 2/10\n",
            "1412/1412 [==============================] - 133s 94ms/step - loss: 2.1268 - accuracy: 0.1083 - val_loss: 2.0991 - val_accuracy: 0.1089\n",
            "Epoch 3/10\n",
            "1412/1412 [==============================] - 134s 95ms/step - loss: 2.1003 - accuracy: 0.1094 - val_loss: 2.0898 - val_accuracy: 0.1094\n",
            "Epoch 4/10\n",
            "1412/1412 [==============================] - 134s 95ms/step - loss: 2.0948 - accuracy: 0.1098 - val_loss: 2.0869 - val_accuracy: 0.1093\n",
            "Epoch 5/10\n",
            "1412/1412 [==============================] - 133s 94ms/step - loss: 2.0732 - accuracy: 0.1103 - val_loss: 2.0876 - val_accuracy: 0.1090\n",
            "Epoch 6/10\n",
            "1412/1412 [==============================] - 135s 96ms/step - loss: 2.0590 - accuracy: 0.1102 - val_loss: 2.0907 - val_accuracy: 0.1092\n",
            "Epoch 7/10\n",
            "1412/1412 [==============================] - 134s 95ms/step - loss: 2.0499 - accuracy: 0.1103 - val_loss: 2.0962 - val_accuracy: 0.1091\n",
            "Epoch 8/10\n",
            "1412/1412 [==============================] - 134s 95ms/step - loss: 2.0226 - accuracy: 0.1111 - val_loss: 2.1019 - val_accuracy: 0.1092\n",
            "Epoch 9/10\n",
            "1412/1412 [==============================] - 134s 95ms/step - loss: 2.0211 - accuracy: 0.1107 - val_loss: 2.1098 - val_accuracy: 0.1088\n",
            "Epoch 10/10\n",
            "1412/1412 [==============================] - 133s 94ms/step - loss: 2.0056 - accuracy: 0.1111 - val_loss: 2.1186 - val_accuracy: 0.1079\n"
          ],
          "name": "stdout"
        }
      ]
    },
    {
      "cell_type": "code",
      "metadata": {
        "colab": {
          "base_uri": "https://localhost:8080/"
        },
        "id": "uPp20qinL-yM",
        "outputId": "58d3f1ab-3c71-4a06-87c8-a20a14236fcb"
      },
      "source": [
        "model.save('/content/drive/MyDrive/UnivAI/Univ AI 3/models/rnn_10epochs_fixed')"
      ],
      "execution_count": null,
      "outputs": [
        {
          "output_type": "stream",
          "text": [
            "INFO:tensorflow:Assets written to: /content/drive/MyDrive/UnivAI/Univ AI 3/models/rnn_10epochs_fixed/assets\n"
          ],
          "name": "stdout"
        }
      ]
    },
    {
      "cell_type": "markdown",
      "metadata": {
        "id": "NCGSGbNceHv7"
      },
      "source": [
        "<div class=\"alert alert-block alert-danger\" style=\"color:black;background-color:#E7F4FA\">\n",
        "\n",
        "**3.3.4** - Plot the train and validation loss. \n",
        "\n",
        "<br /><br />\n",
        "\n",
        "</div>"
      ]
    },
    {
      "cell_type": "code",
      "metadata": {
        "scrolled": true,
        "id": "BHWuvQbzeHv7",
        "colab": {
          "base_uri": "https://localhost:8080/",
          "height": 323
        },
        "outputId": "2fef11a4-7124-40f2-ed71-62a12fc5c1ab"
      },
      "source": [
        "# Your code here\n",
        "def plot_history(history, name):\n",
        "    fig, ax = plt.subplots(1,2, figsize=(12,4))\n",
        "    for i, metric in enumerate(['loss', 'accuracy']): \n",
        "        ax[i].plot(history.history[metric], label='Train')\n",
        "        ax[i].plot(history.history['val_'+metric], label='Validation')\n",
        "        if metric == 'accuracy': ax[i].axhline(0.5, c='r', ls='--', label='Trivial accuracy')\n",
        "        ax[i].set_xlabel('Epoch')\n",
        "        ax[i].set_ylabel(metric)\n",
        "    plt.suptitle(f'{name} Training', y=1.05)\n",
        "    plt.legend()\n",
        "    plt.tight_layout()\n",
        "\n",
        "plot_history(history, 'RNN')"
      ],
      "execution_count": null,
      "outputs": [
        {
          "output_type": "display_data",
          "data": {
            "image/png": "[encoded data removed]",
            "text/plain": [
              "<Figure size 864x288 with 2 Axes>"
            ]
          },
          "metadata": {
            "tags": [],
            "needs_background": "light"
          }
        }
      ]
    },
    {
      "cell_type": "markdown",
      "metadata": {
        "id": "LlizWM9CeHv7"
      },
      "source": [
        "<div class=\"alert alert-block alert-danger\" style=\"color:black;background-color:#E7F4FA\">\n",
        "\n",
        "### **3.4 [9 points] PREDICTING THE NEXT WORD**\n",
        "    \n",
        "<br />\n",
        "    \n",
        "**3.4.1** - Read the dataset `pp_text.csv`. Add the start and end tokens to each line and tokenize it. Convert each sentence to a sequence vector and post-pad to a length of 30. This will be the input for the prediction phase.\n",
        "<br /><br />\n",
        "    \n",
        "</div>"
      ]
    },
    {
      "cell_type": "markdown",
      "metadata": {
        "id": "-EdGafL1eHv7"
      },
      "source": [
        "*If you are using colab, the code in the next cell will help download the dataset directly onto your workspace.*"
      ]
    },
    {
      "cell_type": "code",
      "metadata": {
        "id": "MIE1oIaBeHv7"
      },
      "source": [
        "# Uncomment if you are using colab\n",
        "# !gdown --id \"1xeQ4w0iYJimzth0e3t3dQJbeuCsFlxVa\""
      ],
      "execution_count": null,
      "outputs": []
    },
    {
      "cell_type": "code",
      "metadata": {
        "id": "gGDI42Rfy6f7"
      },
      "source": [
        "model = load_model('/content/drive/MyDrive/UnivAI/Univ AI 3/models/rnn_20epochs')"
      ],
      "execution_count": null,
      "outputs": []
    },
    {
      "cell_type": "code",
      "metadata": {
        "id": "CBGWgunAeHv8",
        "colab": {
          "base_uri": "https://localhost:8080/",
          "height": 204
        },
        "outputId": "d0a78aa5-88a4-4541-e60d-5109df657482"
      },
      "source": [
        "# Your code here\n",
        "pp_text_df = pd.read_csv(\"/content/drive/MyDrive/UnivAI/Univ AI 3/pp_text.csv\")\n",
        "pp_text_df.columns=['text']\n",
        "pp_text_df.head()"
      ],
      "execution_count": null,
      "outputs": [
        {
          "output_type": "execute_result",
          "data": {
            "text/html": [
              "<div>\n",
              "<style scoped>\n",
              "    .dataframe tbody tr th:only-of-type {\n",
              "        vertical-align: middle;\n",
              "    }\n",
              "\n",
              "    .dataframe tbody tr th {\n",
              "        vertical-align: top;\n",
              "    }\n",
              "\n",
              "    .dataframe thead th {\n",
              "        text-align: right;\n",
              "    }\n",
              "</style>\n",
              "<table border=\"1\" class=\"dataframe\">\n",
              "  <thead>\n",
              "    <tr style=\"text-align: right;\">\n",
              "      <th></th>\n",
              "      <th>text</th>\n",
              "    </tr>\n",
              "  </thead>\n",
              "  <tbody>\n",
              "    <tr>\n",
              "      <th>0</th>\n",
              "      <td>When you make changes please always check if e...</td>\n",
              "    </tr>\n",
              "    <tr>\n",
              "      <th>1</th>\n",
              "      <td>I found them very similar</td>\n",
              "    </tr>\n",
              "    <tr>\n",
              "      <th>2</th>\n",
              "      <td>Give some overview of what the exercises are a...</td>\n",
              "    </tr>\n",
              "    <tr>\n",
              "      <th>3</th>\n",
              "      <td>Honestly I do not remember</td>\n",
              "    </tr>\n",
              "    <tr>\n",
              "      <th>4</th>\n",
              "      <td>Can you check the video</td>\n",
              "    </tr>\n",
              "  </tbody>\n",
              "</table>\n",
              "</div>"
            ],
            "text/plain": [
              "                                                text\n",
              "0  When you make changes please always check if e...\n",
              "1                          I found them very similar\n",
              "2  Give some overview of what the exercises are a...\n",
              "3                         Honestly I do not remember\n",
              "4                            Can you check the video"
            ]
          },
          "metadata": {
            "tags": []
          },
          "execution_count": 150
        }
      ]
    },
    {
      "cell_type": "code",
      "metadata": {
        "colab": {
          "base_uri": "https://localhost:8080/",
          "height": 204
        },
        "id": "GyES7IllOl62",
        "outputId": "6267d187-1856-4f24-b121-6adbf4a90eff"
      },
      "source": [
        "pp_text_clean = clean_data(pp_text_df)\n",
        "pp_text_clean.head()"
      ],
      "execution_count": null,
      "outputs": [
        {
          "output_type": "execute_result",
          "data": {
            "text/html": [
              "<div>\n",
              "<style scoped>\n",
              "    .dataframe tbody tr th:only-of-type {\n",
              "        vertical-align: middle;\n",
              "    }\n",
              "\n",
              "    .dataframe tbody tr th {\n",
              "        vertical-align: top;\n",
              "    }\n",
              "\n",
              "    .dataframe thead th {\n",
              "        text-align: right;\n",
              "    }\n",
              "</style>\n",
              "<table border=\"1\" class=\"dataframe\">\n",
              "  <thead>\n",
              "    <tr style=\"text-align: right;\">\n",
              "      <th></th>\n",
              "      <th>text</th>\n",
              "    </tr>\n",
              "  </thead>\n",
              "  <tbody>\n",
              "    <tr>\n",
              "      <th>0</th>\n",
              "      <td>&lt;s&gt; when you make changes please always check ...</td>\n",
              "    </tr>\n",
              "    <tr>\n",
              "      <th>1</th>\n",
              "      <td>&lt;s&gt; i found them very similar &lt;/s&gt;</td>\n",
              "    </tr>\n",
              "    <tr>\n",
              "      <th>2</th>\n",
              "      <td>&lt;s&gt; give some overview of what the exercises a...</td>\n",
              "    </tr>\n",
              "    <tr>\n",
              "      <th>3</th>\n",
              "      <td>&lt;s&gt; honestly i do not remember &lt;/s&gt;</td>\n",
              "    </tr>\n",
              "    <tr>\n",
              "      <th>4</th>\n",
              "      <td>&lt;s&gt; can you check the video &lt;/s&gt;</td>\n",
              "    </tr>\n",
              "  </tbody>\n",
              "</table>\n",
              "</div>"
            ],
            "text/plain": [
              "                                                text\n",
              "0  <s> when you make changes please always check ...\n",
              "1                 <s> i found them very similar </s>\n",
              "2  <s> give some overview of what the exercises a...\n",
              "3                <s> honestly i do not remember </s>\n",
              "4                   <s> can you check the video </s>"
            ]
          },
          "metadata": {
            "tags": []
          },
          "execution_count": 151
        }
      ]
    },
    {
      "cell_type": "code",
      "metadata": {
        "id": "3HUy-KkfOxXc"
      },
      "source": [
        "pp_text_seq_df=pd.DataFrame()\n",
        "pp_text_seq_df['text'] = tok.texts_to_sequences(pp_text_clean.text)"
      ],
      "execution_count": null,
      "outputs": []
    },
    {
      "cell_type": "code",
      "metadata": {
        "colab": {
          "base_uri": "https://localhost:8080/",
          "height": 204
        },
        "id": "wuy7vOP7PUR8",
        "outputId": "e4d01c27-f5b5-4137-eea8-215585fcb36d"
      },
      "source": [
        "pp_text_seq_df.head()"
      ],
      "execution_count": null,
      "outputs": [
        {
          "output_type": "execute_result",
          "data": {
            "text/html": [
              "<div>\n",
              "<style scoped>\n",
              "    .dataframe tbody tr th:only-of-type {\n",
              "        vertical-align: middle;\n",
              "    }\n",
              "\n",
              "    .dataframe tbody tr th {\n",
              "        vertical-align: top;\n",
              "    }\n",
              "\n",
              "    .dataframe thead th {\n",
              "        text-align: right;\n",
              "    }\n",
              "</style>\n",
              "<table border=\"1\" class=\"dataframe\">\n",
              "  <thead>\n",
              "    <tr style=\"text-align: right;\">\n",
              "      <th></th>\n",
              "      <th>text</th>\n",
              "    </tr>\n",
              "  </thead>\n",
              "  <tbody>\n",
              "    <tr>\n",
              "      <th>0</th>\n",
              "      <td>[1, 1041, 232, 29, 1229, 511, 115, 774, 374, 1...</td>\n",
              "    </tr>\n",
              "    <tr>\n",
              "      <th>1</th>\n",
              "      <td>[1, 53, 159, 191, 1503, 695, 2]</td>\n",
              "    </tr>\n",
              "    <tr>\n",
              "      <th>2</th>\n",
              "      <td>[1, 102, 1267, 597, 434, 10, 872, 95, 648, 148...</td>\n",
              "    </tr>\n",
              "    <tr>\n",
              "      <th>3</th>\n",
              "      <td>[1, 1175, 53, 466, 302, 280, 2]</td>\n",
              "    </tr>\n",
              "    <tr>\n",
              "      <th>4</th>\n",
              "      <td>[1, 1913, 232, 774, 10, 331, 2]</td>\n",
              "    </tr>\n",
              "  </tbody>\n",
              "</table>\n",
              "</div>"
            ],
            "text/plain": [
              "                                                text\n",
              "0  [1, 1041, 232, 29, 1229, 511, 115, 774, 374, 1...\n",
              "1                    [1, 53, 159, 191, 1503, 695, 2]\n",
              "2  [1, 102, 1267, 597, 434, 10, 872, 95, 648, 148...\n",
              "3                    [1, 1175, 53, 466, 302, 280, 2]\n",
              "4                    [1, 1913, 232, 774, 10, 331, 2]"
            ]
          },
          "metadata": {
            "tags": []
          },
          "execution_count": 153
        }
      ]
    },
    {
      "cell_type": "markdown",
      "metadata": {
        "id": "Br5MBr-aeHv8"
      },
      "source": [
        "<div class=\"alert alert-block alert-danger\" style=\"color:black;background-color:#E7F4FA\">\n",
        "\n",
        "\n",
        "**3.4.2** - For predicting the next word, use the trained RNN model from above. \n",
        "\n",
        "NOTE - Based on your implementation, the output of the RNN model might have to be different from that of your trained network. You can make use of Keras function API for this.\n",
        "<br /><br />\n",
        "\n",
        "\n",
        "    \n",
        "</div>"
      ]
    },
    {
      "cell_type": "markdown",
      "metadata": {
        "id": "VyHJgB1MeHv8"
      },
      "source": [
        "<div class=\"alert alert-block alert-danger\" style=\"color:black;background-color:#E7F4FA\">\n",
        "\n",
        "**3.4.3** - Choose any sentence from the list of Pavlos' texts to predict the next word. Input this to the RNN model built for prediction and print the predicted word. Try this out with multiple sentences.\n",
        "<br /><br />\n",
        "    \n",
        "</div>"
      ]
    },
    {
      "cell_type": "code",
      "metadata": {
        "colab": {
          "base_uri": "https://localhost:8080/"
        },
        "id": "PdDrOTlIZbHJ",
        "outputId": "f8258be0-bc77-441c-9468-0eb1a154b654"
      },
      "source": [
        "idx=3\n",
        "print(\"Actual sentence: \",pp_text_df.text[idx])\n",
        "print(\"Sentence sequence: \", pp_text_seq_df.text[idx])"
      ],
      "execution_count": null,
      "outputs": [
        {
          "output_type": "stream",
          "text": [
            "Actual sentence:  Honestly I do not remember\n",
            "Sentence sequence:  [1, 1175, 53, 466, 302, 280, 2]\n"
          ],
          "name": "stdout"
        }
      ]
    },
    {
      "cell_type": "code",
      "metadata": {
        "id": "TJFFxCaIeHv8"
      },
      "source": [
        "# Your code here\n",
        "y_test_pred = model.predict(pp_text_seq_df.text[idx][:-2], batch_size=1)"
      ],
      "execution_count": null,
      "outputs": []
    },
    {
      "cell_type": "code",
      "metadata": {
        "colab": {
          "base_uri": "https://localhost:8080/"
        },
        "id": "EsI3VUXUH9ts",
        "outputId": "a3007a0d-b569-4a1c-96b9-b9a6a300ee63"
      },
      "source": [
        "y_test_pred.shape"
      ],
      "execution_count": null,
      "outputs": [
        {
          "output_type": "execute_result",
          "data": {
            "text/plain": [
              "(5, 1, 5000)"
            ]
          },
          "metadata": {
            "tags": []
          },
          "execution_count": 255
        }
      ]
    },
    {
      "cell_type": "code",
      "metadata": {
        "id": "PjKYBFYParBr"
      },
      "source": [
        "last_word_seq = np.argmax(y_test_pred,axis=2)[-1]"
      ],
      "execution_count": null,
      "outputs": []
    },
    {
      "cell_type": "code",
      "metadata": {
        "colab": {
          "base_uri": "https://localhost:8080/"
        },
        "id": "oZ5laeMoUjY8",
        "outputId": "6f100994-cb76-4c09-ef4b-403cc77453f3"
      },
      "source": [
        "predicted_word = tok.sequences_to_texts([last_word_seq])[0]\n",
        "print(\"predicted last word = \", predicted_word)"
      ],
      "execution_count": null,
      "outputs": [
        {
          "output_type": "stream",
          "text": [
            "predicted last word =  film\n"
          ],
          "name": "stdout"
        }
      ]
    },
    {
      "cell_type": "markdown",
      "metadata": {
        "id": "jaFRIBhDeHv8"
      },
      "source": [
        "<div class=\"alert alert-block alert-danger\" style=\"color:black;background-color:#E7F4FA\">\n",
        "\n",
        "**3.4.4** - Do you notice any pattern in the predicted words? Do they seem approriate to the context of the texts as you understand it? What do you attribute this discrepency to? How can you resolve it?\n",
        "\n",
        "Answer in less than 150 words.\n",
        "<br /><br />\n",
        "    \n",
        "</div>"
      ]
    },
    {
      "cell_type": "markdown",
      "metadata": {
        "id": "ACjJfO-TeHv8"
      },
      "source": [
        "#### The results are not exactly in the context of the pp_text, but it is because the last words in pp_text have occured in altogether a different context while training the model with imdb data, hence the predictions are made accordingly."
      ]
    },
    {
      "cell_type": "markdown",
      "metadata": {
        "id": "FuZ-laWieHv9"
      },
      "source": [
        "<div class=\"alert alert-block alert-danger\" style=\"color:black;background-color:#E7F4FA\">\n",
        "\n",
        "\n",
        "### **3.5 [6 points] TRAINING AND PREDICTING WITH A DIFFERENT DATASET**\n",
        "<br />\n",
        "    \n",
        "**3.5.1** - Read the dataset `cleaned_sarcasm.csv`. This dataset has been preprocessed for you, all you need to do is tokenize, convert to sequence and pad it, similar to 3.2.1, 3.2.2 and 3.3.1.\n",
        "<br /><br />\n",
        "    \n",
        "</div>"
      ]
    },
    {
      "cell_type": "markdown",
      "metadata": {
        "id": "t90ibxTueHv9"
      },
      "source": [
        "*If you are using colab, the code in the next cell will help download the dataset directly onto your workspace.*"
      ]
    },
    {
      "cell_type": "code",
      "metadata": {
        "id": "gj5peWaMeHv9"
      },
      "source": [
        "# Uncomment if you are using colab\n",
        "# !gdown --id \"1pMUuhoKsZVnktosQRuqAutfd3J4sFUsa\"\n"
      ],
      "execution_count": null,
      "outputs": []
    },
    {
      "cell_type": "code",
      "metadata": {
        "id": "BaLH26CieHv9"
      },
      "source": [
        "# Your code here\n",
        "sarcasm_data_path = \"/content/drive/MyDrive/UnivAI/Univ AI 3/cleaned_sarcasm.csv\"\n",
        "sarcasm_data = pd.read_csv(sarcasm_data_path)"
      ],
      "execution_count": null,
      "outputs": []
    },
    {
      "cell_type": "code",
      "metadata": {
        "colab": {
          "base_uri": "https://localhost:8080/",
          "height": 204
        },
        "id": "OmGWzIgPUONd",
        "outputId": "b69fcf47-a83d-4cd5-97ac-535fadf5a150"
      },
      "source": [
        "sarcasm_data.head()"
      ],
      "execution_count": null,
      "outputs": [
        {
          "output_type": "execute_result",
          "data": {
            "text/html": [
              "<div>\n",
              "<style scoped>\n",
              "    .dataframe tbody tr th:only-of-type {\n",
              "        vertical-align: middle;\n",
              "    }\n",
              "\n",
              "    .dataframe tbody tr th {\n",
              "        vertical-align: top;\n",
              "    }\n",
              "\n",
              "    .dataframe thead th {\n",
              "        text-align: right;\n",
              "    }\n",
              "</style>\n",
              "<table border=\"1\" class=\"dataframe\">\n",
              "  <thead>\n",
              "    <tr style=\"text-align: right;\">\n",
              "      <th></th>\n",
              "      <th>text</th>\n",
              "    </tr>\n",
              "  </thead>\n",
              "  <tbody>\n",
              "    <tr>\n",
              "      <th>0</th>\n",
              "      <td>you do know west teams play against west teams...</td>\n",
              "    </tr>\n",
              "    <tr>\n",
              "      <th>1</th>\n",
              "      <td>they were underdogs earlier today but since gr...</td>\n",
              "    </tr>\n",
              "    <tr>\n",
              "      <th>2</th>\n",
              "      <td>this meme isnt funny none of the new york nigg...</td>\n",
              "    </tr>\n",
              "    <tr>\n",
              "      <th>3</th>\n",
              "      <td>i dont pay attention to her but as long as she...</td>\n",
              "    </tr>\n",
              "    <tr>\n",
              "      <th>4</th>\n",
              "      <td>you dont have to you have a good build buy gam...</td>\n",
              "    </tr>\n",
              "  </tbody>\n",
              "</table>\n",
              "</div>"
            ],
            "text/plain": [
              "                                                text\n",
              "0  you do know west teams play against west teams...\n",
              "1  they were underdogs earlier today but since gr...\n",
              "2  this meme isnt funny none of the new york nigg...\n",
              "3  i dont pay attention to her but as long as she...\n",
              "4  you dont have to you have a good build buy gam..."
            ]
          },
          "metadata": {
            "tags": []
          },
          "execution_count": 193
        }
      ]
    },
    {
      "cell_type": "markdown",
      "metadata": {
        "id": "WTKc4PHkeHv9"
      },
      "source": [
        "<div class=\"alert alert-block alert-danger\" style=\"color:black;background-color:#E7F4FA\">\n",
        "\n",
        "**3.5.2** - Train your RNN model with this data and plot the train and validation trace plot. This part is similar to 3.3.2, 3.3.3 and 3.3.4.\n",
        "<br /><br />\n",
        "    \n",
        "</div>"
      ]
    },
    {
      "cell_type": "code",
      "metadata": {
        "id": "MItF0zFKeHv9",
        "colab": {
          "base_uri": "https://localhost:8080/",
          "height": 204
        },
        "outputId": "52f375e1-00eb-4fca-d128-1e148df239dd"
      },
      "source": [
        "# Your code here\n",
        "sarcasm_clean_df = clean_data(new_df)\n",
        "sarcasm_clean_df.head()"
      ],
      "execution_count": null,
      "outputs": [
        {
          "output_type": "execute_result",
          "data": {
            "text/html": [
              "<div>\n",
              "<style scoped>\n",
              "    .dataframe tbody tr th:only-of-type {\n",
              "        vertical-align: middle;\n",
              "    }\n",
              "\n",
              "    .dataframe tbody tr th {\n",
              "        vertical-align: top;\n",
              "    }\n",
              "\n",
              "    .dataframe thead th {\n",
              "        text-align: right;\n",
              "    }\n",
              "</style>\n",
              "<table border=\"1\" class=\"dataframe\">\n",
              "  <thead>\n",
              "    <tr style=\"text-align: right;\">\n",
              "      <th></th>\n",
              "      <th>text</th>\n",
              "    </tr>\n",
              "  </thead>\n",
              "  <tbody>\n",
              "    <tr>\n",
              "      <th>0</th>\n",
              "      <td>&lt;s&gt; first think another disney movie might goo...</td>\n",
              "    </tr>\n",
              "    <tr>\n",
              "      <th>1</th>\n",
              "      <td>&lt;s&gt; watch it cant help enjoy it &lt;/s&gt;</td>\n",
              "    </tr>\n",
              "    <tr>\n",
              "      <th>2</th>\n",
              "      <td>&lt;s&gt; ages love movie &lt;/s&gt;</td>\n",
              "    </tr>\n",
              "    <tr>\n",
              "      <th>3</th>\n",
              "      <td>&lt;s&gt; first saw movie   years later still love i...</td>\n",
              "    </tr>\n",
              "    <tr>\n",
              "      <th>4</th>\n",
              "      <td>&lt;s&gt; danny glover superb could play part better...</td>\n",
              "    </tr>\n",
              "  </tbody>\n",
              "</table>\n",
              "</div>"
            ],
            "text/plain": [
              "                                                text\n",
              "0  <s> first think another disney movie might goo...\n",
              "1               <s> watch it cant help enjoy it </s>\n",
              "2                           <s> ages love movie </s>\n",
              "3  <s> first saw movie   years later still love i...\n",
              "4  <s> danny glover superb could play part better..."
            ]
          },
          "metadata": {
            "tags": []
          },
          "execution_count": 194
        }
      ]
    },
    {
      "cell_type": "code",
      "metadata": {
        "id": "cGeBZfKCVS2O"
      },
      "source": [
        "sarcasm_tok = Tokenizer(num_words=5000, filters='')"
      ],
      "execution_count": null,
      "outputs": []
    },
    {
      "cell_type": "code",
      "metadata": {
        "id": "bHfC3cMsVW1d"
      },
      "source": [
        "# Your code here\n",
        "sarcasm_seq_df = pd.DataFrame()\n",
        "sarcasm_tok.fit_on_texts(sarcasm_clean_df.text)\n",
        "sarcasm_seq_df['text'] =sarcasm_tok.texts_to_sequences(sarcasm_clean_df.text)"
      ],
      "execution_count": null,
      "outputs": []
    },
    {
      "cell_type": "code",
      "metadata": {
        "colab": {
          "base_uri": "https://localhost:8080/",
          "height": 204
        },
        "id": "R_riNtP7VfjI",
        "outputId": "9a8e809d-10df-458f-90c3-d000ca8cc940"
      },
      "source": [
        "sarcasm_seq_df.head()"
      ],
      "execution_count": null,
      "outputs": [
        {
          "output_type": "execute_result",
          "data": {
            "text/html": [
              "<div>\n",
              "<style scoped>\n",
              "    .dataframe tbody tr th:only-of-type {\n",
              "        vertical-align: middle;\n",
              "    }\n",
              "\n",
              "    .dataframe tbody tr th {\n",
              "        vertical-align: top;\n",
              "    }\n",
              "\n",
              "    .dataframe thead th {\n",
              "        text-align: right;\n",
              "    }\n",
              "</style>\n",
              "<table border=\"1\" class=\"dataframe\">\n",
              "  <thead>\n",
              "    <tr style=\"text-align: right;\">\n",
              "      <th></th>\n",
              "      <th>text</th>\n",
              "    </tr>\n",
              "  </thead>\n",
              "  <tbody>\n",
              "    <tr>\n",
              "      <th>0</th>\n",
              "      <td>[1, 25, 33, 75, 823, 4, 139, 9, 8, 266, 4, 2]</td>\n",
              "    </tr>\n",
              "    <tr>\n",
              "      <th>1</th>\n",
              "      <td>[1, 35, 15, 89, 239, 259, 15, 2]</td>\n",
              "    </tr>\n",
              "    <tr>\n",
              "      <th>2</th>\n",
              "      <td>[1, 1851, 45, 4, 2]</td>\n",
              "    </tr>\n",
              "    <tr>\n",
              "      <th>3</th>\n",
              "      <td>[1, 25, 113, 4, 63, 193, 50, 45, 15, 2]</td>\n",
              "    </tr>\n",
              "    <tr>\n",
              "      <th>4</th>\n",
              "      <td>[1, 1616, 3407, 830, 30, 207, 85, 51, 2]</td>\n",
              "    </tr>\n",
              "  </tbody>\n",
              "</table>\n",
              "</div>"
            ],
            "text/plain": [
              "                                            text\n",
              "0  [1, 25, 33, 75, 823, 4, 139, 9, 8, 266, 4, 2]\n",
              "1               [1, 35, 15, 89, 239, 259, 15, 2]\n",
              "2                            [1, 1851, 45, 4, 2]\n",
              "3        [1, 25, 113, 4, 63, 193, 50, 45, 15, 2]\n",
              "4       [1, 1616, 3407, 830, 30, 207, 85, 51, 2]"
            ]
          },
          "metadata": {
            "tags": []
          },
          "execution_count": 197
        }
      ]
    },
    {
      "cell_type": "code",
      "metadata": {
        "id": "ZeO7SGI-WPCZ"
      },
      "source": [
        "X_train_sarcasm = sarcasm_seq_df.text.apply(remove_a_word)\n",
        "y_train_sarcasm = sarcasm_seq_df.text.apply(remove_a_word, first=True)"
      ],
      "execution_count": null,
      "outputs": []
    },
    {
      "cell_type": "code",
      "metadata": {
        "id": "GKfbbuk7WYWc"
      },
      "source": [
        "# Your code here\n",
        "X_train_sarcasm = sequence.pad_sequences(X_train_sarcasm.values, maxlen=30, padding='post')\n",
        "y_train_sarcasm = sequence.pad_sequences(y_train_sarcasm.values, maxlen=30, padding='post')"
      ],
      "execution_count": null,
      "outputs": []
    },
    {
      "cell_type": "code",
      "metadata": {
        "id": "qc3rjTbcWhAb"
      },
      "source": [
        "embedding_size=300\n",
        "vocabulary_size = 5000\n",
        "\n",
        "model2 = Sequential()\n",
        "\n",
        "model2.add(Embedding(vocabulary_size, embedding_size, mask_zero=True, name='embedding'))\n",
        "model2.add(SimpleRNN(128, return_sequences=True, name='RNN_1'))\n",
        "model2.add(SimpleRNN(64, return_sequences=True, name='RNN_2'))\n",
        "model2.add(Dense(vocabulary_size, activation='softmax', name='dense'))"
      ],
      "execution_count": null,
      "outputs": []
    },
    {
      "cell_type": "code",
      "metadata": {
        "colab": {
          "base_uri": "https://localhost:8080/"
        },
        "id": "SPeBws5FWkLb",
        "outputId": "071ffbf8-bea9-454e-ca7d-7d97df5b0568"
      },
      "source": [
        "model2.compile(optimizer=\"Adam\", loss='sparse_categorical_crossentropy', metrics=['accuracy'])\n",
        "model2.summary()"
      ],
      "execution_count": null,
      "outputs": [
        {
          "output_type": "stream",
          "text": [
            "Model: \"sequential_2\"\n",
            "_________________________________________________________________\n",
            "Layer (type)                 Output Shape              Param #   \n",
            "=================================================================\n",
            "embedding (Embedding)        (None, None, 300)         1500000   \n",
            "_________________________________________________________________\n",
            "RNN_1 (SimpleRNN)            (None, None, 128)         54912     \n",
            "_________________________________________________________________\n",
            "RNN_2 (SimpleRNN)            (None, None, 64)          12352     \n",
            "_________________________________________________________________\n",
            "dense (Dense)                (None, None, 5000)        325000    \n",
            "=================================================================\n",
            "Total params: 1,892,264\n",
            "Trainable params: 1,892,264\n",
            "Non-trainable params: 0\n",
            "_________________________________________________________________\n"
          ],
          "name": "stdout"
        }
      ]
    },
    {
      "cell_type": "code",
      "metadata": {
        "colab": {
          "base_uri": "https://localhost:8080/"
        },
        "id": "m-G0CTlVWqwV",
        "outputId": "2cb14e2a-4715-4c0d-ca1f-5cd9b805ef28"
      },
      "source": [
        "history2 = model2.fit(X_train_sarcasm,y_train_sarcasm, epochs=10, validation_split=0.2, batch_size=64,verbose=1);"
      ],
      "execution_count": null,
      "outputs": [
        {
          "output_type": "stream",
          "text": [
            "Epoch 1/10\n",
            "1412/1412 [==============================] - 138s 96ms/step - loss: 2.1904 - accuracy: 0.1056 - val_loss: 2.1099 - val_accuracy: 0.1081\n",
            "Epoch 2/10\n",
            "1412/1412 [==============================] - 135s 95ms/step - loss: 2.1291 - accuracy: 0.1082 - val_loss: 2.1001 - val_accuracy: 0.1085\n",
            "Epoch 3/10\n",
            "1412/1412 [==============================] - 136s 96ms/step - loss: 2.1123 - accuracy: 0.1086 - val_loss: 2.0914 - val_accuracy: 0.1091\n",
            "Epoch 4/10\n",
            "1412/1412 [==============================] - 137s 97ms/step - loss: 2.0937 - accuracy: 0.1096 - val_loss: 2.0878 - val_accuracy: 0.1095\n",
            "Epoch 5/10\n",
            "1412/1412 [==============================] - 136s 96ms/step - loss: 2.0742 - accuracy: 0.1101 - val_loss: 2.0880 - val_accuracy: 0.1091\n",
            "Epoch 6/10\n",
            "1412/1412 [==============================] - 134s 95ms/step - loss: 2.0638 - accuracy: 0.1102 - val_loss: 2.0911 - val_accuracy: 0.1091\n",
            "Epoch 7/10\n",
            "1412/1412 [==============================] - 137s 97ms/step - loss: 2.0502 - accuracy: 0.1102 - val_loss: 2.0966 - val_accuracy: 0.1090\n",
            "Epoch 8/10\n",
            "1412/1412 [==============================] - 138s 98ms/step - loss: 2.0332 - accuracy: 0.1104 - val_loss: 2.1043 - val_accuracy: 0.1087\n",
            "Epoch 9/10\n",
            "1412/1412 [==============================] - 137s 97ms/step - loss: 2.0055 - accuracy: 0.1113 - val_loss: 2.1141 - val_accuracy: 0.1069\n",
            "Epoch 10/10\n",
            "1412/1412 [==============================] - 136s 96ms/step - loss: 1.9982 - accuracy: 0.1114 - val_loss: 2.1247 - val_accuracy: 0.1060\n"
          ],
          "name": "stdout"
        }
      ]
    },
    {
      "cell_type": "code",
      "metadata": {
        "colab": {
          "base_uri": "https://localhost:8080/"
        },
        "id": "Qk5DvqW1foam",
        "outputId": "90d69261-1ebb-4737-ff8f-89498a7d7b87"
      },
      "source": [
        "model2.save('/content/drive/MyDrive/UnivAI/Univ AI 3/models/model2_rnn_10epochs')"
      ],
      "execution_count": null,
      "outputs": [
        {
          "output_type": "stream",
          "text": [
            "INFO:tensorflow:Assets written to: /content/drive/MyDrive/UnivAI/Univ AI 3/models/model2_rnn_10epochs/assets\n"
          ],
          "name": "stdout"
        }
      ]
    },
    {
      "cell_type": "code",
      "metadata": {
        "colab": {
          "base_uri": "https://localhost:8080/",
          "height": 323
        },
        "id": "P6SvDzARW6gD",
        "outputId": "1fd37620-e323-441c-a1c0-3718eb6df6f8"
      },
      "source": [
        "# Your code here\n",
        "def plot_history(history, name):\n",
        "    fig, ax = plt.subplots(1,2, figsize=(12,4))\n",
        "    for i, metric in enumerate(['loss', 'accuracy']): \n",
        "        ax[i].plot(history.history[metric], label='Train')\n",
        "        ax[i].plot(history.history['val_'+metric], label='Validation')\n",
        "        if metric == 'accuracy': ax[i].axhline(0.5, c='r', ls='--', label='Trivial accuracy')\n",
        "        ax[i].set_xlabel('Epoch')\n",
        "        ax[i].set_ylabel(metric)\n",
        "    plt.suptitle(f'{name} Training', y=1.05)\n",
        "    plt.legend()\n",
        "    plt.tight_layout()\n",
        "\n",
        "plot_history(history2, 'RNN')"
      ],
      "execution_count": null,
      "outputs": [
        {
          "output_type": "display_data",
          "data": {
            "image/png": "[encoded data removed]",
            "text/plain": [
              "<Figure size 864x288 with 2 Axes>"
            ]
          },
          "metadata": {
            "tags": [],
            "needs_background": "light"
          }
        }
      ]
    },
    {
      "cell_type": "markdown",
      "metadata": {
        "id": "P_Lp_yRleHv9"
      },
      "source": [
        "<div class=\"alert alert-block alert-danger\" style=\"color:black;background-color:#E7F4FA\">\n",
        "\n",
        "**3.5.3** - Repeat 3.4.1, 3.4.2 and 3.4.3 with the RNN model trained using the new dataset.\n",
        "<br /><br />\n",
        "\n",
        "</div>"
      ]
    },
    {
      "cell_type": "code",
      "metadata": {
        "id": "3NINDskVeHv9",
        "colab": {
          "base_uri": "https://localhost:8080/",
          "height": 204
        },
        "outputId": "bf5978b0-7cfa-4443-abf4-f3d5cb4c2ba0"
      },
      "source": [
        "# Your code here\n",
        "pp_text_df = pd.read_csv(\"/content/drive/MyDrive/UnivAI/Univ AI 3/pp_text.csv\")\n",
        "pp_text_df.columns=['text']\n",
        "pp_text_df.head()"
      ],
      "execution_count": null,
      "outputs": [
        {
          "output_type": "execute_result",
          "data": {
            "text/html": [
              "<div>\n",
              "<style scoped>\n",
              "    .dataframe tbody tr th:only-of-type {\n",
              "        vertical-align: middle;\n",
              "    }\n",
              "\n",
              "    .dataframe tbody tr th {\n",
              "        vertical-align: top;\n",
              "    }\n",
              "\n",
              "    .dataframe thead th {\n",
              "        text-align: right;\n",
              "    }\n",
              "</style>\n",
              "<table border=\"1\" class=\"dataframe\">\n",
              "  <thead>\n",
              "    <tr style=\"text-align: right;\">\n",
              "      <th></th>\n",
              "      <th>text</th>\n",
              "    </tr>\n",
              "  </thead>\n",
              "  <tbody>\n",
              "    <tr>\n",
              "      <th>0</th>\n",
              "      <td>When you make changes please always check if e...</td>\n",
              "    </tr>\n",
              "    <tr>\n",
              "      <th>1</th>\n",
              "      <td>I found them very similar</td>\n",
              "    </tr>\n",
              "    <tr>\n",
              "      <th>2</th>\n",
              "      <td>Give some overview of what the exercises are a...</td>\n",
              "    </tr>\n",
              "    <tr>\n",
              "      <th>3</th>\n",
              "      <td>Honestly I do not remember</td>\n",
              "    </tr>\n",
              "    <tr>\n",
              "      <th>4</th>\n",
              "      <td>Can you check the video</td>\n",
              "    </tr>\n",
              "  </tbody>\n",
              "</table>\n",
              "</div>"
            ],
            "text/plain": [
              "                                                text\n",
              "0  When you make changes please always check if e...\n",
              "1                          I found them very similar\n",
              "2  Give some overview of what the exercises are a...\n",
              "3                         Honestly I do not remember\n",
              "4                            Can you check the video"
            ]
          },
          "metadata": {
            "tags": []
          },
          "execution_count": 207
        }
      ]
    },
    {
      "cell_type": "code",
      "metadata": {
        "colab": {
          "base_uri": "https://localhost:8080/",
          "height": 204
        },
        "id": "MzI9_GGyYQOK",
        "outputId": "479c21ed-6ede-4349-f213-7027d6657c1b"
      },
      "source": [
        "pp_text_clean = clean_data(pp_text_df)\n",
        "pp_text_seq_df=pd.DataFrame()\n",
        "pp_text_seq_df['text'] = tok.texts_to_sequences(pp_text_clean.text)\n",
        "pp_text_seq_df.head()\n"
      ],
      "execution_count": null,
      "outputs": [
        {
          "output_type": "execute_result",
          "data": {
            "text/html": [
              "<div>\n",
              "<style scoped>\n",
              "    .dataframe tbody tr th:only-of-type {\n",
              "        vertical-align: middle;\n",
              "    }\n",
              "\n",
              "    .dataframe tbody tr th {\n",
              "        vertical-align: top;\n",
              "    }\n",
              "\n",
              "    .dataframe thead th {\n",
              "        text-align: right;\n",
              "    }\n",
              "</style>\n",
              "<table border=\"1\" class=\"dataframe\">\n",
              "  <thead>\n",
              "    <tr style=\"text-align: right;\">\n",
              "      <th></th>\n",
              "      <th>text</th>\n",
              "    </tr>\n",
              "  </thead>\n",
              "  <tbody>\n",
              "    <tr>\n",
              "      <th>0</th>\n",
              "      <td>[1, 1041, 232, 29, 1229, 511, 115, 774, 374, 1...</td>\n",
              "    </tr>\n",
              "    <tr>\n",
              "      <th>1</th>\n",
              "      <td>[1, 53, 159, 191, 1503, 695, 2]</td>\n",
              "    </tr>\n",
              "    <tr>\n",
              "      <th>2</th>\n",
              "      <td>[1, 102, 1267, 597, 434, 10, 872, 95, 648, 148...</td>\n",
              "    </tr>\n",
              "    <tr>\n",
              "      <th>3</th>\n",
              "      <td>[1, 1175, 53, 466, 302, 280, 2]</td>\n",
              "    </tr>\n",
              "    <tr>\n",
              "      <th>4</th>\n",
              "      <td>[1, 1913, 232, 774, 10, 331, 2]</td>\n",
              "    </tr>\n",
              "  </tbody>\n",
              "</table>\n",
              "</div>"
            ],
            "text/plain": [
              "                                                text\n",
              "0  [1, 1041, 232, 29, 1229, 511, 115, 774, 374, 1...\n",
              "1                    [1, 53, 159, 191, 1503, 695, 2]\n",
              "2  [1, 102, 1267, 597, 434, 10, 872, 95, 648, 148...\n",
              "3                    [1, 1175, 53, 466, 302, 280, 2]\n",
              "4                    [1, 1913, 232, 774, 10, 331, 2]"
            ]
          },
          "metadata": {
            "tags": []
          },
          "execution_count": 208
        }
      ]
    },
    {
      "cell_type": "code",
      "metadata": {
        "colab": {
          "base_uri": "https://localhost:8080/"
        },
        "id": "L-fV_kBggNRN",
        "outputId": "259912a8-c434-45ed-9785-2738834dbf2f"
      },
      "source": [
        "idx=3\n",
        "print(\"Actual sentence: \",pp_text_df.text[idx])\n",
        "print(\"Sentence sequence: \", pp_text_seq_df.text[idx])"
      ],
      "execution_count": null,
      "outputs": [
        {
          "output_type": "stream",
          "text": [
            "Actual sentence:  Honestly I do not remember\n",
            "Sentence sequence:  [1, 1175, 53, 466, 302, 280, 2]\n"
          ],
          "name": "stdout"
        }
      ]
    },
    {
      "cell_type": "code",
      "metadata": {
        "id": "Ou--lzT5fQDJ"
      },
      "source": [
        "# Your code here\n",
        "y_test_pred = model2.predict(pp_text_seq_df.text[idx][:-2], batch_size=1)"
      ],
      "execution_count": null,
      "outputs": []
    },
    {
      "cell_type": "code",
      "metadata": {
        "id": "MeWoeAxygBoc"
      },
      "source": [
        "last_word_seq = np.argmax(y_test_pred,axis=2)[-1]"
      ],
      "execution_count": null,
      "outputs": []
    },
    {
      "cell_type": "code",
      "metadata": {
        "colab": {
          "base_uri": "https://localhost:8080/"
        },
        "id": "HEOD1sGZfl1J",
        "outputId": "4593d8ed-d74b-4fe6-ef0a-207a6c10a137"
      },
      "source": [
        "predicted_word = tok.sequences_to_texts([last_word_seq])[0]\n",
        "print(\"predicted last word = \", predicted_word)"
      ],
      "execution_count": null,
      "outputs": [
        {
          "output_type": "stream",
          "text": [
            "predicted last word =  movie\n"
          ],
          "name": "stdout"
        }
      ]
    },
    {
      "cell_type": "markdown",
      "metadata": {
        "id": "H29yqyw8eHv-"
      },
      "source": [
        "<div class=\"alert alert-block alert-danger\" style=\"color:black;background-color:#E7F4FA\">\n",
        "\n",
        "**3.5.4** - How do the results with the new dataset compare to the previous ones? Why do you think so? \n",
        "\n",
        "Answer in less than 100 words.\n",
        "<br /><br />\n",
        "    \n",
        "</div>"
      ]
    },
    {
      "cell_type": "markdown",
      "metadata": {
        "id": "xDk_guEjiVe-"
      },
      "source": [
        "Predictions are almost similar, this is because the last word in the pp_text often ends up occuring together with similar set of words in both imbd and sarcasm data."
      ]
    },
    {
      "cell_type": "markdown",
      "metadata": {
        "id": "w5xjXvFfeHv-"
      },
      "source": [
        "<div class=\"alert alert-block alert-danger\" style=\"color:black;background-color:#E7F4FA\">\n",
        "\n",
        "\n",
        "### **3.6 [3 points] COMPLETING THE SENTENCE**\n",
        "<br />\n",
        "\n",
        "**3.6.1** Until now we have predicted a single word for a given sentence. However, what if he meant more than one word when he typed in `...`\n",
        "\n",
        "We will now predict multiple words for each input sentence. To do this we will first predict one word, append this word to the input text and then predict one more with the updated input. Continue doing this for 5 words or until the end token `</s>` (whichever comes first). \n",
        "<br /><br />\n",
        "\n",
        "</div>"
      ]
    },
    {
      "cell_type": "code",
      "metadata": {
        "id": "dVwi2sztp4-Y"
      },
      "source": [
        "input_sent = pp_text_seq_df.text[idx][:-2]"
      ],
      "execution_count": null,
      "outputs": []
    },
    {
      "cell_type": "code",
      "metadata": {
        "id": "7Dn4xmO4qb0A"
      },
      "source": [
        "input_sent.append(4)"
      ],
      "execution_count": null,
      "outputs": []
    },
    {
      "cell_type": "code",
      "metadata": {
        "colab": {
          "base_uri": "https://localhost:8080/"
        },
        "id": "LzI8epMXqpVX",
        "outputId": "1b160587-b855-46c3-8c62-7aa57c99b07b"
      },
      "source": [
        "input_sent"
      ],
      "execution_count": null,
      "outputs": [
        {
          "output_type": "execute_result",
          "data": {
            "text/plain": [
              "[1, 1175, 53, 466, 302, 4]"
            ]
          },
          "metadata": {
            "tags": []
          },
          "execution_count": 283
        }
      ]
    },
    {
      "cell_type": "code",
      "metadata": {
        "colab": {
          "base_uri": "https://localhost:8080/"
        },
        "id": "GdxgVI65qgFw",
        "outputId": "e011807e-cfbf-4307-c9ad-46638641783e"
      },
      "source": [
        "pp_text_seq_df.text[idx][:-2]"
      ],
      "execution_count": null,
      "outputs": [
        {
          "output_type": "execute_result",
          "data": {
            "text/plain": [
              "[1, 1175, 53, 466, 302]"
            ]
          },
          "metadata": {
            "tags": []
          },
          "execution_count": 277
        }
      ]
    },
    {
      "cell_type": "code",
      "metadata": {
        "id": "gte6ERQ4eHv-"
      },
      "source": [
        "# Your code here\n",
        "def predict_word_seq(estimator, sent_idx):\n",
        "  pred_sent = []\n",
        "  idx=sent_idx\n",
        "  input_sent = pp_text_seq_df.text[idx][:-2]\n",
        "  for i in range(5):\n",
        "    y_test_pred = estimator.predict(input_sent, batch_size=1)\n",
        "    last_word_seq = np.argmax(y_test_pred,axis=2)[-1]\n",
        "    input_sent.append(last_word_seq[0])\n",
        "    last_word = tok.sequences_to_texts([last_word_seq])[0]\n",
        "    pred_sent.append(last_word)\n",
        "    if last_word == '</s>':\n",
        "      break\n",
        "  return pred_sent"
      ],
      "execution_count": null,
      "outputs": []
    },
    {
      "cell_type": "code",
      "metadata": {
        "colab": {
          "base_uri": "https://localhost:8080/"
        },
        "id": "DQhhP49Vrfce",
        "outputId": "a61326d3-b4e4-4c81-acc1-ae47691b47de"
      },
      "source": [
        "sent_idx = 4\n",
        "pred_sent = predict_word_seq(model, sent_idx)\n",
        "print(\"Actual sentence: \",pp_text_df.text[sent_idx])\n",
        "print(\"Predicted word sequence with model1 = \", \" \".join(pred_sent))"
      ],
      "execution_count": null,
      "outputs": [
        {
          "output_type": "stream",
          "text": [
            "Actual sentence:  Can you check the video\n",
            "Predicted word sequence with model1 =  also performance </s>\n"
          ],
          "name": "stdout"
        }
      ]
    },
    {
      "cell_type": "code",
      "metadata": {
        "colab": {
          "base_uri": "https://localhost:8080/"
        },
        "id": "26ZI2osGrCPp",
        "outputId": "169830be-8535-470c-8fc7-05713b85d3ea"
      },
      "source": [
        "sent_idx = 4\n",
        "pred_sent = predict_word_seq(model2, sent_idx)\n",
        "print(\"Actual sentence: \",pp_text_df.text[sent_idx])\n",
        "print(\"Predicted word sequence with model2 = \", \" \".join(pred_sent))"
      ],
      "execution_count": null,
      "outputs": [
        {
          "output_type": "stream",
          "text": [
            "Actual sentence:  Can you check the video\n",
            "Predicted word sequence with model2 =  also like movies seen times\n"
          ],
          "name": "stdout"
        }
      ]
    },
    {
      "cell_type": "markdown",
      "metadata": {
        "id": "bfCgZwbMeHv-"
      },
      "source": [
        "<div class=\"alert alert-block alert-danger\" style=\"color:black;background-color:#E7F4FA\">\n",
        "\n",
        "### **3.7 [3 points] HOMEWORK QUIZ**\n",
        "<br />\n",
        "After attempting this part of the homework, answer the questions on edStem. All the questions depend on this part of the homework and you will not be able to answer them without attempting this part.\n",
        "<br /><br />\n",
        "\n",
        "</div>"
      ]
    },
    {
      "cell_type": "markdown",
      "metadata": {
        "id": "bSMxkkAceHv-"
      },
      "source": [
        "#### Answer the questions on edStem"
      ]
    }
  ]
}